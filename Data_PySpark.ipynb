{
 "cells": [
  {
   "cell_type": "markdown",
   "metadata": {},
   "source": [
    "# Prepare the Enviornment"
   ]
  },
  {
   "cell_type": "markdown",
   "metadata": {},
   "source": [
    "Foremost run the following in the Faculty terminal\n",
    "\n",
    "#pip install pyspark\n",
    "<br>\n",
    "#sudo su\n",
    "<br>\n",
    "#apt-get update\n",
    "<br>\n",
    "#apt-get install openjdk-8-jdk-headless -qq > /dev/null <br>\n",
    "#wget -q https://archive.apache.org/dist/spark/spark-3.2.1/spark-3.2.1-bin-hadoop3.2.tgz<br>\n",
    "#tar xf spark-3.2.1-bin-hadoop3.2.tgz\n",
    "\n",
    "Then, download the PostgreSQL JDBC 4.2 and upload it on the faculty serves."
   ]
  },
  {
   "cell_type": "code",
   "execution_count": 298,
   "metadata": {},
   "outputs": [],
   "source": [
    "import os\n",
    "os.environ[\"JAVA_HOME\"] = \"/usr/lib/jvm/java-8-openjdk-amd64\"\n",
    "os.environ[\"SPARK_HOME\"] = \"/project/spark-3.2.1-bin-hadoop3.2\""
   ]
  },
  {
   "cell_type": "code",
   "execution_count": 299,
   "metadata": {},
   "outputs": [],
   "source": [
    "from pyspark.sql import SparkSession\n",
    "\n",
    "spark = SparkSession \\\n",
    "    .builder \\\n",
    "    .appName(\"PySpark App\") \\\n",
    "    .config(\"spark.jars\", \"/project/postgresql-42.3.2.jar\") \\\n",
    "    .getOrCreate()"
   ]
  },
  {
   "cell_type": "code",
   "execution_count": 300,
   "metadata": {},
   "outputs": [],
   "source": [
    "postgres_uri = \"jdbc:postgresql://dbwatches.cvzsgnwko6ng.eu-west-2.rds.amazonaws.com:5432/dbwatches\"\n",
    "user = \"postgres\"\n",
    "password = \"qwerty123\"\n",
    "dbtableWatch = \"watches_schema.watch\"\n",
    "dbtableBrand_Info = \"watches_schema.brand_information\"\n",
    "dbtableSocial_Info = \"watches_schema.social_information\"\n",
    "dbtableCompany_Desc = \"watches_schema.description\"\n",
    "dbtableFinancial_Info = \"watches_schema.financial_information\"\n",
    "dbtableBoard = \"watches_schema.board\"\n",
    "dbtableCharacteristics = \"watches_schema.characteristics\"\n",
    "dbtablePrices = \"watches_schema.prices\"\n",
    "dbtableSeller = \"watches_schema.seller\"\n",
    "\n"
   ]
  },
  {
   "cell_type": "code",
   "execution_count": 301,
   "metadata": {},
   "outputs": [
    {
     "name": "stdout",
     "output_type": "stream",
     "text": [
      "root\n",
      " |-- watch_code: string (nullable = true)\n",
      " |-- watch_reference: string (nullable = true)\n",
      " |-- brand: string (nullable = true)\n",
      " |-- watch_collection: string (nullable = true)\n",
      "\n",
      "+----------+---------------+-----+----------------+\n",
      "|watch_code|watch_reference|brand|watch_collection|\n",
      "+----------+---------------+-----+----------------+\n",
      "+----------+---------------+-----+----------------+\n",
      "\n"
     ]
    }
   ],
   "source": [
    "db_watch = spark.read \\\n",
    "    .format(\"jdbc\") \\\n",
    "    .option(\"url\", postgres_uri) \\\n",
    "    .option(\"dbtable\", dbtableWatch) \\\n",
    "    .option(\"user\", user) \\\n",
    "    .option(\"password\", password) \\\n",
    "    .option(\"driver\", \"org.postgresql.Driver\") \\\n",
    "    .load()\n",
    "\n",
    "db_watch.printSchema()\n",
    "db_watch.show()"
   ]
  },
  {
   "cell_type": "code",
   "execution_count": 302,
   "metadata": {},
   "outputs": [
    {
     "name": "stdout",
     "output_type": "stream",
     "text": [
      "root\n",
      " |-- brand: string (nullable = true)\n",
      " |-- holding_company: string (nullable = true)\n",
      " |-- headquarters: string (nullable = true)\n",
      " |-- company_type: string (nullable = true)\n",
      " |-- industry: string (nullable = true)\n",
      "\n",
      "+-----+---------------+------------+------------+--------+\n",
      "|brand|holding_company|headquarters|company_type|industry|\n",
      "+-----+---------------+------------+------------+--------+\n",
      "+-----+---------------+------------+------------+--------+\n",
      "\n"
     ]
    }
   ],
   "source": [
    "db_brand = spark.read \\\n",
    "    .format(\"jdbc\") \\\n",
    "    .option(\"url\", postgres_uri) \\\n",
    "    .option(\"dbtable\", dbtableBrand_Info) \\\n",
    "    .option(\"user\", user) \\\n",
    "    .option(\"password\", password) \\\n",
    "    .option(\"driver\", \"org.postgresql.Driver\") \\\n",
    "    .load()\n",
    "\n",
    "db_brand.printSchema()\n",
    "db_brand.show()"
   ]
  },
  {
   "cell_type": "code",
   "execution_count": 303,
   "metadata": {},
   "outputs": [
    {
     "name": "stdout",
     "output_type": "stream",
     "text": [
      "root\n",
      " |-- brand: string (nullable = true)\n",
      " |-- telephone_number: string (nullable = true)\n",
      " |-- company_website: string (nullable = true)\n",
      " |-- facebook: string (nullable = true)\n",
      " |-- twitter: string (nullable = true)\n",
      " |-- instagram: string (nullable = true)\n",
      " |-- weibo: string (nullable = true)\n",
      " |-- google: string (nullable = true)\n",
      " |-- line: string (nullable = true)\n",
      " |-- wechat: string (nullable = true)\n",
      " |-- youtube: string (nullable = true)\n",
      "\n",
      "+-----+----------------+---------------+--------+-------+---------+-----+------+----+------+-------+\n",
      "|brand|telephone_number|company_website|facebook|twitter|instagram|weibo|google|line|wechat|youtube|\n",
      "+-----+----------------+---------------+--------+-------+---------+-----+------+----+------+-------+\n",
      "+-----+----------------+---------------+--------+-------+---------+-----+------+----+------+-------+\n",
      "\n"
     ]
    }
   ],
   "source": [
    "db_social = spark.read \\\n",
    "    .format(\"jdbc\") \\\n",
    "    .option(\"url\", postgres_uri) \\\n",
    "    .option(\"dbtable\", dbtableSocial_Info) \\\n",
    "    .option(\"user\", user) \\\n",
    "    .option(\"password\", password) \\\n",
    "    .option(\"driver\", \"org.postgresql.Driver\") \\\n",
    "    .load()\n",
    "\n",
    "db_social.printSchema()\n",
    "db_social.show()"
   ]
  },
  {
   "cell_type": "code",
   "execution_count": 304,
   "metadata": {},
   "outputs": [
    {
     "name": "stdout",
     "output_type": "stream",
     "text": [
      "root\n",
      " |-- brand: string (nullable = true)\n",
      " |-- company_description: string (nullable = true)\n",
      " |-- founded: string (nullable = true)\n",
      " |-- founder: string (nullable = true)\n",
      "\n",
      "+-----+-------------------+-------+-------+\n",
      "|brand|company_description|founded|founder|\n",
      "+-----+-------------------+-------+-------+\n",
      "+-----+-------------------+-------+-------+\n",
      "\n"
     ]
    }
   ],
   "source": [
    "db_description = spark.read \\\n",
    "    .format(\"jdbc\") \\\n",
    "    .option(\"url\", postgres_uri) \\\n",
    "    .option(\"dbtable\", dbtableCompany_Desc) \\\n",
    "    .option(\"user\", user) \\\n",
    "    .option(\"password\", password) \\\n",
    "    .option(\"driver\", \"org.postgresql.Driver\") \\\n",
    "    .load()\n",
    "\n",
    "db_description.printSchema()\n",
    "db_description.show()"
   ]
  },
  {
   "cell_type": "code",
   "execution_count": 305,
   "metadata": {},
   "outputs": [
    {
     "name": "stdout",
     "output_type": "stream",
     "text": [
      "root\n",
      " |-- holding_company: string (nullable = true)\n",
      " |-- employees: string (nullable = true)\n",
      " |-- revenue: string (nullable = true)\n",
      " |-- net_income_growth: string (nullable = true)\n",
      " |-- enviornmental_social_governance_ranking: string (nullable = true)\n",
      " |-- subsidiaries: string (nullable = true)\n",
      "\n",
      "+---------------+---------+-------+-----------------+---------------------------------------+------------+\n",
      "|holding_company|employees|revenue|net_income_growth|enviornmental_social_governance_ranking|subsidiaries|\n",
      "+---------------+---------+-------+-----------------+---------------------------------------+------------+\n",
      "+---------------+---------+-------+-----------------+---------------------------------------+------------+\n",
      "\n"
     ]
    }
   ],
   "source": [
    "db_financial = spark.read \\\n",
    "    .format(\"jdbc\") \\\n",
    "    .option(\"url\", postgres_uri) \\\n",
    "    .option(\"dbtable\", dbtableFinancial_Info) \\\n",
    "    .option(\"user\", user) \\\n",
    "    .option(\"password\", password) \\\n",
    "    .option(\"driver\", \"org.postgresql.Driver\") \\\n",
    "    .load()\n",
    "\n",
    "db_financial.printSchema()\n",
    "db_financial.show()"
   ]
  },
  {
   "cell_type": "code",
   "execution_count": 306,
   "metadata": {},
   "outputs": [
    {
     "name": "stdout",
     "output_type": "stream",
     "text": [
      "root\n",
      " |-- holding_company: string (nullable = true)\n",
      " |-- managing_director: string (nullable = true)\n",
      " |-- board_chairman: string (nullable = true)\n",
      " |-- director: string (nullable = true)\n",
      "\n",
      "+---------------+-----------------+--------------+--------+\n",
      "|holding_company|managing_director|board_chairman|director|\n",
      "+---------------+-----------------+--------------+--------+\n",
      "+---------------+-----------------+--------------+--------+\n",
      "\n"
     ]
    }
   ],
   "source": [
    "db_board = spark.read \\\n",
    "    .format(\"jdbc\") \\\n",
    "    .option(\"url\", postgres_uri) \\\n",
    "    .option(\"dbtable\", dbtableBoard) \\\n",
    "    .option(\"user\", user) \\\n",
    "    .option(\"password\", password) \\\n",
    "    .option(\"driver\", \"org.postgresql.Driver\") \\\n",
    "    .load()\n",
    "\n",
    "db_board.printSchema()\n",
    "db_board.show()"
   ]
  },
  {
   "cell_type": "code",
   "execution_count": 307,
   "metadata": {},
   "outputs": [
    {
     "name": "stdout",
     "output_type": "stream",
     "text": [
      "root\n",
      " |-- watch_id: string (nullable = true)\n",
      " |-- watch_reference: string (nullable = true)\n",
      " |-- case_diameter: string (nullable = true)\n",
      " |-- watch_movement: string (nullable = true)\n",
      " |-- watch_case: string (nullable = true)\n",
      " |-- watch_dial: string (nullable = true)\n",
      " |-- watch_strap: string (nullable = true)\n",
      " |-- watch_markers: string (nullable = true)\n",
      " |-- watch_recipient: string (nullable = true)\n",
      " |-- watch_guarantee: string (nullable = true)\n",
      "\n",
      "+--------+---------------+-------------+--------------+----------+----------+-----------+-------------+---------------+---------------+\n",
      "|watch_id|watch_reference|case_diameter|watch_movement|watch_case|watch_dial|watch_strap|watch_markers|watch_recipient|watch_guarantee|\n",
      "+--------+---------------+-------------+--------------+----------+----------+-----------+-------------+---------------+---------------+\n",
      "+--------+---------------+-------------+--------------+----------+----------+-----------+-------------+---------------+---------------+\n",
      "\n"
     ]
    }
   ],
   "source": [
    "db_characteristics = spark.read \\\n",
    "    .format(\"jdbc\") \\\n",
    "    .option(\"url\", postgres_uri) \\\n",
    "    .option(\"dbtable\", dbtableCharacteristics) \\\n",
    "    .option(\"user\", user) \\\n",
    "    .option(\"password\", password) \\\n",
    "    .option(\"driver\", \"org.postgresql.Driver\") \\\n",
    "    .load()\n",
    "\n",
    "db_characteristics.printSchema()\n",
    "db_characteristics.show()"
   ]
  },
  {
   "cell_type": "code",
   "execution_count": 308,
   "metadata": {},
   "outputs": [
    {
     "name": "stdout",
     "output_type": "stream",
     "text": [
      "root\n",
      " |-- watch_id: string (nullable = true)\n",
      " |-- watch_reference: string (nullable = true)\n",
      " |-- production_year: string (nullable = true)\n",
      " |-- condition: string (nullable = true)\n",
      " |-- price: string (nullable = true)\n",
      " |-- aftermarket_price: string (nullable = true)\n",
      " |-- box_and_papers: string (nullable = true)\n",
      " |-- seller_id: string (nullable = true)\n",
      "\n",
      "+--------+---------------+---------------+---------+-----+-----------------+--------------+---------+\n",
      "|watch_id|watch_reference|production_year|condition|price|aftermarket_price|box_and_papers|seller_id|\n",
      "+--------+---------------+---------------+---------+-----+-----------------+--------------+---------+\n",
      "+--------+---------------+---------------+---------+-----+-----------------+--------------+---------+\n",
      "\n"
     ]
    }
   ],
   "source": [
    "db_prices = spark.read \\\n",
    "    .format(\"jdbc\") \\\n",
    "    .option(\"url\", postgres_uri) \\\n",
    "    .option(\"dbtable\", dbtablePrices) \\\n",
    "    .option(\"user\", user) \\\n",
    "    .option(\"password\", password) \\\n",
    "    .option(\"driver\", \"org.postgresql.Driver\") \\\n",
    "    .load()\n",
    "\n",
    "db_prices.printSchema()\n",
    "db_prices.show()"
   ]
  },
  {
   "cell_type": "code",
   "execution_count": 309,
   "metadata": {},
   "outputs": [
    {
     "name": "stdout",
     "output_type": "stream",
     "text": [
      "root\n",
      " |-- seller_id: string (nullable = true)\n",
      " |-- seller_location: string (nullable = true)\n",
      " |-- seller_rating: string (nullable = true)\n",
      "\n",
      "+---------+---------------+-------------+\n",
      "|seller_id|seller_location|seller_rating|\n",
      "+---------+---------------+-------------+\n",
      "+---------+---------------+-------------+\n",
      "\n"
     ]
    }
   ],
   "source": [
    "db_seller = spark.read \\\n",
    "    .format(\"jdbc\") \\\n",
    "    .option(\"url\", postgres_uri) \\\n",
    "    .option(\"dbtable\", dbtableSeller) \\\n",
    "    .option(\"user\", user) \\\n",
    "    .option(\"password\", password) \\\n",
    "    .option(\"driver\", \"org.postgresql.Driver\") \\\n",
    "    .load()\n",
    "\n",
    "db_seller.printSchema()\n",
    "db_seller.show()"
   ]
  },
  {
   "cell_type": "markdown",
   "metadata": {},
   "source": [
    "# Financial Table"
   ]
  },
  {
   "cell_type": "code",
   "execution_count": 310,
   "metadata": {},
   "outputs": [
    {
     "name": "stdout",
     "output_type": "stream",
     "text": [
      "+--------------------+---------+---------------+-----------------+---------------------------------------+--------------------+----------------+----------------+----------------+\n",
      "|     holding_company|employees|        revenue|net_income_growth|enviornmental_social_governance_ranking|   managing_director|  board_chairman|        director|    subsidiaries|\n",
      "+--------------------+---------+---------------+-----------------+---------------------------------------+--------------------+----------------+----------------+----------------+\n",
      "|Compagnie Financi...|   34,760| $15.96 billion|           39.44%|                                    3.0|      Jérôme Lambert|   Johann Rupert|  Cédric Bossert|145 Subsidiaries|\n",
      "|Audemars Piguet H...|      900|$160.12 million|             null|                                    1.0|François-Henri Be...|Jasmine Audemars|Nicolas Burgener| 19 Subsidiaries|\n",
      "+--------------------+---------+---------------+-----------------+---------------------------------------+--------------------+----------------+----------------+----------------+\n",
      "\n"
     ]
    }
   ],
   "source": [
    "financial = spark.read.parquet(\"/project/financial_information.parquet\")\n",
    "financial.show()"
   ]
  },
  {
   "cell_type": "code",
   "execution_count": 311,
   "metadata": {},
   "outputs": [],
   "source": [
    "financial.select(\"holding_company\",\"managing_director\",\"board_chairman\",\"director\").write.format(\"jdbc\") \\\n",
    "    .option(\"url\", postgres_uri) \\\n",
    "    .option(\"driver\", \"org.postgresql.Driver\") \\\n",
    "    .option(\"dbtable\", dbtableBoard) \\\n",
    "    .option(\"user\", user) \\\n",
    "    .mode(\"append\") \\\n",
    "    .option(\"password\", password).save()"
   ]
  },
  {
   "cell_type": "code",
   "execution_count": 312,
   "metadata": {},
   "outputs": [
    {
     "name": "stdout",
     "output_type": "stream",
     "text": [
      "+--------------------+--------------------+----------------+----------------+\n",
      "|     holding_company|   managing_director|  board_chairman|        director|\n",
      "+--------------------+--------------------+----------------+----------------+\n",
      "|Compagnie Financi...|      Jérôme Lambert|   Johann Rupert|  Cédric Bossert|\n",
      "|Audemars Piguet H...|François-Henri Be...|Jasmine Audemars|Nicolas Burgener|\n",
      "+--------------------+--------------------+----------------+----------------+\n",
      "\n"
     ]
    }
   ],
   "source": [
    "db_board.show()"
   ]
  },
  {
   "cell_type": "markdown",
   "metadata": {},
   "source": [
    "# Financial Table"
   ]
  },
  {
   "cell_type": "code",
   "execution_count": 313,
   "metadata": {},
   "outputs": [],
   "source": [
    "financial.select(\"holding_company\",\"employees\",\"revenue\",\"net_income_growth\",\"enviornmental_social_governance_ranking\",\"subsidiaries\").write.format(\"jdbc\") \\\n",
    "    .option(\"url\", postgres_uri) \\\n",
    "    .option(\"driver\", \"org.postgresql.Driver\") \\\n",
    "    .option(\"dbtable\", dbtableFinancial_Info) \\\n",
    "    .option(\"user\", user) \\\n",
    "    .mode(\"append\") \\\n",
    "    .option(\"password\", password).save()"
   ]
  },
  {
   "cell_type": "code",
   "execution_count": 314,
   "metadata": {},
   "outputs": [
    {
     "name": "stdout",
     "output_type": "stream",
     "text": [
      "+--------------------+---------+---------------+-----------------+---------------------------------------+----------------+\n",
      "|     holding_company|employees|        revenue|net_income_growth|enviornmental_social_governance_ranking|    subsidiaries|\n",
      "+--------------------+---------+---------------+-----------------+---------------------------------------+----------------+\n",
      "|Compagnie Financi...|   34,760| $15.96 billion|           39.44%|                                    3.0|145 Subsidiaries|\n",
      "|Audemars Piguet H...|      900|$160.12 million|             null|                                    1.0| 19 Subsidiaries|\n",
      "+--------------------+---------+---------------+-----------------+---------------------------------------+----------------+\n",
      "\n"
     ]
    }
   ],
   "source": [
    "db_financial.show()"
   ]
  },
  {
   "cell_type": "markdown",
   "metadata": {},
   "source": [
    "# Social Table"
   ]
  },
  {
   "cell_type": "code",
   "execution_count": 315,
   "metadata": {},
   "outputs": [
    {
     "name": "stdout",
     "output_type": "stream",
     "text": [
      "+---------------+--------------------+--------------------+----------------+--------------------+--------------------+--------------------+--------------------+--------------------+--------------------+--------------------+--------------------+--------------------+\n",
      "|   company_name|     holding_company| company_description|telephone_number|     company_website|            facebook|             twitter|           instagram|               weibo|              google|                line|              wechat|             youtube|\n",
      "+---------------+--------------------+--------------------+----------------+--------------------+--------------------+--------------------+--------------------+--------------------+--------------------+--------------------+--------------------+--------------------+\n",
      "|Audemars Piguet|Audemars Piguet H...|In 1875 Jules Lou...|+41 21 845 14 00|http://www.audema...|https://www.faceb...|https://twitter.c...|http://instagram....|http://weibo.com/...|https://plus.goog...|http://nav.cx/dQE...|https://www.audem...|http://www.youtub...|\n",
      "|        Cartier|Compagnie Financi...|Founded in 1847 i...|+41 22 715 35 00|http://www.cartie...|http://www.facebo...|http://twitter.co...|http://instagram....|http://e.weibo.co...|                null|http://www.cartie...|                null|http://www.youtub...|\n",
      "+---------------+--------------------+--------------------+----------------+--------------------+--------------------+--------------------+--------------------+--------------------+--------------------+--------------------+--------------------+--------------------+\n",
      "\n"
     ]
    }
   ],
   "source": [
    "social = spark.read.parquet(\"/project/social_information.parquet\")\n",
    "social.show()"
   ]
  },
  {
   "cell_type": "code",
   "execution_count": 316,
   "metadata": {},
   "outputs": [],
   "source": [
    "d_social = social.selectExpr(\"company_name as brand\",\n",
    "                             \"holding_company as holding_company\",\n",
    "                             \"company_description as company_description\",\n",
    "                             \"telephone_number as telephone_number\",\n",
    "                             \"company_website as company_website\",\n",
    "                             \"facebook as facebook\",\n",
    "                             \"twitter as twitter\",\n",
    "                             \"instagram as instagram\",\n",
    "                             \"weibo as weibo\",\n",
    "                             \"google as google\",\n",
    "                             \"line as line\",\n",
    "                             \"wechat as wechat\",\n",
    "                             \"youtube as youtube\")"
   ]
  },
  {
   "cell_type": "code",
   "execution_count": 317,
   "metadata": {},
   "outputs": [],
   "source": [
    "d_social.select(\"brand\", \n",
    "                \"telephone_number\",\n",
    "                \"company_website\",\n",
    "                \"facebook\",\n",
    "                \"twitter\",\n",
    "                \"instagram\",\n",
    "                \"weibo\",\n",
    "                \"google\",\n",
    "                \"line\",\n",
    "                \"wechat\",\n",
    "                \"youtube\").write.format(\"jdbc\") \\\n",
    "    .option(\"url\", postgres_uri) \\\n",
    "    .option(\"driver\", \"org.postgresql.Driver\") \\\n",
    "    .option(\"dbtable\", dbtableSocial_Info) \\\n",
    "    .option(\"user\", user) \\\n",
    "    .mode(\"append\") \\\n",
    "    .option(\"password\", password).save()"
   ]
  },
  {
   "cell_type": "code",
   "execution_count": 318,
   "metadata": {},
   "outputs": [
    {
     "name": "stdout",
     "output_type": "stream",
     "text": [
      "+---------------+----------------+--------------------+--------------------+--------------------+--------------------+--------------------+--------------------+--------------------+--------------------+--------------------+\n",
      "|          brand|telephone_number|     company_website|            facebook|             twitter|           instagram|               weibo|              google|                line|              wechat|             youtube|\n",
      "+---------------+----------------+--------------------+--------------------+--------------------+--------------------+--------------------+--------------------+--------------------+--------------------+--------------------+\n",
      "|Audemars Piguet|+41 21 845 14 00|http://www.audema...|https://www.faceb...|https://twitter.c...|http://instagram....|http://weibo.com/...|https://plus.goog...|http://nav.cx/dQE...|https://www.audem...|http://www.youtub...|\n",
      "|        Cartier|+41 22 715 35 00|http://www.cartie...|http://www.facebo...|http://twitter.co...|http://instagram....|http://e.weibo.co...|                null|http://www.cartie...|                null|http://www.youtub...|\n",
      "+---------------+----------------+--------------------+--------------------+--------------------+--------------------+--------------------+--------------------+--------------------+--------------------+--------------------+\n",
      "\n"
     ]
    }
   ],
   "source": [
    "db_social.show()"
   ]
  },
  {
   "cell_type": "markdown",
   "metadata": {},
   "source": [
    "# Description Table"
   ]
  },
  {
   "cell_type": "code",
   "execution_count": 319,
   "metadata": {},
   "outputs": [
    {
     "name": "stdout",
     "output_type": "stream",
     "text": [
      "+---------------+------------+--------------------+-------------------+--------------------+--------------------+-----------+--------------------+--------------------+--------------------+\n",
      "|          brand|company_type|            industry|            founded|             founder|        headquarters|area_served|            products| company_description|     holding_company|\n",
      "+---------------+------------+--------------------+-------------------+--------------------+--------------------+-----------+--------------------+--------------------+--------------------+\n",
      "|Audemars Piguet|     Private|  Luxury watchmaking|1875; 147 years ago|Jules Louis Audem...|Le Brassus, Switz...|  Worldwide|Mechanical watche...|In 1875 Jules Lou...|Audemars Piguet H...|\n",
      "|        Cartier|  Subsidiary|Jewellery manufac...|1847; 175 years ago|Louis-François Ca...|       Paris, France|  Worldwide|  Jewellery, watches|Founded in 1847 i...|Compagnie Financi...|\n",
      "+---------------+------------+--------------------+-------------------+--------------------+--------------------+-----------+--------------------+--------------------+--------------------+\n",
      "\n"
     ]
    }
   ],
   "source": [
    "more_info = spark.read.parquet(\"/project/more_information.parquet\")\n",
    "more_info.show()"
   ]
  },
  {
   "cell_type": "code",
   "execution_count": 320,
   "metadata": {},
   "outputs": [],
   "source": [
    "more_info.select(\"brand\", \"company_description\", \"founded\", \"founder\").write.format(\"jdbc\") \\\n",
    "    .option(\"url\", postgres_uri) \\\n",
    "    .option(\"driver\", \"org.postgresql.Driver\") \\\n",
    "    .option(\"dbtable\", dbtableCompany_Desc) \\\n",
    "    .option(\"user\", user) \\\n",
    "    .mode(\"append\") \\\n",
    "    .option(\"password\", password).save()"
   ]
  },
  {
   "cell_type": "code",
   "execution_count": 321,
   "metadata": {},
   "outputs": [
    {
     "name": "stdout",
     "output_type": "stream",
     "text": [
      "+---------------+--------------------+-------------------+--------------------+\n",
      "|          brand| company_description|            founded|             founder|\n",
      "+---------------+--------------------+-------------------+--------------------+\n",
      "|Audemars Piguet|In 1875 Jules Lou...|1875; 147 years ago|Jules Louis Audem...|\n",
      "|        Cartier|Founded in 1847 i...|1847; 175 years ago|Louis-François Ca...|\n",
      "+---------------+--------------------+-------------------+--------------------+\n",
      "\n"
     ]
    }
   ],
   "source": [
    "db_description.show()"
   ]
  },
  {
   "cell_type": "markdown",
   "metadata": {},
   "source": [
    "# Brand Table"
   ]
  },
  {
   "cell_type": "code",
   "execution_count": 322,
   "metadata": {},
   "outputs": [],
   "source": [
    "more_info.select(\"brand\", \"holding_company\", \"headquarters\", \"company_type\", \"industry\").write.format(\"jdbc\") \\\n",
    "    .option(\"url\", postgres_uri) \\\n",
    "    .option(\"driver\", \"org.postgresql.Driver\") \\\n",
    "    .option(\"dbtable\", dbtableBrand_Info) \\\n",
    "    .option(\"user\", user) \\\n",
    "    .mode(\"append\") \\\n",
    "    .option(\"password\", password).save()"
   ]
  },
  {
   "cell_type": "code",
   "execution_count": 323,
   "metadata": {},
   "outputs": [
    {
     "name": "stdout",
     "output_type": "stream",
     "text": [
      "+---------------+--------------------+--------------------+------------+--------------------+\n",
      "|          brand|     holding_company|        headquarters|company_type|            industry|\n",
      "+---------------+--------------------+--------------------+------------+--------------------+\n",
      "|Audemars Piguet|Audemars Piguet H...|Le Brassus, Switz...|     Private|  Luxury watchmaking|\n",
      "|        Cartier|Compagnie Financi...|       Paris, France|  Subsidiary|Jewellery manufac...|\n",
      "+---------------+--------------------+--------------------+------------+--------------------+\n",
      "\n"
     ]
    }
   ],
   "source": [
    "db_brand.show()"
   ]
  },
  {
   "cell_type": "markdown",
   "metadata": {},
   "source": [
    "# Watch Table"
   ]
  },
  {
   "cell_type": "code",
   "execution_count": 324,
   "metadata": {},
   "outputs": [
    {
     "name": "stdout",
     "output_type": "stream",
     "text": [
      "+----------+---------------+--------------------+--------------------+-----------+--------------+--------------------+----------+---------------+---------------+--------------------+--------------+---------------+\n",
      "|watch_code|    watch_brand|    watch_collection|     watch_reference|watch_price|watch_movement|          watch_case|watch_dial|    watch_strap|  watch_markers|     watch_guarantee|watch_category|watch_recipient|\n",
      "+----------+---------------+--------------------+--------------------+-----------+--------------+--------------------+----------+---------------+---------------+--------------------+--------------+---------------+\n",
      "|  17580962|Audemars Piguet|  Royal Oak Offshore|26420TI.OO.A027CA.01| £33,000.00|     Automatic|            Titanium|      Blue|         Rubber|         Batons|Audemars Piguet 2...|       Watches|        For Him|\n",
      "|  17580961|Audemars Piguet|  Royal Oak Offshore|26420SO.OO.A600CA.01| £34,100.00|     Automatic|Ceramic & Stainle...|     Brown|         Rubber|         Batons|Audemars Piguet 2...|       Watches|        For Him|\n",
      "|  17580960|Audemars Piguet|  Royal Oak Offshore|26420SO.OO.A002CA.01| £34,100.00|     Automatic|Ceramic & Stainle...|     Black|         Rubber|         Batons|Audemars Piguet 2...|       Watches|        For Him|\n",
      "|  17580959|Audemars Piguet|  Royal Oak Offshore|26420RO.OO.A002CA.01| £51,100.00|     Automatic|Ceramic & 18ct Ro...|     Black|         Rubber|         Batons|Audemars Piguet 2...|       Watches|        For Him|\n",
      "|  17580958|Audemars Piguet|  Royal Oak Offshore|26420IO.OO.A009CA.01| £34,100.00|     Automatic|                null|      Grey|         Rubber|         Batons|Audemars Piguet 2...|       Watches|        For Him|\n",
      "|  17580945|Audemars Piguet|Royal Oak Diver O...|15720ST.OO.A052CA.01| £23,100.00|     Automatic|     Stainless Steel|     Green|         Rubber|         Batons|Audemars Piguet 2...|       Watches|        For Him|\n",
      "|  17580910|Audemars Piguet|Royal Oak Diver O...|15720ST.OO.A027CA.01| £23,100.00|     Automatic|     Stainless Steel|      Navy|         Rubber|         Batons|Audemars Piguet 2...|       Watches|        For Him|\n",
      "|  17580909|Audemars Piguet|Royal Oak Diver O...|15720ST.OO.A009CA.01| £23,100.00|     Automatic|     Stainless Steel|      Grey|         Rubber|         Batons|Audemars Piguet 2...|       Watches|        For Him|\n",
      "|  17580888|Audemars Piguet|  Royal Oak Offshore|26231OR.ZZ.D003CA.01| £44,700.00|     Automatic|      18ct Rose Gold|    Silver|         Rubber|         Batons|Audemars Piguet 2...|       Watches|        For Her|\n",
      "|  17580887|Audemars Piguet|  Royal Oak Offshore|26231ST.ZZ.D027CA.01| £30,300.00|     Automatic|     Stainless Steel|      Blue|         Rubber|         Batons|Audemars Piguet 2...|       Watches|        For Her|\n",
      "|  17580873|Audemars Piguet|           Royal Oak|77351ST.ZZ.1261ST.01| £24,600.00|     Automatic|      18ct Rose Gold|    Silver| 18ct Rose Gold|           null|Audemars Piguet 2...|       Watches|        For Her|\n",
      "|  17580872|Audemars Piguet|           Royal Oak|77351OR.ZZ.1261OR.01| £46,400.00|     Automatic|      18ct Rose Gold|    Silver| 18ct Rose Gold|           null|Audemars Piguet 2...|       Watches|        For Her|\n",
      "|  17580869|Audemars Piguet|           Royal Oak|15500OR.OO.D002CR.01| £33,800.00|     Automatic|      18ct Rose Gold|     Black|      Alligator|         Batons|Audemars Piguet 2...|       Watches|        For Him|\n",
      "|  17580868|Audemars Piguet|           Royal Oak|15500OR.OO.1220OR.01| £52,800.00|     Automatic|      18ct Rose Gold|     Black| 18ct Rose Gold|         Batons|Audemars Piguet 2...|       Watches|        For Him|\n",
      "|  17580867|Audemars Piguet|           Royal Oak|77350ST.OO.1261ST.01| £19,200.00|     Automatic|     Stainless Steel|    Silver|Stainless Steel|           null|Audemars Piguet 2...|       Watches|        For Her|\n",
      "|  17580866|Audemars Piguet|           Royal Oak|77350SR.OO.1261SR.01| £22,600.00|     Automatic|     Stainless Steel|    Silver|Stainless Steel|           null|Audemars Piguet 2...|       Watches|        For Her|\n",
      "|  17580806|Audemars Piguet|  Royal Oak Offshore|26231ST.ZZ.D002CA.01| £30,300.00|     Automatic|     Stainless Steel|     Black|         Rubber|         Batons|Audemars Piguet 2...|       Watches|        For Her|\n",
      "|  17580804|Audemars Piguet|           Royal Oak|67650ST.OO.1261ST.01| £13,800.00|        Quartz|     Stainless Steel|     Black|Stainless Steel|         Batons|Audemars Piguet 2...|       Watches|        For Her|\n",
      "|  17580803|Audemars Piguet|           Royal Oak|67651SR.ZZ.1261SR.01| £21,000.00|        Quartz|     Stainless Steel|    Silver|Stainless Steel|Arabic Numerals|Audemars Piguet 2...|       Watches|        For Her|\n",
      "|  17311178|        Cartier|           Tank Must|            WSTA0041|  £2,310.00|        Quartz|     Stainless Steel|    Silver|           Calf| Roman Numerals|2 years + 6 years...|       Watches|        For Her|\n",
      "+----------+---------------+--------------------+--------------------+-----------+--------------+--------------------+----------+---------------+---------------+--------------------+--------------+---------------+\n",
      "only showing top 20 rows\n",
      "\n"
     ]
    }
   ],
   "source": [
    "watches = spark.read.parquet(\"/project/watches.parquet\")\n",
    "watches.show()"
   ]
  },
  {
   "cell_type": "code",
   "execution_count": 325,
   "metadata": {},
   "outputs": [],
   "source": [
    "d_watches = watches.selectExpr(\"watch_code as watch_code\", \n",
    "                               \"watch_brand as brand\", \n",
    "                               \"watch_collection as watch_collection\", \n",
    "                               \"watch_reference as watch_reference\", \n",
    "                               \"watch_price as watch_price\", \n",
    "                               \"watch_movement as watch_movement\", \n",
    "                               \"watch_case as watch_case\", \n",
    "                               \"watch_dial as watch_dial\", \n",
    "                               \"watch_strap as watch_strap\", \n",
    "                               \"watch_markers as watch_markers\", \n",
    "                               \"watch_guarantee as watch_guarantee\", \n",
    "                               \"watch_category as watch_category\", \n",
    "                               \"watch_recipient as watch_recipient\")\n",
    "\n"
   ]
  },
  {
   "cell_type": "code",
   "execution_count": 326,
   "metadata": {},
   "outputs": [],
   "source": [
    "d_watches.select(\"watch_reference\", \"watch_code\", \"brand\", \"watch_collection\").write.format(\"jdbc\") \\\n",
    "    .option(\"url\", postgres_uri) \\\n",
    "    .option(\"driver\", \"org.postgresql.Driver\") \\\n",
    "    .option(\"dbtable\", dbtableWatch) \\\n",
    "    .option(\"user\", user) \\\n",
    "    .mode(\"append\") \\\n",
    "    .option(\"password\", password).save()"
   ]
  },
  {
   "cell_type": "code",
   "execution_count": 327,
   "metadata": {},
   "outputs": [
    {
     "name": "stdout",
     "output_type": "stream",
     "text": [
      "+----------+--------------------+---------------+--------------------+\n",
      "|watch_code|     watch_reference|          brand|    watch_collection|\n",
      "+----------+--------------------+---------------+--------------------+\n",
      "|  17580962|26420TI.OO.A027CA.01|Audemars Piguet|  Royal Oak Offshore|\n",
      "|  17580961|26420SO.OO.A600CA.01|Audemars Piguet|  Royal Oak Offshore|\n",
      "|  17580960|26420SO.OO.A002CA.01|Audemars Piguet|  Royal Oak Offshore|\n",
      "|  17580959|26420RO.OO.A002CA.01|Audemars Piguet|  Royal Oak Offshore|\n",
      "|  17580958|26420IO.OO.A009CA.01|Audemars Piguet|  Royal Oak Offshore|\n",
      "|  17580945|15720ST.OO.A052CA.01|Audemars Piguet|Royal Oak Diver O...|\n",
      "|  17580910|15720ST.OO.A027CA.01|Audemars Piguet|Royal Oak Diver O...|\n",
      "|  17580909|15720ST.OO.A009CA.01|Audemars Piguet|Royal Oak Diver O...|\n",
      "|  17580888|26231OR.ZZ.D003CA.01|Audemars Piguet|  Royal Oak Offshore|\n",
      "|  17580887|26231ST.ZZ.D027CA.01|Audemars Piguet|  Royal Oak Offshore|\n",
      "|  17580873|77351ST.ZZ.1261ST.01|Audemars Piguet|           Royal Oak|\n",
      "|  17580872|77351OR.ZZ.1261OR.01|Audemars Piguet|           Royal Oak|\n",
      "|  17580869|15500OR.OO.D002CR.01|Audemars Piguet|           Royal Oak|\n",
      "|  17580868|15500OR.OO.1220OR.01|Audemars Piguet|           Royal Oak|\n",
      "|  17580867|77350ST.OO.1261ST.01|Audemars Piguet|           Royal Oak|\n",
      "|  17580866|77350SR.OO.1261SR.01|Audemars Piguet|           Royal Oak|\n",
      "|  17580806|26231ST.ZZ.D002CA.01|Audemars Piguet|  Royal Oak Offshore|\n",
      "|  17580804|67650ST.OO.1261ST.01|Audemars Piguet|           Royal Oak|\n",
      "|  17580803|67651SR.ZZ.1261SR.01|Audemars Piguet|           Royal Oak|\n",
      "|  17311178|            WSTA0041|        Cartier|           Tank Must|\n",
      "+----------+--------------------+---------------+--------------------+\n",
      "only showing top 20 rows\n",
      "\n"
     ]
    }
   ],
   "source": [
    "db_watch.show()"
   ]
  },
  {
   "cell_type": "markdown",
   "metadata": {},
   "source": [
    "# Prices Table"
   ]
  },
  {
   "cell_type": "code",
   "execution_count": 328,
   "metadata": {},
   "outputs": [
    {
     "name": "stdout",
     "output_type": "stream",
     "text": [
      "+--------+---------------+--------------------+--------------------+-------------------+--------------------+--------------------+---------+--------------------+-------------+---------+--------------+---------------+----------+-----------+--------------+--------------------+---------------+\n",
      "|watch_id|watch_reference|   aftermarket_price|           condition|    production_year|       case_diameter|      box_and_papers|seller_id|     seller_location|seller_rating|    price|watch_movement|     watch_case|watch_dial|watch_strap| watch_markers|     watch_guarantee|watch_recipient|\n",
      "+--------+---------------+--------------------+--------------------+-------------------+--------------------+--------------------+---------+--------------------+-------------+---------+--------------+---------------+----------+-----------+--------------+--------------------+---------------+\n",
      "|      W0|       WSSA0039|              $7,900|                 New|               2021|                   -|               Or...|       S0|               Un...|         4.94|£6,800.00|     Automatic|Stainless Steel|     Black|     Rubber|Roman Numerals|2 years + 6 years...|        For Him|\n",
      "|      W1|       WSSA0039|              $8,000|               Un...|                  -|               40 mm|               Or...|       S1|               Un...|         4.86|£6,800.00|     Automatic|Stainless Steel|     Black|     Rubber|Roman Numerals|2 years + 6 years...|        For Him|\n",
      "|      W2|       WSSA0039|              $7,850|               Un...|               2022|               39...|               Or...|       S2|               Un...|         4.96|£6,800.00|     Automatic|Stainless Steel|     Black|     Rubber|Roman Numerals|2 years + 6 years...|        For Him|\n",
      "|      W3|       WSSA0039|              $7,675|                 New|               2022|               39...|               Or...|       S3|               Un...|         4.89|£6,800.00|     Automatic|Stainless Steel|     Black|     Rubber|Roman Numerals|2 years + 6 years...|        For Him|\n",
      "|      W4|       WSSA0039|              $7,300|                Good|               2021|               39...|               Or...|       S4|               Un...|         4.97|£6,800.00|     Automatic|Stainless Steel|     Black|     Rubber|Roman Numerals|2 years + 6 years...|        For Him|\n",
      "|      W5|       WSSA0039|              $8,377|                 New|               2021|               39...|               Or...|       S5|               Un...|          4.9|£6,800.00|     Automatic|Stainless Steel|     Black|     Rubber|Roman Numerals|2 years + 6 years...|        For Him|\n",
      "|      W6|       WSSA0039|              $7,995|                 New|               2021|               39...|               Or...|       S6|               Un...|         4.91|£6,800.00|     Automatic|Stainless Steel|     Black|     Rubber|Roman Numerals|2 years + 6 years...|        For Him|\n",
      "|      W7|       WSSA0039|              $7,950|               Ve...|               2021|               40 mm|               Or...|       S7|               Un...|          4.9|£6,800.00|     Automatic|Stainless Steel|     Black|     Rubber|Roman Numerals|2 years + 6 years...|        For Him|\n",
      "|      W8|       WSSA0039|              $7,700|               Un...|               2022|               39...|               Or...|       S8|               Un...|         4.97|£6,800.00|     Automatic|Stainless Steel|     Black|     Rubber|Roman Numerals|2 years + 6 years...|        For Him|\n",
      "|      W9|       WSSA0039|              $7,875|               Ve...|               2021|               39...|               Or...|       S9|               Un...|         4.85|£6,800.00|     Automatic|Stainless Steel|     Black|     Rubber|Roman Numerals|2 years + 6 years...|        For Him|\n",
      "|     W10|       WSSA0039|              $7,499|               Un...|               2021|               39...|               Or...|      S10|               Un...|         null|£6,800.00|     Automatic|Stainless Steel|     Black|     Rubber|Roman Numerals|2 years + 6 years...|        For Him|\n",
      "|     W11|       WSSA0039|         Price on...|               Ve...|               2021|               39...|               Or...|      S11|               Un...|         4.92|£6,800.00|     Automatic|Stainless Steel|     Black|     Rubber|Roman Numerals|2 years + 6 years...|        For Him|\n",
      "|     W12|       WSSA0039|              $8,000|                Good|                  -|               39...|               Or...|      S12|               Un...|         4.83|£6,800.00|     Automatic|Stainless Steel|     Black|     Rubber|Roman Numerals|2 years + 6 years...|        For Him|\n",
      "|     W13|       WSSA0039|              $8,054|                 New|               2022|               39...|               Or...|      S13|               Un...|         4.91|£6,800.00|     Automatic|Stainless Steel|     Black|     Rubber|Roman Numerals|2 years + 6 years...|        For Him|\n",
      "|     W14|       WSSA0039|              $7,900|                 New|               2022|               39...|               Or...|      S14|               Un...|         4.86|£6,800.00|     Automatic|Stainless Steel|     Black|     Rubber|Roman Numerals|2 years + 6 years...|        For Him|\n",
      "|     W15|       WSSA0039|              $8,883|                 New|                  -|                   -|               Or...|      S15|               Un...|         4.81|£6,800.00|     Automatic|Stainless Steel|     Black|     Rubber|Roman Numerals|2 years + 6 years...|        For Him|\n",
      "|     W16|       WSSA0039|         Price on...|               Un...|                  -|               39...|               Or...|      S16|               Un...|         4.86|£6,800.00|     Automatic|Stainless Steel|     Black|     Rubber|Roman Numerals|2 years + 6 years...|        For Him|\n",
      "|     W17|       WSSA0039|              $8,473|               Ve...|               2021|               39...|               Or...|      S17|               Ge...|         4.81|£6,800.00|     Automatic|Stainless Steel|     Black|     Rubber|Roman Numerals|2 years + 6 years...|        For Him|\n",
      "|     W18|       WSSA0039|              $8,641|                 New|               2022|               39...|               Or...|      S18|               Ge...|         4.84|£6,800.00|     Automatic|Stainless Steel|     Black|     Rubber|Roman Numerals|2 years + 6 years...|        For Him|\n",
      "|     W19|       WSSA0039|              $8,675|               Un...|               2021|               39...|               Or...|      S19|               Ge...|         4.74|£6,800.00|     Automatic|Stainless Steel|     Black|     Rubber|Roman Numerals|2 years + 6 years...|        For Him|\n",
      "+--------+---------------+--------------------+--------------------+-------------------+--------------------+--------------------+---------+--------------------+-------------+---------+--------------+---------------+----------+-----------+--------------+--------------------+---------------+\n",
      "only showing top 20 rows\n",
      "\n"
     ]
    }
   ],
   "source": [
    "last = spark.read.parquet(\"/project/last.parquet\")\n",
    "last.show()"
   ]
  },
  {
   "cell_type": "code",
   "execution_count": 329,
   "metadata": {},
   "outputs": [],
   "source": [
    "last.select(\"watch_id\", \"watch_reference\", \"production_year\", \"condition\", \"price\",\n",
    "           \"aftermarket_price\", \"box_and_papers\", \"seller_id\").write.format(\"jdbc\") \\\n",
    "    .option(\"url\", postgres_uri) \\\n",
    "    .option(\"driver\", \"org.postgresql.Driver\") \\\n",
    "    .option(\"dbtable\", dbtablePrices) \\\n",
    "    .option(\"user\", user) \\\n",
    "    .mode(\"append\") \\\n",
    "    .option(\"password\", password).save()"
   ]
  },
  {
   "cell_type": "code",
   "execution_count": 330,
   "metadata": {},
   "outputs": [
    {
     "name": "stdout",
     "output_type": "stream",
     "text": [
      "+--------+---------------+-------------------+--------------------+---------+--------------------+--------------------+---------+\n",
      "|watch_id|watch_reference|    production_year|           condition|    price|   aftermarket_price|      box_and_papers|seller_id|\n",
      "+--------+---------------+-------------------+--------------------+---------+--------------------+--------------------+---------+\n",
      "|      W0|       WSSA0039|               2021|                 New|£6,800.00|              $7,900|               Or...|       S0|\n",
      "|      W1|       WSSA0039|                  -|               Un...|£6,800.00|              $8,000|               Or...|       S1|\n",
      "|      W2|       WSSA0039|               2022|               Un...|£6,800.00|              $7,850|               Or...|       S2|\n",
      "|      W3|       WSSA0039|               2022|                 New|£6,800.00|              $7,675|               Or...|       S3|\n",
      "|      W4|       WSSA0039|               2021|                Good|£6,800.00|              $7,300|               Or...|       S4|\n",
      "|      W5|       WSSA0039|               2021|                 New|£6,800.00|              $8,377|               Or...|       S5|\n",
      "|      W6|       WSSA0039|               2021|                 New|£6,800.00|              $7,995|               Or...|       S6|\n",
      "|      W7|       WSSA0039|               2021|               Ve...|£6,800.00|              $7,950|               Or...|       S7|\n",
      "|      W8|       WSSA0039|               2022|               Un...|£6,800.00|              $7,700|               Or...|       S8|\n",
      "|      W9|       WSSA0039|               2021|               Ve...|£6,800.00|              $7,875|               Or...|       S9|\n",
      "|     W10|       WSSA0039|               2021|               Un...|£6,800.00|              $7,499|               Or...|      S10|\n",
      "|     W11|       WSSA0039|               2021|               Ve...|£6,800.00|         Price on...|               Or...|      S11|\n",
      "|     W12|       WSSA0039|                  -|                Good|£6,800.00|              $8,000|               Or...|      S12|\n",
      "|     W13|       WSSA0039|               2022|                 New|£6,800.00|              $8,054|               Or...|      S13|\n",
      "|     W14|       WSSA0039|               2022|                 New|£6,800.00|              $7,900|               Or...|      S14|\n",
      "|     W15|       WSSA0039|                  -|                 New|£6,800.00|              $8,883|               Or...|      S15|\n",
      "|     W16|       WSSA0039|                  -|               Un...|£6,800.00|         Price on...|               Or...|      S16|\n",
      "|     W17|       WSSA0039|               2021|               Ve...|£6,800.00|              $8,473|               Or...|      S17|\n",
      "|     W18|       WSSA0039|               2022|                 New|£6,800.00|              $8,641|               Or...|      S18|\n",
      "|     W19|       WSSA0039|               2021|               Un...|£6,800.00|              $8,675|               Or...|      S19|\n",
      "+--------+---------------+-------------------+--------------------+---------+--------------------+--------------------+---------+\n",
      "only showing top 20 rows\n",
      "\n"
     ]
    }
   ],
   "source": [
    "db_prices.show()"
   ]
  },
  {
   "cell_type": "markdown",
   "metadata": {},
   "source": [
    "# Seller Table"
   ]
  },
  {
   "cell_type": "code",
   "execution_count": 331,
   "metadata": {},
   "outputs": [],
   "source": [
    "last.select(\"seller_id\", \"seller_location\", \"seller_rating\").write.format(\"jdbc\") \\\n",
    "    .option(\"url\", postgres_uri) \\\n",
    "    .option(\"driver\", \"org.postgresql.Driver\") \\\n",
    "    .option(\"dbtable\", dbtableSeller) \\\n",
    "    .option(\"user\", user) \\\n",
    "    .mode(\"append\") \\\n",
    "    .option(\"password\", password).save()"
   ]
  },
  {
   "cell_type": "code",
   "execution_count": 332,
   "metadata": {},
   "outputs": [
    {
     "name": "stdout",
     "output_type": "stream",
     "text": [
      "+---------+--------------------+-------------+\n",
      "|seller_id|     seller_location|seller_rating|\n",
      "+---------+--------------------+-------------+\n",
      "|       S0|               Un...|         4.94|\n",
      "|       S1|               Un...|         4.86|\n",
      "|       S2|               Un...|         4.96|\n",
      "|       S3|               Un...|         4.89|\n",
      "|       S4|               Un...|         4.97|\n",
      "|       S5|               Un...|          4.9|\n",
      "|       S6|               Un...|         4.91|\n",
      "|       S7|               Un...|          4.9|\n",
      "|       S8|               Un...|         4.97|\n",
      "|       S9|               Un...|         4.85|\n",
      "|      S10|               Un...|         null|\n",
      "|      S11|               Un...|         4.92|\n",
      "|      S12|               Un...|         4.83|\n",
      "|      S13|               Un...|         4.91|\n",
      "|      S14|               Un...|         4.86|\n",
      "|      S15|               Un...|         4.81|\n",
      "|      S16|               Un...|         4.86|\n",
      "|      S17|               Ge...|         4.81|\n",
      "|      S18|               Ge...|         4.84|\n",
      "|      S19|               Ge...|         4.74|\n",
      "+---------+--------------------+-------------+\n",
      "only showing top 20 rows\n",
      "\n"
     ]
    }
   ],
   "source": [
    "db_seller.show()"
   ]
  },
  {
   "cell_type": "markdown",
   "metadata": {},
   "source": [
    "# Characteristics Table"
   ]
  },
  {
   "cell_type": "code",
   "execution_count": 333,
   "metadata": {},
   "outputs": [],
   "source": [
    "last.select(\"watch_id\", \"watch_reference\", \"case_diameter\", \"watch_movement\", \"watch_case\", \"watch_dial\",\n",
    "           \"watch_strap\", \"watch_markers\",\"watch_recipient\", \"watch_guarantee\").write.format(\"jdbc\") \\\n",
    "    .option(\"url\", postgres_uri) \\\n",
    "    .option(\"driver\", \"org.postgresql.Driver\") \\\n",
    "    .option(\"dbtable\", dbtableCharacteristics) \\\n",
    "    .option(\"user\", user) \\\n",
    "    .mode(\"append\") \\\n",
    "    .option(\"password\", password).save()"
   ]
  },
  {
   "cell_type": "code",
   "execution_count": 334,
   "metadata": {},
   "outputs": [
    {
     "name": "stdout",
     "output_type": "stream",
     "text": [
      "+--------+---------------+--------------------+--------------+---------------+----------+-----------+--------------+---------------+--------------------+\n",
      "|watch_id|watch_reference|       case_diameter|watch_movement|     watch_case|watch_dial|watch_strap| watch_markers|watch_recipient|     watch_guarantee|\n",
      "+--------+---------------+--------------------+--------------+---------------+----------+-----------+--------------+---------------+--------------------+\n",
      "|      W0|       WSSA0039|                   -|     Automatic|Stainless Steel|     Black|     Rubber|Roman Numerals|        For Him|2 years + 6 years...|\n",
      "|      W1|       WSSA0039|               40 mm|     Automatic|Stainless Steel|     Black|     Rubber|Roman Numerals|        For Him|2 years + 6 years...|\n",
      "|      W2|       WSSA0039|               39...|     Automatic|Stainless Steel|     Black|     Rubber|Roman Numerals|        For Him|2 years + 6 years...|\n",
      "|      W3|       WSSA0039|               39...|     Automatic|Stainless Steel|     Black|     Rubber|Roman Numerals|        For Him|2 years + 6 years...|\n",
      "|      W4|       WSSA0039|               39...|     Automatic|Stainless Steel|     Black|     Rubber|Roman Numerals|        For Him|2 years + 6 years...|\n",
      "|      W5|       WSSA0039|               39...|     Automatic|Stainless Steel|     Black|     Rubber|Roman Numerals|        For Him|2 years + 6 years...|\n",
      "|      W6|       WSSA0039|               39...|     Automatic|Stainless Steel|     Black|     Rubber|Roman Numerals|        For Him|2 years + 6 years...|\n",
      "|      W7|       WSSA0039|               40 mm|     Automatic|Stainless Steel|     Black|     Rubber|Roman Numerals|        For Him|2 years + 6 years...|\n",
      "|      W8|       WSSA0039|               39...|     Automatic|Stainless Steel|     Black|     Rubber|Roman Numerals|        For Him|2 years + 6 years...|\n",
      "|      W9|       WSSA0039|               39...|     Automatic|Stainless Steel|     Black|     Rubber|Roman Numerals|        For Him|2 years + 6 years...|\n",
      "|     W10|       WSSA0039|               39...|     Automatic|Stainless Steel|     Black|     Rubber|Roman Numerals|        For Him|2 years + 6 years...|\n",
      "|     W11|       WSSA0039|               39...|     Automatic|Stainless Steel|     Black|     Rubber|Roman Numerals|        For Him|2 years + 6 years...|\n",
      "|     W12|       WSSA0039|               39...|     Automatic|Stainless Steel|     Black|     Rubber|Roman Numerals|        For Him|2 years + 6 years...|\n",
      "|     W13|       WSSA0039|               39...|     Automatic|Stainless Steel|     Black|     Rubber|Roman Numerals|        For Him|2 years + 6 years...|\n",
      "|     W14|       WSSA0039|               39...|     Automatic|Stainless Steel|     Black|     Rubber|Roman Numerals|        For Him|2 years + 6 years...|\n",
      "|     W15|       WSSA0039|                   -|     Automatic|Stainless Steel|     Black|     Rubber|Roman Numerals|        For Him|2 years + 6 years...|\n",
      "|     W16|       WSSA0039|               39...|     Automatic|Stainless Steel|     Black|     Rubber|Roman Numerals|        For Him|2 years + 6 years...|\n",
      "|     W17|       WSSA0039|               39...|     Automatic|Stainless Steel|     Black|     Rubber|Roman Numerals|        For Him|2 years + 6 years...|\n",
      "|     W18|       WSSA0039|               39...|     Automatic|Stainless Steel|     Black|     Rubber|Roman Numerals|        For Him|2 years + 6 years...|\n",
      "|     W19|       WSSA0039|               39...|     Automatic|Stainless Steel|     Black|     Rubber|Roman Numerals|        For Him|2 years + 6 years...|\n",
      "+--------+---------------+--------------------+--------------+---------------+----------+-----------+--------------+---------------+--------------------+\n",
      "only showing top 20 rows\n",
      "\n"
     ]
    }
   ],
   "source": [
    "db_characteristics.show()"
   ]
  }
 ],
 "metadata": {
  "kernelspec": {
   "display_name": "Python [conda env:Python3] *",
   "language": "python",
   "name": "conda-env-Python3-py"
  },
  "language_info": {
   "codemirror_mode": {
    "name": "ipython",
    "version": 3
   },
   "file_extension": ".py",
   "mimetype": "text/x-python",
   "name": "python",
   "nbconvert_exporter": "python",
   "pygments_lexer": "ipython3",
   "version": "3.8.2"
  }
 },
 "nbformat": 4,
 "nbformat_minor": 2
}
