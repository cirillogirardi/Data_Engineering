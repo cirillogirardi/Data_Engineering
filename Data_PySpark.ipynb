{
 "cells": [
  {
   "cell_type": "markdown",
   "metadata": {},
   "source": [
    "# Prepare the Enviornment"
   ]
  },
  {
   "cell_type": "markdown",
   "metadata": {},
   "source": [
    "Foremost run the following in the Faculty terminal\n",
    "\n",
    "pip install pyspark\n",
    "<br>\n",
    "sudo su\n",
    "<br>\n",
    "apt-get update\n",
    "<br>\n",
    "apt-get install openjdk-8-jdk-headless -qq > /dev/null <br>\n",
    "wget -q https://archive.apache.org/dist/spark/spark-3.2.1/spark-3.2.1-bin-hadoop3.2.tgz<br>\n",
    "tar xf spark-3.2.1-bin-hadoop3.2.tgz\n",
    "\n",
    "Then, download the PostgreSQL JDBC 4.2 and upload it on the faculty serves."
   ]
  },
  {
   "cell_type": "code",
   "execution_count": 453,
   "metadata": {},
   "outputs": [],
   "source": [
    "# create an enviornment\n",
    "\n",
    "import os\n",
    "os.environ[\"JAVA_HOME\"] = \"/usr/lib/jvm/java-8-openjdk-amd64\"\n",
    "os.environ[\"SPARK_HOME\"] = \"/project/spark-3.2.1-bin-hadoop3.2\""
   ]
  },
  {
   "cell_type": "code",
   "execution_count": 454,
   "metadata": {},
   "outputs": [],
   "source": [
    "# create a PySpark session\n",
    "\n",
    "from pyspark.sql import SparkSession\n",
    "\n",
    "spark = SparkSession \\\n",
    "    .builder \\\n",
    "    .appName(\"PySpark App\") \\\n",
    "    .config(\"spark.jars\", \"/project/postgresql-42.3.2.jar\") \\\n",
    "    .getOrCreate()"
   ]
  },
  {
   "cell_type": "code",
   "execution_count": 5,
   "metadata": {},
   "outputs": [],
   "source": [
    "# define the variables (i.e. postress connection, the tables in the database, etc.)\n",
    "\n",
    "postgres_uri = \"jdbc:postgresql://dbwatches.cvzsgnwko6ng.eu-west-2.rds.amazonaws.com:5432/dbwatches\"\n",
    "user = \"postgres\"\n",
    "password = \"qwerty123\"\n",
    "dbtableWatch = \"watches_schema.watch\"\n",
    "dbtableBrand_Info = \"watches_schema.brand_information\"\n",
    "dbtableSocial_Info = \"watches_schema.social_information\"\n",
    "dbtableCompany_Desc = \"watches_schema.description\"\n",
    "dbtableFinancial_Info = \"watches_schema.financial_information\"\n",
    "dbtableBoard = \"watches_schema.board\"\n",
    "dbtableCharacteristics = \"watches_schema.characteristics\"\n",
    "dbtablePrices = \"watches_schema.prices\"\n",
    "dbtableSeller = \"watches_schema.seller\"\n",
    "\n"
   ]
  },
  {
   "cell_type": "code",
   "execution_count": 456,
   "metadata": {},
   "outputs": [
    {
     "name": "stdout",
     "output_type": "stream",
     "text": [
      "root\n",
      " |-- watch_code: string (nullable = true)\n",
      " |-- watch_reference: string (nullable = true)\n",
      " |-- brand: string (nullable = true)\n",
      " |-- watch_collection: string (nullable = true)\n",
      "\n",
      "+----------+---------------+-----+----------------+\n",
      "|watch_code|watch_reference|brand|watch_collection|\n",
      "+----------+---------------+-----+----------------+\n",
      "+----------+---------------+-----+----------------+\n",
      "\n"
     ]
    }
   ],
   "source": [
    "# create a connection to AWS RDS to see the tables\n",
    "\n",
    "db_watch = spark.read \\\n",
    "    .format(\"jdbc\") \\\n",
    "    .option(\"url\", postgres_uri) \\\n",
    "    .option(\"dbtable\", dbtableWatch) \\\n",
    "    .option(\"user\", user) \\\n",
    "    .option(\"password\", password) \\\n",
    "    .option(\"driver\", \"org.postgresql.Driver\") \\\n",
    "    .load()\n",
    "\n",
    "db_watch.printSchema()\n",
    "db_watch.show()"
   ]
  },
  {
   "cell_type": "code",
   "execution_count": 457,
   "metadata": {},
   "outputs": [
    {
     "name": "stdout",
     "output_type": "stream",
     "text": [
      "root\n",
      " |-- brand: string (nullable = true)\n",
      " |-- holding_company: string (nullable = true)\n",
      " |-- headquarters: string (nullable = true)\n",
      " |-- company_type: string (nullable = true)\n",
      " |-- industry: string (nullable = true)\n",
      "\n",
      "+-----+---------------+------------+------------+--------+\n",
      "|brand|holding_company|headquarters|company_type|industry|\n",
      "+-----+---------------+------------+------------+--------+\n",
      "+-----+---------------+------------+------------+--------+\n",
      "\n"
     ]
    }
   ],
   "source": [
    "# create a connection to AWS RDS to see the tables\n",
    "\n",
    "db_brand = spark.read \\\n",
    "    .format(\"jdbc\") \\\n",
    "    .option(\"url\", postgres_uri) \\\n",
    "    .option(\"dbtable\", dbtableBrand_Info) \\\n",
    "    .option(\"user\", user) \\\n",
    "    .option(\"password\", password) \\\n",
    "    .option(\"driver\", \"org.postgresql.Driver\") \\\n",
    "    .load()\n",
    "\n",
    "db_brand.printSchema()\n",
    "db_brand.show()"
   ]
  },
  {
   "cell_type": "code",
   "execution_count": 458,
   "metadata": {},
   "outputs": [
    {
     "name": "stdout",
     "output_type": "stream",
     "text": [
      "root\n",
      " |-- brand: string (nullable = true)\n",
      " |-- telephone_number: string (nullable = true)\n",
      " |-- company_website: string (nullable = true)\n",
      " |-- facebook: string (nullable = true)\n",
      " |-- twitter: string (nullable = true)\n",
      " |-- instagram: string (nullable = true)\n",
      " |-- weibo: string (nullable = true)\n",
      " |-- google: string (nullable = true)\n",
      " |-- line: string (nullable = true)\n",
      " |-- wechat: string (nullable = true)\n",
      " |-- youtube: string (nullable = true)\n",
      "\n",
      "+-----+----------------+---------------+--------+-------+---------+-----+------+----+------+-------+\n",
      "|brand|telephone_number|company_website|facebook|twitter|instagram|weibo|google|line|wechat|youtube|\n",
      "+-----+----------------+---------------+--------+-------+---------+-----+------+----+------+-------+\n",
      "+-----+----------------+---------------+--------+-------+---------+-----+------+----+------+-------+\n",
      "\n"
     ]
    }
   ],
   "source": [
    "# create a connection to AWS RDS to see the tables\n",
    "\n",
    "db_social = spark.read \\\n",
    "    .format(\"jdbc\") \\\n",
    "    .option(\"url\", postgres_uri) \\\n",
    "    .option(\"dbtable\", dbtableSocial_Info) \\\n",
    "    .option(\"user\", user) \\\n",
    "    .option(\"password\", password) \\\n",
    "    .option(\"driver\", \"org.postgresql.Driver\") \\\n",
    "    .load()\n",
    "\n",
    "db_social.printSchema()\n",
    "db_social.show()"
   ]
  },
  {
   "cell_type": "code",
   "execution_count": 459,
   "metadata": {},
   "outputs": [
    {
     "name": "stdout",
     "output_type": "stream",
     "text": [
      "root\n",
      " |-- brand: string (nullable = true)\n",
      " |-- company_description: string (nullable = true)\n",
      " |-- founded: string (nullable = true)\n",
      " |-- founder: string (nullable = true)\n",
      "\n",
      "+-----+-------------------+-------+-------+\n",
      "|brand|company_description|founded|founder|\n",
      "+-----+-------------------+-------+-------+\n",
      "+-----+-------------------+-------+-------+\n",
      "\n"
     ]
    }
   ],
   "source": [
    "# create a connection to AWS RDS to see the tables\n",
    "\n",
    "db_description = spark.read \\\n",
    "    .format(\"jdbc\") \\\n",
    "    .option(\"url\", postgres_uri) \\\n",
    "    .option(\"dbtable\", dbtableCompany_Desc) \\\n",
    "    .option(\"user\", user) \\\n",
    "    .option(\"password\", password) \\\n",
    "    .option(\"driver\", \"org.postgresql.Driver\") \\\n",
    "    .load()\n",
    "\n",
    "db_description.printSchema()\n",
    "db_description.show()"
   ]
  },
  {
   "cell_type": "code",
   "execution_count": 460,
   "metadata": {},
   "outputs": [
    {
     "name": "stdout",
     "output_type": "stream",
     "text": [
      "root\n",
      " |-- holding_company: string (nullable = true)\n",
      " |-- employees: string (nullable = true)\n",
      " |-- revenue: string (nullable = true)\n",
      " |-- net_income_growth: string (nullable = true)\n",
      " |-- enviornmental_social_governance_ranking: string (nullable = true)\n",
      " |-- subsidiaries: string (nullable = true)\n",
      "\n",
      "+---------------+---------+-------+-----------------+---------------------------------------+------------+\n",
      "|holding_company|employees|revenue|net_income_growth|enviornmental_social_governance_ranking|subsidiaries|\n",
      "+---------------+---------+-------+-----------------+---------------------------------------+------------+\n",
      "+---------------+---------+-------+-----------------+---------------------------------------+------------+\n",
      "\n"
     ]
    }
   ],
   "source": [
    "# create a connection to AWS RDS to see the tables\n",
    "\n",
    "db_financial = spark.read \\\n",
    "    .format(\"jdbc\") \\\n",
    "    .option(\"url\", postgres_uri) \\\n",
    "    .option(\"dbtable\", dbtableFinancial_Info) \\\n",
    "    .option(\"user\", user) \\\n",
    "    .option(\"password\", password) \\\n",
    "    .option(\"driver\", \"org.postgresql.Driver\") \\\n",
    "    .load()\n",
    "\n",
    "db_financial.printSchema()\n",
    "db_financial.show()"
   ]
  },
  {
   "cell_type": "code",
   "execution_count": 461,
   "metadata": {},
   "outputs": [
    {
     "name": "stdout",
     "output_type": "stream",
     "text": [
      "root\n",
      " |-- holding_company: string (nullable = true)\n",
      " |-- managing_director: string (nullable = true)\n",
      " |-- board_chairman: string (nullable = true)\n",
      " |-- director: string (nullable = true)\n",
      "\n",
      "+---------------+-----------------+--------------+--------+\n",
      "|holding_company|managing_director|board_chairman|director|\n",
      "+---------------+-----------------+--------------+--------+\n",
      "+---------------+-----------------+--------------+--------+\n",
      "\n"
     ]
    }
   ],
   "source": [
    "# create a connection to AWS RDS to see the tables\n",
    "\n",
    "db_board = spark.read \\\n",
    "    .format(\"jdbc\") \\\n",
    "    .option(\"url\", postgres_uri) \\\n",
    "    .option(\"dbtable\", dbtableBoard) \\\n",
    "    .option(\"user\", user) \\\n",
    "    .option(\"password\", password) \\\n",
    "    .option(\"driver\", \"org.postgresql.Driver\") \\\n",
    "    .load()\n",
    "\n",
    "db_board.printSchema()\n",
    "db_board.show()"
   ]
  },
  {
   "cell_type": "code",
   "execution_count": 462,
   "metadata": {},
   "outputs": [
    {
     "name": "stdout",
     "output_type": "stream",
     "text": [
      "root\n",
      " |-- watch_id: string (nullable = true)\n",
      " |-- watch_reference: string (nullable = true)\n",
      " |-- case_diameter: string (nullable = true)\n",
      " |-- watch_movement: string (nullable = true)\n",
      " |-- watch_case: string (nullable = true)\n",
      " |-- watch_dial: string (nullable = true)\n",
      " |-- watch_strap: string (nullable = true)\n",
      " |-- watch_markers: string (nullable = true)\n",
      " |-- watch_recipient: string (nullable = true)\n",
      " |-- watch_guarantee: string (nullable = true)\n",
      "\n",
      "+--------+---------------+-------------+--------------+----------+----------+-----------+-------------+---------------+---------------+\n",
      "|watch_id|watch_reference|case_diameter|watch_movement|watch_case|watch_dial|watch_strap|watch_markers|watch_recipient|watch_guarantee|\n",
      "+--------+---------------+-------------+--------------+----------+----------+-----------+-------------+---------------+---------------+\n",
      "+--------+---------------+-------------+--------------+----------+----------+-----------+-------------+---------------+---------------+\n",
      "\n"
     ]
    }
   ],
   "source": [
    "# create a connection to AWS RDS to see the tables\n",
    "\n",
    "db_characteristics = spark.read \\\n",
    "    .format(\"jdbc\") \\\n",
    "    .option(\"url\", postgres_uri) \\\n",
    "    .option(\"dbtable\", dbtableCharacteristics) \\\n",
    "    .option(\"user\", user) \\\n",
    "    .option(\"password\", password) \\\n",
    "    .option(\"driver\", \"org.postgresql.Driver\") \\\n",
    "    .load()\n",
    "\n",
    "db_characteristics.printSchema()\n",
    "db_characteristics.show()"
   ]
  },
  {
   "cell_type": "code",
   "execution_count": 463,
   "metadata": {},
   "outputs": [
    {
     "name": "stdout",
     "output_type": "stream",
     "text": [
      "root\n",
      " |-- watch_id: string (nullable = true)\n",
      " |-- watch_reference: string (nullable = true)\n",
      " |-- production_year: string (nullable = true)\n",
      " |-- condition: string (nullable = true)\n",
      " |-- price: string (nullable = true)\n",
      " |-- aftermarket_price: string (nullable = true)\n",
      " |-- box_and_papers: string (nullable = true)\n",
      " |-- seller_id: string (nullable = true)\n",
      "\n",
      "+--------+---------------+---------------+---------+-----+-----------------+--------------+---------+\n",
      "|watch_id|watch_reference|production_year|condition|price|aftermarket_price|box_and_papers|seller_id|\n",
      "+--------+---------------+---------------+---------+-----+-----------------+--------------+---------+\n",
      "+--------+---------------+---------------+---------+-----+-----------------+--------------+---------+\n",
      "\n"
     ]
    }
   ],
   "source": [
    "# create a connection to AWS RDS to see the tables\n",
    "\n",
    "db_prices = spark.read \\\n",
    "    .format(\"jdbc\") \\\n",
    "    .option(\"url\", postgres_uri) \\\n",
    "    .option(\"dbtable\", dbtablePrices) \\\n",
    "    .option(\"user\", user) \\\n",
    "    .option(\"password\", password) \\\n",
    "    .option(\"driver\", \"org.postgresql.Driver\") \\\n",
    "    .load()\n",
    "\n",
    "db_prices.printSchema()\n",
    "db_prices.show()"
   ]
  },
  {
   "cell_type": "code",
   "execution_count": 464,
   "metadata": {},
   "outputs": [
    {
     "name": "stdout",
     "output_type": "stream",
     "text": [
      "root\n",
      " |-- seller_id: string (nullable = true)\n",
      " |-- seller_location: string (nullable = true)\n",
      " |-- seller_rating: string (nullable = true)\n",
      "\n",
      "+---------+---------------+-------------+\n",
      "|seller_id|seller_location|seller_rating|\n",
      "+---------+---------------+-------------+\n",
      "+---------+---------------+-------------+\n",
      "\n"
     ]
    }
   ],
   "source": [
    "# create a connection to AWS RDS to see the tables\n",
    "\n",
    "db_seller = spark.read \\\n",
    "    .format(\"jdbc\") \\\n",
    "    .option(\"url\", postgres_uri) \\\n",
    "    .option(\"dbtable\", dbtableSeller) \\\n",
    "    .option(\"user\", user) \\\n",
    "    .option(\"password\", password) \\\n",
    "    .option(\"driver\", \"org.postgresql.Driver\") \\\n",
    "    .load()\n",
    "\n",
    "db_seller.printSchema()\n",
    "db_seller.show()"
   ]
  },
  {
   "cell_type": "markdown",
   "metadata": {},
   "source": [
    "# Financial Table"
   ]
  },
  {
   "cell_type": "code",
   "execution_count": 465,
   "metadata": {},
   "outputs": [
    {
     "name": "stdout",
     "output_type": "stream",
     "text": [
      "+--------------------+---------+---------------+-----------------+---------------------------------------+--------------------+----------------+----------------+----------------+\n",
      "|     holding_company|employees|        revenue|net_income_growth|enviornmental_social_governance_ranking|   managing_director|  board_chairman|        director|    subsidiaries|\n",
      "+--------------------+---------+---------------+-----------------+---------------------------------------+--------------------+----------------+----------------+----------------+\n",
      "|Compagnie Financi...|   34,760| $15.96 billion|           39.44%|                                    3.0|      Jérôme Lambert|   Johann Rupert|  Cédric Bossert|145 Subsidiaries|\n",
      "|Audemars Piguet H...|      900|$160.12 million|             null|                                    1.0|François-Henri Be...|Jasmine Audemars|Nicolas Burgener| 19 Subsidiaries|\n",
      "+--------------------+---------+---------------+-----------------+---------------------------------------+--------------------+----------------+----------------+----------------+\n",
      "\n"
     ]
    }
   ],
   "source": [
    "# read the parquet file developed\n",
    "\n",
    "financial = spark.read.parquet(\"/project/financial_information.parquet\")\n",
    "financial.show()"
   ]
  },
  {
   "cell_type": "code",
   "execution_count": 466,
   "metadata": {},
   "outputs": [],
   "source": [
    "# select the needed columns and upload the data on the AWS RDS table\n",
    "\n",
    "financial.select(\"holding_company\",\"managing_director\",\"board_chairman\",\"director\").write.format(\"jdbc\") \\\n",
    "    .option(\"url\", postgres_uri) \\\n",
    "    .option(\"driver\", \"org.postgresql.Driver\") \\\n",
    "    .option(\"dbtable\", dbtableBoard) \\\n",
    "    .option(\"user\", user) \\\n",
    "    .mode(\"append\") \\\n",
    "    .option(\"password\", password).save()"
   ]
  },
  {
   "cell_type": "code",
   "execution_count": 467,
   "metadata": {},
   "outputs": [
    {
     "name": "stdout",
     "output_type": "stream",
     "text": [
      "+--------------------+--------------------+----------------+----------------+\n",
      "|     holding_company|   managing_director|  board_chairman|        director|\n",
      "+--------------------+--------------------+----------------+----------------+\n",
      "|Compagnie Financi...|      Jérôme Lambert|   Johann Rupert|  Cédric Bossert|\n",
      "|Audemars Piguet H...|François-Henri Be...|Jasmine Audemars|Nicolas Burgener|\n",
      "+--------------------+--------------------+----------------+----------------+\n",
      "\n"
     ]
    }
   ],
   "source": [
    "db_board.show()"
   ]
  },
  {
   "cell_type": "markdown",
   "metadata": {},
   "source": [
    "# Financial Table"
   ]
  },
  {
   "cell_type": "code",
   "execution_count": 468,
   "metadata": {},
   "outputs": [],
   "source": [
    "# select the needed columns and upload the data on the AWS RDS table\n",
    "\n",
    "financial.select(\"holding_company\",\"employees\",\"revenue\",\"net_income_growth\",\"enviornmental_social_governance_ranking\",\"subsidiaries\").write.format(\"jdbc\") \\\n",
    "    .option(\"url\", postgres_uri) \\\n",
    "    .option(\"driver\", \"org.postgresql.Driver\") \\\n",
    "    .option(\"dbtable\", dbtableFinancial_Info) \\\n",
    "    .option(\"user\", user) \\\n",
    "    .mode(\"append\") \\\n",
    "    .option(\"password\", password).save()"
   ]
  },
  {
   "cell_type": "code",
   "execution_count": 469,
   "metadata": {},
   "outputs": [
    {
     "name": "stdout",
     "output_type": "stream",
     "text": [
      "+--------------------+---------+---------------+-----------------+---------------------------------------+----------------+\n",
      "|     holding_company|employees|        revenue|net_income_growth|enviornmental_social_governance_ranking|    subsidiaries|\n",
      "+--------------------+---------+---------------+-----------------+---------------------------------------+----------------+\n",
      "|Compagnie Financi...|   34,760| $15.96 billion|           39.44%|                                    3.0|145 Subsidiaries|\n",
      "|Audemars Piguet H...|      900|$160.12 million|             null|                                    1.0| 19 Subsidiaries|\n",
      "+--------------------+---------+---------------+-----------------+---------------------------------------+----------------+\n",
      "\n"
     ]
    }
   ],
   "source": [
    "db_financial.show()"
   ]
  },
  {
   "cell_type": "markdown",
   "metadata": {},
   "source": [
    "# Social Table"
   ]
  },
  {
   "cell_type": "code",
   "execution_count": 470,
   "metadata": {},
   "outputs": [
    {
     "name": "stdout",
     "output_type": "stream",
     "text": [
      "+---------------+--------------------+--------------------+----------------+--------------------+--------------------+--------------------+--------------------+--------------------+--------------------+--------------------+--------------------+--------------------+\n",
      "|   company_name|     holding_company| company_description|telephone_number|     company_website|            facebook|             twitter|           instagram|               weibo|              google|                line|              wechat|             youtube|\n",
      "+---------------+--------------------+--------------------+----------------+--------------------+--------------------+--------------------+--------------------+--------------------+--------------------+--------------------+--------------------+--------------------+\n",
      "|Audemars Piguet|Audemars Piguet H...|In 1875 Jules Lou...|+41 21 845 14 00|http://www.audema...|https://www.faceb...|https://twitter.c...|http://instagram....|http://weibo.com/...|https://plus.goog...|http://nav.cx/dQE...|https://www.audem...|http://www.youtub...|\n",
      "|        Cartier|Compagnie Financi...|Founded in 1847 i...|+41 22 715 35 00|http://www.cartie...|http://www.facebo...|http://twitter.co...|http://instagram....|http://e.weibo.co...|                null|http://www.cartie...|                null|http://www.youtub...|\n",
      "+---------------+--------------------+--------------------+----------------+--------------------+--------------------+--------------------+--------------------+--------------------+--------------------+--------------------+--------------------+--------------------+\n",
      "\n"
     ]
    }
   ],
   "source": [
    "# read the parquet file developed\n",
    "\n",
    "social = spark.read.parquet(\"/project/social_information.parquet\")\n",
    "social.show()"
   ]
  },
  {
   "cell_type": "code",
   "execution_count": 471,
   "metadata": {},
   "outputs": [],
   "source": [
    "# select the needed columns and rename them accordingly\n",
    "\n",
    "d_social = social.selectExpr(\"company_name as brand\",\n",
    "                             \"holding_company as holding_company\",\n",
    "                             \"company_description as company_description\",\n",
    "                             \"telephone_number as telephone_number\",\n",
    "                             \"company_website as company_website\",\n",
    "                             \"facebook as facebook\",\n",
    "                             \"twitter as twitter\",\n",
    "                             \"instagram as instagram\",\n",
    "                             \"weibo as weibo\",\n",
    "                             \"google as google\",\n",
    "                             \"line as line\",\n",
    "                             \"wechat as wechat\",\n",
    "                             \"youtube as youtube\")"
   ]
  },
  {
   "cell_type": "code",
   "execution_count": 472,
   "metadata": {},
   "outputs": [],
   "source": [
    "# upload the data on the AWS RDS table\n",
    "\n",
    "d_social.select(\"brand\", \n",
    "                \"telephone_number\",\n",
    "                \"company_website\",\n",
    "                \"facebook\",\n",
    "                \"twitter\",\n",
    "                \"instagram\",\n",
    "                \"weibo\",\n",
    "                \"google\",\n",
    "                \"line\",\n",
    "                \"wechat\",\n",
    "                \"youtube\").write.format(\"jdbc\") \\\n",
    "    .option(\"url\", postgres_uri) \\\n",
    "    .option(\"driver\", \"org.postgresql.Driver\") \\\n",
    "    .option(\"dbtable\", dbtableSocial_Info) \\\n",
    "    .option(\"user\", user) \\\n",
    "    .mode(\"append\") \\\n",
    "    .option(\"password\", password).save()"
   ]
  },
  {
   "cell_type": "code",
   "execution_count": 473,
   "metadata": {},
   "outputs": [
    {
     "name": "stdout",
     "output_type": "stream",
     "text": [
      "+---------------+----------------+--------------------+--------------------+--------------------+--------------------+--------------------+--------------------+--------------------+--------------------+--------------------+\n",
      "|          brand|telephone_number|     company_website|            facebook|             twitter|           instagram|               weibo|              google|                line|              wechat|             youtube|\n",
      "+---------------+----------------+--------------------+--------------------+--------------------+--------------------+--------------------+--------------------+--------------------+--------------------+--------------------+\n",
      "|Audemars Piguet|+41 21 845 14 00|http://www.audema...|https://www.faceb...|https://twitter.c...|http://instagram....|http://weibo.com/...|https://plus.goog...|http://nav.cx/dQE...|https://www.audem...|http://www.youtub...|\n",
      "|        Cartier|+41 22 715 35 00|http://www.cartie...|http://www.facebo...|http://twitter.co...|http://instagram....|http://e.weibo.co...|                null|http://www.cartie...|                null|http://www.youtub...|\n",
      "+---------------+----------------+--------------------+--------------------+--------------------+--------------------+--------------------+--------------------+--------------------+--------------------+--------------------+\n",
      "\n"
     ]
    }
   ],
   "source": [
    "db_social.show()"
   ]
  },
  {
   "cell_type": "markdown",
   "metadata": {},
   "source": [
    "# Description Table"
   ]
  },
  {
   "cell_type": "code",
   "execution_count": 474,
   "metadata": {},
   "outputs": [
    {
     "name": "stdout",
     "output_type": "stream",
     "text": [
      "+---------------+------------+--------------------+-------------------+--------------------+--------------------+-----------+--------------------+--------------------+--------------------+\n",
      "|          brand|company_type|            industry|            founded|             founder|        headquarters|area_served|            products| company_description|     holding_company|\n",
      "+---------------+------------+--------------------+-------------------+--------------------+--------------------+-----------+--------------------+--------------------+--------------------+\n",
      "|Audemars Piguet|     Private|  Luxury watchmaking|1875; 147 years ago|Jules Louis Audem...|Le Brassus, Switz...|  Worldwide|Mechanical watche...|In 1875 Jules Lou...|Audemars Piguet H...|\n",
      "|        Cartier|  Subsidiary|Jewellery manufac...|1847; 175 years ago|Louis-François Ca...|       Paris, France|  Worldwide|  Jewellery, watches|Founded in 1847 i...|Compagnie Financi...|\n",
      "+---------------+------------+--------------------+-------------------+--------------------+--------------------+-----------+--------------------+--------------------+--------------------+\n",
      "\n"
     ]
    }
   ],
   "source": [
    "# read the parquet file developed\n",
    "\n",
    "more_info = spark.read.parquet(\"/project/more_information.parquet\")\n",
    "more_info.show()"
   ]
  },
  {
   "cell_type": "code",
   "execution_count": 475,
   "metadata": {},
   "outputs": [],
   "source": [
    "# select the needed columns and upload the data on the AWS RDS table\n",
    "\n",
    "more_info.select(\"brand\", \"company_description\", \"founded\", \"founder\").write.format(\"jdbc\") \\\n",
    "    .option(\"url\", postgres_uri) \\\n",
    "    .option(\"driver\", \"org.postgresql.Driver\") \\\n",
    "    .option(\"dbtable\", dbtableCompany_Desc) \\\n",
    "    .option(\"user\", user) \\\n",
    "    .mode(\"append\") \\\n",
    "    .option(\"password\", password).save()"
   ]
  },
  {
   "cell_type": "code",
   "execution_count": 476,
   "metadata": {},
   "outputs": [
    {
     "name": "stdout",
     "output_type": "stream",
     "text": [
      "+---------------+--------------------+-------------------+--------------------+\n",
      "|          brand| company_description|            founded|             founder|\n",
      "+---------------+--------------------+-------------------+--------------------+\n",
      "|Audemars Piguet|In 1875 Jules Lou...|1875; 147 years ago|Jules Louis Audem...|\n",
      "|        Cartier|Founded in 1847 i...|1847; 175 years ago|Louis-François Ca...|\n",
      "+---------------+--------------------+-------------------+--------------------+\n",
      "\n"
     ]
    }
   ],
   "source": [
    "db_description.show()"
   ]
  },
  {
   "cell_type": "markdown",
   "metadata": {},
   "source": [
    "# Brand Table"
   ]
  },
  {
   "cell_type": "code",
   "execution_count": 477,
   "metadata": {},
   "outputs": [],
   "source": [
    "# select the needed columns and upload the data on the AWS RDS table\n",
    "\n",
    "more_info.select(\"brand\", \"holding_company\", \"headquarters\", \"company_type\", \"industry\").write.format(\"jdbc\") \\\n",
    "    .option(\"url\", postgres_uri) \\\n",
    "    .option(\"driver\", \"org.postgresql.Driver\") \\\n",
    "    .option(\"dbtable\", dbtableBrand_Info) \\\n",
    "    .option(\"user\", user) \\\n",
    "    .mode(\"append\") \\\n",
    "    .option(\"password\", password).save()"
   ]
  },
  {
   "cell_type": "code",
   "execution_count": 478,
   "metadata": {},
   "outputs": [
    {
     "name": "stdout",
     "output_type": "stream",
     "text": [
      "+---------------+--------------------+--------------------+------------+--------------------+\n",
      "|          brand|     holding_company|        headquarters|company_type|            industry|\n",
      "+---------------+--------------------+--------------------+------------+--------------------+\n",
      "|Audemars Piguet|Audemars Piguet H...|Le Brassus, Switz...|     Private|  Luxury watchmaking|\n",
      "|        Cartier|Compagnie Financi...|       Paris, France|  Subsidiary|Jewellery manufac...|\n",
      "+---------------+--------------------+--------------------+------------+--------------------+\n",
      "\n"
     ]
    }
   ],
   "source": [
    "db_brand.show()"
   ]
  },
  {
   "cell_type": "markdown",
   "metadata": {},
   "source": [
    "# Watch Table"
   ]
  },
  {
   "cell_type": "code",
   "execution_count": 479,
   "metadata": {},
   "outputs": [
    {
     "name": "stdout",
     "output_type": "stream",
     "text": [
      "+----------+---------------+--------------------+--------------------+-----------+--------------+--------------------+----------+---------------+---------------+--------------------+--------------+---------------+\n",
      "|watch_code|    watch_brand|    watch_collection|     watch_reference|watch_price|watch_movement|          watch_case|watch_dial|    watch_strap|  watch_markers|     watch_guarantee|watch_category|watch_recipient|\n",
      "+----------+---------------+--------------------+--------------------+-----------+--------------+--------------------+----------+---------------+---------------+--------------------+--------------+---------------+\n",
      "|  17580962|Audemars Piguet|  Royal Oak Offshore|26420TI.OO.A027CA.01| £33,000.00|     Automatic|            Titanium|      Blue|         Rubber|         Batons|Audemars Piguet 2...|       Watches|        For Him|\n",
      "|  17580961|Audemars Piguet|  Royal Oak Offshore|26420SO.OO.A600CA.01| £34,100.00|     Automatic|Ceramic & Stainle...|     Brown|         Rubber|         Batons|Audemars Piguet 2...|       Watches|        For Him|\n",
      "|  17580960|Audemars Piguet|  Royal Oak Offshore|26420SO.OO.A002CA.01| £34,100.00|     Automatic|Ceramic & Stainle...|     Black|         Rubber|         Batons|Audemars Piguet 2...|       Watches|        For Him|\n",
      "|  17580959|Audemars Piguet|  Royal Oak Offshore|26420RO.OO.A002CA.01| £51,100.00|     Automatic|Ceramic & 18ct Ro...|     Black|         Rubber|         Batons|Audemars Piguet 2...|       Watches|        For Him|\n",
      "|  17580958|Audemars Piguet|  Royal Oak Offshore|26420IO.OO.A009CA.01| £34,100.00|     Automatic|                null|      Grey|         Rubber|         Batons|Audemars Piguet 2...|       Watches|        For Him|\n",
      "|  17580945|Audemars Piguet|Royal Oak Diver O...|15720ST.OO.A052CA.01| £23,100.00|     Automatic|     Stainless Steel|     Green|         Rubber|         Batons|Audemars Piguet 2...|       Watches|        For Him|\n",
      "|  17580910|Audemars Piguet|Royal Oak Diver O...|15720ST.OO.A027CA.01| £23,100.00|     Automatic|     Stainless Steel|      Navy|         Rubber|         Batons|Audemars Piguet 2...|       Watches|        For Him|\n",
      "|  17580909|Audemars Piguet|Royal Oak Diver O...|15720ST.OO.A009CA.01| £23,100.00|     Automatic|     Stainless Steel|      Grey|         Rubber|         Batons|Audemars Piguet 2...|       Watches|        For Him|\n",
      "|  17580888|Audemars Piguet|  Royal Oak Offshore|26231OR.ZZ.D003CA.01| £44,700.00|     Automatic|      18ct Rose Gold|    Silver|         Rubber|         Batons|Audemars Piguet 2...|       Watches|        For Her|\n",
      "|  17580887|Audemars Piguet|  Royal Oak Offshore|26231ST.ZZ.D027CA.01| £30,300.00|     Automatic|     Stainless Steel|      Blue|         Rubber|         Batons|Audemars Piguet 2...|       Watches|        For Her|\n",
      "|  17580873|Audemars Piguet|           Royal Oak|77351ST.ZZ.1261ST.01| £24,600.00|     Automatic|      18ct Rose Gold|    Silver| 18ct Rose Gold|           null|Audemars Piguet 2...|       Watches|        For Her|\n",
      "|  17580872|Audemars Piguet|           Royal Oak|77351OR.ZZ.1261OR.01| £46,400.00|     Automatic|      18ct Rose Gold|    Silver| 18ct Rose Gold|           null|Audemars Piguet 2...|       Watches|        For Her|\n",
      "|  17580869|Audemars Piguet|           Royal Oak|15500OR.OO.D002CR.01| £33,800.00|     Automatic|      18ct Rose Gold|     Black|      Alligator|         Batons|Audemars Piguet 2...|       Watches|        For Him|\n",
      "|  17580868|Audemars Piguet|           Royal Oak|15500OR.OO.1220OR.01| £52,800.00|     Automatic|      18ct Rose Gold|     Black| 18ct Rose Gold|         Batons|Audemars Piguet 2...|       Watches|        For Him|\n",
      "|  17580867|Audemars Piguet|           Royal Oak|77350ST.OO.1261ST.01| £19,200.00|     Automatic|     Stainless Steel|    Silver|Stainless Steel|           null|Audemars Piguet 2...|       Watches|        For Her|\n",
      "|  17580866|Audemars Piguet|           Royal Oak|77350SR.OO.1261SR.01| £22,600.00|     Automatic|     Stainless Steel|    Silver|Stainless Steel|           null|Audemars Piguet 2...|       Watches|        For Her|\n",
      "|  17580806|Audemars Piguet|  Royal Oak Offshore|26231ST.ZZ.D002CA.01| £30,300.00|     Automatic|     Stainless Steel|     Black|         Rubber|         Batons|Audemars Piguet 2...|       Watches|        For Her|\n",
      "|  17580804|Audemars Piguet|           Royal Oak|67650ST.OO.1261ST.01| £13,800.00|        Quartz|     Stainless Steel|     Black|Stainless Steel|         Batons|Audemars Piguet 2...|       Watches|        For Her|\n",
      "|  17580803|Audemars Piguet|           Royal Oak|67651SR.ZZ.1261SR.01| £21,000.00|        Quartz|     Stainless Steel|    Silver|Stainless Steel|Arabic Numerals|Audemars Piguet 2...|       Watches|        For Her|\n",
      "|  17311178|        Cartier|           Tank Must|            WSTA0041|  £2,310.00|        Quartz|     Stainless Steel|    Silver|           Calf| Roman Numerals|2 years + 6 years...|       Watches|        For Her|\n",
      "+----------+---------------+--------------------+--------------------+-----------+--------------+--------------------+----------+---------------+---------------+--------------------+--------------+---------------+\n",
      "only showing top 20 rows\n",
      "\n"
     ]
    }
   ],
   "source": [
    "# read the parquet file developed\n",
    "\n",
    "watches = spark.read.parquet(\"/project/watches.parquet\")\n",
    "watches.show()"
   ]
  },
  {
   "cell_type": "code",
   "execution_count": 480,
   "metadata": {},
   "outputs": [],
   "source": [
    "# change the name of the columns to ensure consistency with the Schema\n",
    "\n",
    "d_watches = watches.selectExpr(\"watch_code as watch_code\", \n",
    "                               \"watch_brand as brand\", \n",
    "                               \"watch_collection as watch_collection\", \n",
    "                               \"watch_reference as watch_reference\", \n",
    "                               \"watch_price as watch_price\", \n",
    "                               \"watch_movement as watch_movement\", \n",
    "                               \"watch_case as watch_case\", \n",
    "                               \"watch_dial as watch_dial\", \n",
    "                               \"watch_strap as watch_strap\", \n",
    "                               \"watch_markers as watch_markers\", \n",
    "                               \"watch_guarantee as watch_guarantee\", \n",
    "                               \"watch_category as watch_category\", \n",
    "                               \"watch_recipient as watch_recipient\")\n",
    "\n"
   ]
  },
  {
   "cell_type": "code",
   "execution_count": 481,
   "metadata": {},
   "outputs": [],
   "source": [
    "# select the needed columns and upload the data on the AWS RDS table\n",
    "\n",
    "d_watches.select(\"watch_reference\", \"watch_code\", \"brand\", \"watch_collection\").write.format(\"jdbc\") \\\n",
    "    .option(\"url\", postgres_uri) \\\n",
    "    .option(\"driver\", \"org.postgresql.Driver\") \\\n",
    "    .option(\"dbtable\", dbtableWatch) \\\n",
    "    .option(\"user\", user) \\\n",
    "    .mode(\"append\") \\\n",
    "    .option(\"password\", password).save()"
   ]
  },
  {
   "cell_type": "code",
   "execution_count": 482,
   "metadata": {},
   "outputs": [
    {
     "name": "stdout",
     "output_type": "stream",
     "text": [
      "+----------+--------------------+---------------+--------------------+\n",
      "|watch_code|     watch_reference|          brand|    watch_collection|\n",
      "+----------+--------------------+---------------+--------------------+\n",
      "|  17580962|26420TI.OO.A027CA.01|Audemars Piguet|  Royal Oak Offshore|\n",
      "|  17580961|26420SO.OO.A600CA.01|Audemars Piguet|  Royal Oak Offshore|\n",
      "|  17580960|26420SO.OO.A002CA.01|Audemars Piguet|  Royal Oak Offshore|\n",
      "|  17580959|26420RO.OO.A002CA.01|Audemars Piguet|  Royal Oak Offshore|\n",
      "|  17580958|26420IO.OO.A009CA.01|Audemars Piguet|  Royal Oak Offshore|\n",
      "|  17580945|15720ST.OO.A052CA.01|Audemars Piguet|Royal Oak Diver O...|\n",
      "|  17580910|15720ST.OO.A027CA.01|Audemars Piguet|Royal Oak Diver O...|\n",
      "|  17580909|15720ST.OO.A009CA.01|Audemars Piguet|Royal Oak Diver O...|\n",
      "|  17580888|26231OR.ZZ.D003CA.01|Audemars Piguet|  Royal Oak Offshore|\n",
      "|  17580887|26231ST.ZZ.D027CA.01|Audemars Piguet|  Royal Oak Offshore|\n",
      "|  17580873|77351ST.ZZ.1261ST.01|Audemars Piguet|           Royal Oak|\n",
      "|  17580872|77351OR.ZZ.1261OR.01|Audemars Piguet|           Royal Oak|\n",
      "|  17580869|15500OR.OO.D002CR.01|Audemars Piguet|           Royal Oak|\n",
      "|  17580868|15500OR.OO.1220OR.01|Audemars Piguet|           Royal Oak|\n",
      "|  17580867|77350ST.OO.1261ST.01|Audemars Piguet|           Royal Oak|\n",
      "|  17580866|77350SR.OO.1261SR.01|Audemars Piguet|           Royal Oak|\n",
      "|  17580806|26231ST.ZZ.D002CA.01|Audemars Piguet|  Royal Oak Offshore|\n",
      "|  17580804|67650ST.OO.1261ST.01|Audemars Piguet|           Royal Oak|\n",
      "|  17580803|67651SR.ZZ.1261SR.01|Audemars Piguet|           Royal Oak|\n",
      "|  17311178|            WSTA0041|        Cartier|           Tank Must|\n",
      "+----------+--------------------+---------------+--------------------+\n",
      "only showing top 20 rows\n",
      "\n"
     ]
    }
   ],
   "source": [
    "db_watch.show()"
   ]
  },
  {
   "cell_type": "markdown",
   "metadata": {},
   "source": [
    "# Prices Table"
   ]
  },
  {
   "cell_type": "code",
   "execution_count": 483,
   "metadata": {},
   "outputs": [
    {
     "name": "stdout",
     "output_type": "stream",
     "text": [
      "+--------+---------------+--------------------+--------------------+-------------------+--------------------+--------------------+---------+--------------------+-------------+---------+--------------+---------------+----------+-----------+--------------+--------------------+---------------+\n",
      "|watch_id|watch_reference|   aftermarket_price|           condition|    production_year|       case_diameter|      box_and_papers|seller_id|     seller_location|seller_rating|    price|watch_movement|     watch_case|watch_dial|watch_strap| watch_markers|     watch_guarantee|watch_recipient|\n",
      "+--------+---------------+--------------------+--------------------+-------------------+--------------------+--------------------+---------+--------------------+-------------+---------+--------------+---------------+----------+-----------+--------------+--------------------+---------------+\n",
      "|      W0|       WSSA0039|              $7,900|                 New|               2021|                   -|               Or...|       S0|               Un...|         4.94|£6,800.00|     Automatic|Stainless Steel|     Black|     Rubber|Roman Numerals|2 years + 6 years...|        For Him|\n",
      "|      W1|       WSSA0039|              $8,000|               Un...|                  -|               40 mm|               Or...|       S1|               Un...|         4.86|£6,800.00|     Automatic|Stainless Steel|     Black|     Rubber|Roman Numerals|2 years + 6 years...|        For Him|\n",
      "|      W2|       WSSA0039|              $7,850|               Un...|               2022|               39...|               Or...|       S2|               Un...|         4.96|£6,800.00|     Automatic|Stainless Steel|     Black|     Rubber|Roman Numerals|2 years + 6 years...|        For Him|\n",
      "|      W3|       WSSA0039|              $7,675|                 New|               2022|               39...|               Or...|       S3|               Un...|         4.89|£6,800.00|     Automatic|Stainless Steel|     Black|     Rubber|Roman Numerals|2 years + 6 years...|        For Him|\n",
      "|      W4|       WSSA0039|              $7,300|                Good|               2021|               39...|               Or...|       S4|               Un...|         4.97|£6,800.00|     Automatic|Stainless Steel|     Black|     Rubber|Roman Numerals|2 years + 6 years...|        For Him|\n",
      "|      W5|       WSSA0039|              $8,377|                 New|               2021|               39...|               Or...|       S5|               Un...|          4.9|£6,800.00|     Automatic|Stainless Steel|     Black|     Rubber|Roman Numerals|2 years + 6 years...|        For Him|\n",
      "|      W6|       WSSA0039|              $7,995|                 New|               2021|               39...|               Or...|       S6|               Un...|         4.91|£6,800.00|     Automatic|Stainless Steel|     Black|     Rubber|Roman Numerals|2 years + 6 years...|        For Him|\n",
      "|      W7|       WSSA0039|              $7,950|               Ve...|               2021|               40 mm|               Or...|       S7|               Un...|          4.9|£6,800.00|     Automatic|Stainless Steel|     Black|     Rubber|Roman Numerals|2 years + 6 years...|        For Him|\n",
      "|      W8|       WSSA0039|              $7,700|               Un...|               2022|               39...|               Or...|       S8|               Un...|         4.97|£6,800.00|     Automatic|Stainless Steel|     Black|     Rubber|Roman Numerals|2 years + 6 years...|        For Him|\n",
      "|      W9|       WSSA0039|              $7,875|               Ve...|               2021|               39...|               Or...|       S9|               Un...|         4.85|£6,800.00|     Automatic|Stainless Steel|     Black|     Rubber|Roman Numerals|2 years + 6 years...|        For Him|\n",
      "|     W10|       WSSA0039|              $7,499|               Un...|               2021|               39...|               Or...|      S10|               Un...|         null|£6,800.00|     Automatic|Stainless Steel|     Black|     Rubber|Roman Numerals|2 years + 6 years...|        For Him|\n",
      "|     W11|       WSSA0039|         Price on...|               Ve...|               2021|               39...|               Or...|      S11|               Un...|         4.92|£6,800.00|     Automatic|Stainless Steel|     Black|     Rubber|Roman Numerals|2 years + 6 years...|        For Him|\n",
      "|     W12|       WSSA0039|              $8,000|                Good|                  -|               39...|               Or...|      S12|               Un...|         4.83|£6,800.00|     Automatic|Stainless Steel|     Black|     Rubber|Roman Numerals|2 years + 6 years...|        For Him|\n",
      "|     W13|       WSSA0039|              $8,054|                 New|               2022|               39...|               Or...|      S13|               Un...|         4.91|£6,800.00|     Automatic|Stainless Steel|     Black|     Rubber|Roman Numerals|2 years + 6 years...|        For Him|\n",
      "|     W14|       WSSA0039|              $7,900|                 New|               2022|               39...|               Or...|      S14|               Un...|         4.86|£6,800.00|     Automatic|Stainless Steel|     Black|     Rubber|Roman Numerals|2 years + 6 years...|        For Him|\n",
      "|     W15|       WSSA0039|              $8,883|                 New|                  -|                   -|               Or...|      S15|               Un...|         4.81|£6,800.00|     Automatic|Stainless Steel|     Black|     Rubber|Roman Numerals|2 years + 6 years...|        For Him|\n",
      "|     W16|       WSSA0039|         Price on...|               Un...|                  -|               39...|               Or...|      S16|               Un...|         4.86|£6,800.00|     Automatic|Stainless Steel|     Black|     Rubber|Roman Numerals|2 years + 6 years...|        For Him|\n",
      "|     W17|       WSSA0039|              $8,473|               Ve...|               2021|               39...|               Or...|      S17|               Ge...|         4.81|£6,800.00|     Automatic|Stainless Steel|     Black|     Rubber|Roman Numerals|2 years + 6 years...|        For Him|\n",
      "|     W18|       WSSA0039|              $8,641|                 New|               2022|               39...|               Or...|      S18|               Ge...|         4.84|£6,800.00|     Automatic|Stainless Steel|     Black|     Rubber|Roman Numerals|2 years + 6 years...|        For Him|\n",
      "|     W19|       WSSA0039|              $8,675|               Un...|               2021|               39...|               Or...|      S19|               Ge...|         4.74|£6,800.00|     Automatic|Stainless Steel|     Black|     Rubber|Roman Numerals|2 years + 6 years...|        For Him|\n",
      "+--------+---------------+--------------------+--------------------+-------------------+--------------------+--------------------+---------+--------------------+-------------+---------+--------------+---------------+----------+-----------+--------------+--------------------+---------------+\n",
      "only showing top 20 rows\n",
      "\n"
     ]
    }
   ],
   "source": [
    "# read the parquet file developed\n",
    "\n",
    "last = spark.read.parquet(\"/project/last.parquet\")\n",
    "last.show()"
   ]
  },
  {
   "cell_type": "code",
   "execution_count": 484,
   "metadata": {},
   "outputs": [],
   "source": [
    "# select the needed columns and upload the data on the AWS RDS table\n",
    "\n",
    "last.select(\"watch_id\", \"watch_reference\", \"production_year\", \"condition\", \"price\",\n",
    "           \"aftermarket_price\", \"box_and_papers\", \"seller_id\").write.format(\"jdbc\") \\\n",
    "    .option(\"url\", postgres_uri) \\\n",
    "    .option(\"driver\", \"org.postgresql.Driver\") \\\n",
    "    .option(\"dbtable\", dbtablePrices) \\\n",
    "    .option(\"user\", user) \\\n",
    "    .mode(\"append\") \\\n",
    "    .option(\"password\", password).save()"
   ]
  },
  {
   "cell_type": "code",
   "execution_count": 485,
   "metadata": {},
   "outputs": [
    {
     "name": "stdout",
     "output_type": "stream",
     "text": [
      "+--------+---------------+-------------------+--------------------+---------+--------------------+--------------------+---------+\n",
      "|watch_id|watch_reference|    production_year|           condition|    price|   aftermarket_price|      box_and_papers|seller_id|\n",
      "+--------+---------------+-------------------+--------------------+---------+--------------------+--------------------+---------+\n",
      "|      W0|       WSSA0039|               2021|                 New|£6,800.00|              $7,900|               Or...|       S0|\n",
      "|      W1|       WSSA0039|                  -|               Un...|£6,800.00|              $8,000|               Or...|       S1|\n",
      "|      W2|       WSSA0039|               2022|               Un...|£6,800.00|              $7,850|               Or...|       S2|\n",
      "|      W3|       WSSA0039|               2022|                 New|£6,800.00|              $7,675|               Or...|       S3|\n",
      "|      W4|       WSSA0039|               2021|                Good|£6,800.00|              $7,300|               Or...|       S4|\n",
      "|      W5|       WSSA0039|               2021|                 New|£6,800.00|              $8,377|               Or...|       S5|\n",
      "|      W6|       WSSA0039|               2021|                 New|£6,800.00|              $7,995|               Or...|       S6|\n",
      "|      W7|       WSSA0039|               2021|               Ve...|£6,800.00|              $7,950|               Or...|       S7|\n",
      "|      W8|       WSSA0039|               2022|               Un...|£6,800.00|              $7,700|               Or...|       S8|\n",
      "|      W9|       WSSA0039|               2021|               Ve...|£6,800.00|              $7,875|               Or...|       S9|\n",
      "|     W10|       WSSA0039|               2021|               Un...|£6,800.00|              $7,499|               Or...|      S10|\n",
      "|     W11|       WSSA0039|               2021|               Ve...|£6,800.00|         Price on...|               Or...|      S11|\n",
      "|     W12|       WSSA0039|                  -|                Good|£6,800.00|              $8,000|               Or...|      S12|\n",
      "|     W13|       WSSA0039|               2022|                 New|£6,800.00|              $8,054|               Or...|      S13|\n",
      "|     W14|       WSSA0039|               2022|                 New|£6,800.00|              $7,900|               Or...|      S14|\n",
      "|     W15|       WSSA0039|                  -|                 New|£6,800.00|              $8,883|               Or...|      S15|\n",
      "|     W16|       WSSA0039|                  -|               Un...|£6,800.00|         Price on...|               Or...|      S16|\n",
      "|     W17|       WSSA0039|               2021|               Ve...|£6,800.00|              $8,473|               Or...|      S17|\n",
      "|     W18|       WSSA0039|               2022|                 New|£6,800.00|              $8,641|               Or...|      S18|\n",
      "|     W19|       WSSA0039|               2021|               Un...|£6,800.00|              $8,675|               Or...|      S19|\n",
      "+--------+---------------+-------------------+--------------------+---------+--------------------+--------------------+---------+\n",
      "only showing top 20 rows\n",
      "\n"
     ]
    }
   ],
   "source": [
    "db_prices.show()"
   ]
  },
  {
   "cell_type": "markdown",
   "metadata": {},
   "source": [
    "# Seller Table"
   ]
  },
  {
   "cell_type": "code",
   "execution_count": 486,
   "metadata": {},
   "outputs": [],
   "source": [
    "# select the needed columns and upload the data on the AWS RDS table\n",
    "\n",
    "last.select(\"seller_id\", \"seller_location\", \"seller_rating\").write.format(\"jdbc\") \\\n",
    "    .option(\"url\", postgres_uri) \\\n",
    "    .option(\"driver\", \"org.postgresql.Driver\") \\\n",
    "    .option(\"dbtable\", dbtableSeller) \\\n",
    "    .option(\"user\", user) \\\n",
    "    .mode(\"append\") \\\n",
    "    .option(\"password\", password).save()"
   ]
  },
  {
   "cell_type": "code",
   "execution_count": 487,
   "metadata": {},
   "outputs": [
    {
     "name": "stdout",
     "output_type": "stream",
     "text": [
      "+---------+--------------------+-------------+\n",
      "|seller_id|     seller_location|seller_rating|\n",
      "+---------+--------------------+-------------+\n",
      "|       S0|               Un...|         4.94|\n",
      "|       S1|               Un...|         4.86|\n",
      "|       S2|               Un...|         4.96|\n",
      "|       S3|               Un...|         4.89|\n",
      "|       S4|               Un...|         4.97|\n",
      "|       S5|               Un...|          4.9|\n",
      "|       S6|               Un...|         4.91|\n",
      "|       S7|               Un...|          4.9|\n",
      "|       S8|               Un...|         4.97|\n",
      "|       S9|               Un...|         4.85|\n",
      "|      S10|               Un...|         null|\n",
      "|      S11|               Un...|         4.92|\n",
      "|      S12|               Un...|         4.83|\n",
      "|      S13|               Un...|         4.91|\n",
      "|      S14|               Un...|         4.86|\n",
      "|      S15|               Un...|         4.81|\n",
      "|      S16|               Un...|         4.86|\n",
      "|      S17|               Ge...|         4.81|\n",
      "|      S18|               Ge...|         4.84|\n",
      "|      S19|               Ge...|         4.74|\n",
      "+---------+--------------------+-------------+\n",
      "only showing top 20 rows\n",
      "\n"
     ]
    }
   ],
   "source": [
    "db_seller.show()"
   ]
  },
  {
   "cell_type": "markdown",
   "metadata": {},
   "source": [
    "# Characteristics Table"
   ]
  },
  {
   "cell_type": "code",
   "execution_count": 488,
   "metadata": {},
   "outputs": [],
   "source": [
    "# select the needed columns and upload the data on the AWS RDS table\n",
    "\n",
    "last.select(\"watch_id\", \"watch_reference\", \"case_diameter\", \"watch_movement\", \"watch_case\", \"watch_dial\",\n",
    "           \"watch_strap\", \"watch_markers\",\"watch_recipient\", \"watch_guarantee\").write.format(\"jdbc\") \\\n",
    "    .option(\"url\", postgres_uri) \\\n",
    "    .option(\"driver\", \"org.postgresql.Driver\") \\\n",
    "    .option(\"dbtable\", dbtableCharacteristics) \\\n",
    "    .option(\"user\", user) \\\n",
    "    .mode(\"append\") \\\n",
    "    .option(\"password\", password).save()"
   ]
  },
  {
   "cell_type": "code",
   "execution_count": 489,
   "metadata": {},
   "outputs": [
    {
     "name": "stdout",
     "output_type": "stream",
     "text": [
      "+--------+---------------+--------------------+--------------+---------------+----------+-----------+--------------+---------------+--------------------+\n",
      "|watch_id|watch_reference|       case_diameter|watch_movement|     watch_case|watch_dial|watch_strap| watch_markers|watch_recipient|     watch_guarantee|\n",
      "+--------+---------------+--------------------+--------------+---------------+----------+-----------+--------------+---------------+--------------------+\n",
      "|      W0|       WSSA0039|                   -|     Automatic|Stainless Steel|     Black|     Rubber|Roman Numerals|        For Him|2 years + 6 years...|\n",
      "|      W1|       WSSA0039|               40 mm|     Automatic|Stainless Steel|     Black|     Rubber|Roman Numerals|        For Him|2 years + 6 years...|\n",
      "|      W2|       WSSA0039|               39...|     Automatic|Stainless Steel|     Black|     Rubber|Roman Numerals|        For Him|2 years + 6 years...|\n",
      "|      W3|       WSSA0039|               39...|     Automatic|Stainless Steel|     Black|     Rubber|Roman Numerals|        For Him|2 years + 6 years...|\n",
      "|      W4|       WSSA0039|               39...|     Automatic|Stainless Steel|     Black|     Rubber|Roman Numerals|        For Him|2 years + 6 years...|\n",
      "|      W5|       WSSA0039|               39...|     Automatic|Stainless Steel|     Black|     Rubber|Roman Numerals|        For Him|2 years + 6 years...|\n",
      "|      W6|       WSSA0039|               39...|     Automatic|Stainless Steel|     Black|     Rubber|Roman Numerals|        For Him|2 years + 6 years...|\n",
      "|      W7|       WSSA0039|               40 mm|     Automatic|Stainless Steel|     Black|     Rubber|Roman Numerals|        For Him|2 years + 6 years...|\n",
      "|      W8|       WSSA0039|               39...|     Automatic|Stainless Steel|     Black|     Rubber|Roman Numerals|        For Him|2 years + 6 years...|\n",
      "|      W9|       WSSA0039|               39...|     Automatic|Stainless Steel|     Black|     Rubber|Roman Numerals|        For Him|2 years + 6 years...|\n",
      "|     W10|       WSSA0039|               39...|     Automatic|Stainless Steel|     Black|     Rubber|Roman Numerals|        For Him|2 years + 6 years...|\n",
      "|     W11|       WSSA0039|               39...|     Automatic|Stainless Steel|     Black|     Rubber|Roman Numerals|        For Him|2 years + 6 years...|\n",
      "|     W12|       WSSA0039|               39...|     Automatic|Stainless Steel|     Black|     Rubber|Roman Numerals|        For Him|2 years + 6 years...|\n",
      "|     W13|       WSSA0039|               39...|     Automatic|Stainless Steel|     Black|     Rubber|Roman Numerals|        For Him|2 years + 6 years...|\n",
      "|     W14|       WSSA0039|               39...|     Automatic|Stainless Steel|     Black|     Rubber|Roman Numerals|        For Him|2 years + 6 years...|\n",
      "|     W15|       WSSA0039|                   -|     Automatic|Stainless Steel|     Black|     Rubber|Roman Numerals|        For Him|2 years + 6 years...|\n",
      "|     W16|       WSSA0039|               39...|     Automatic|Stainless Steel|     Black|     Rubber|Roman Numerals|        For Him|2 years + 6 years...|\n",
      "|     W17|       WSSA0039|               39...|     Automatic|Stainless Steel|     Black|     Rubber|Roman Numerals|        For Him|2 years + 6 years...|\n",
      "|     W18|       WSSA0039|               39...|     Automatic|Stainless Steel|     Black|     Rubber|Roman Numerals|        For Him|2 years + 6 years...|\n",
      "|     W19|       WSSA0039|               39...|     Automatic|Stainless Steel|     Black|     Rubber|Roman Numerals|        For Him|2 years + 6 years...|\n",
      "+--------+---------------+--------------------+--------------+---------------+----------+-----------+--------------+---------------+--------------------+\n",
      "only showing top 20 rows\n",
      "\n"
     ]
    }
   ],
   "source": [
    "db_characteristics.show()"
   ]
  },
  {
   "cell_type": "markdown",
   "metadata": {},
   "source": [
    "# Queries"
   ]
  },
  {
   "cell_type": "code",
   "execution_count": 490,
   "metadata": {},
   "outputs": [],
   "source": [
    "import pyspark\n",
    "from pyspark.sql import SQLContext\n",
    "\n",
    "\n",
    "\n",
    "# create a SQL session to use SQL queries\n",
    "\n",
    "new_sc = pyspark.SparkContext.getOrCreate()\n",
    "spark = pyspark.sql.SparkSession.builder.getOrCreate()\n",
    "spark.conf.set(\"spark.sql.repl.eagerEval.enabled\", True) # Property used to format output tables better\n",
    "sqlContext = SQLContext(new_sc)"
   ]
  },
  {
   "cell_type": "code",
   "execution_count": 491,
   "metadata": {},
   "outputs": [
    {
     "data": {
      "text/html": [
       "<table border='1'>\n",
       "<tr><th>watch_id</th><th>watch_reference</th><th>case_diameter</th><th>watch_movement</th><th>watch_case</th><th>watch_dial</th><th>watch_strap</th><th>watch_markers</th><th>watch_recipient</th><th>watch_guarantee</th></tr>\n",
       "<tr><td>W0</td><td>WSSA0039</td><td>               -</td><td>Automatic</td><td>Stainless Steel</td><td>Black</td><td>Rubber</td><td>Roman Numerals</td><td>For Him</td><td>2 years + 6 years...</td></tr>\n",
       "<tr><td>W1</td><td>WSSA0039</td><td>               40 mm</td><td>Automatic</td><td>Stainless Steel</td><td>Black</td><td>Rubber</td><td>Roman Numerals</td><td>For Him</td><td>2 years + 6 years...</td></tr>\n",
       "<tr><td>W2</td><td>WSSA0039</td><td>               39...</td><td>Automatic</td><td>Stainless Steel</td><td>Black</td><td>Rubber</td><td>Roman Numerals</td><td>For Him</td><td>2 years + 6 years...</td></tr>\n",
       "<tr><td>W3</td><td>WSSA0039</td><td>               39...</td><td>Automatic</td><td>Stainless Steel</td><td>Black</td><td>Rubber</td><td>Roman Numerals</td><td>For Him</td><td>2 years + 6 years...</td></tr>\n",
       "<tr><td>W4</td><td>WSSA0039</td><td>               39...</td><td>Automatic</td><td>Stainless Steel</td><td>Black</td><td>Rubber</td><td>Roman Numerals</td><td>For Him</td><td>2 years + 6 years...</td></tr>\n",
       "<tr><td>W5</td><td>WSSA0039</td><td>               39...</td><td>Automatic</td><td>Stainless Steel</td><td>Black</td><td>Rubber</td><td>Roman Numerals</td><td>For Him</td><td>2 years + 6 years...</td></tr>\n",
       "<tr><td>W6</td><td>WSSA0039</td><td>               39...</td><td>Automatic</td><td>Stainless Steel</td><td>Black</td><td>Rubber</td><td>Roman Numerals</td><td>For Him</td><td>2 years + 6 years...</td></tr>\n",
       "<tr><td>W7</td><td>WSSA0039</td><td>               40 mm</td><td>Automatic</td><td>Stainless Steel</td><td>Black</td><td>Rubber</td><td>Roman Numerals</td><td>For Him</td><td>2 years + 6 years...</td></tr>\n",
       "<tr><td>W8</td><td>WSSA0039</td><td>               39...</td><td>Automatic</td><td>Stainless Steel</td><td>Black</td><td>Rubber</td><td>Roman Numerals</td><td>For Him</td><td>2 years + 6 years...</td></tr>\n",
       "<tr><td>W9</td><td>WSSA0039</td><td>               39...</td><td>Automatic</td><td>Stainless Steel</td><td>Black</td><td>Rubber</td><td>Roman Numerals</td><td>For Him</td><td>2 years + 6 years...</td></tr>\n",
       "<tr><td>W10</td><td>WSSA0039</td><td>               39...</td><td>Automatic</td><td>Stainless Steel</td><td>Black</td><td>Rubber</td><td>Roman Numerals</td><td>For Him</td><td>2 years + 6 years...</td></tr>\n",
       "<tr><td>W11</td><td>WSSA0039</td><td>               39...</td><td>Automatic</td><td>Stainless Steel</td><td>Black</td><td>Rubber</td><td>Roman Numerals</td><td>For Him</td><td>2 years + 6 years...</td></tr>\n",
       "<tr><td>W12</td><td>WSSA0039</td><td>               39...</td><td>Automatic</td><td>Stainless Steel</td><td>Black</td><td>Rubber</td><td>Roman Numerals</td><td>For Him</td><td>2 years + 6 years...</td></tr>\n",
       "<tr><td>W13</td><td>WSSA0039</td><td>               39...</td><td>Automatic</td><td>Stainless Steel</td><td>Black</td><td>Rubber</td><td>Roman Numerals</td><td>For Him</td><td>2 years + 6 years...</td></tr>\n",
       "<tr><td>W14</td><td>WSSA0039</td><td>               39...</td><td>Automatic</td><td>Stainless Steel</td><td>Black</td><td>Rubber</td><td>Roman Numerals</td><td>For Him</td><td>2 years + 6 years...</td></tr>\n",
       "<tr><td>W15</td><td>WSSA0039</td><td>               -</td><td>Automatic</td><td>Stainless Steel</td><td>Black</td><td>Rubber</td><td>Roman Numerals</td><td>For Him</td><td>2 years + 6 years...</td></tr>\n",
       "<tr><td>W16</td><td>WSSA0039</td><td>               39...</td><td>Automatic</td><td>Stainless Steel</td><td>Black</td><td>Rubber</td><td>Roman Numerals</td><td>For Him</td><td>2 years + 6 years...</td></tr>\n",
       "<tr><td>W17</td><td>WSSA0039</td><td>               39...</td><td>Automatic</td><td>Stainless Steel</td><td>Black</td><td>Rubber</td><td>Roman Numerals</td><td>For Him</td><td>2 years + 6 years...</td></tr>\n",
       "<tr><td>W18</td><td>WSSA0039</td><td>               39...</td><td>Automatic</td><td>Stainless Steel</td><td>Black</td><td>Rubber</td><td>Roman Numerals</td><td>For Him</td><td>2 years + 6 years...</td></tr>\n",
       "<tr><td>W19</td><td>WSSA0039</td><td>               39...</td><td>Automatic</td><td>Stainless Steel</td><td>Black</td><td>Rubber</td><td>Roman Numerals</td><td>For Him</td><td>2 years + 6 years...</td></tr>\n",
       "</table>\n",
       "only showing top 20 rows\n"
      ],
      "text/plain": [
       "+--------+---------------+--------------------+--------------+---------------+----------+-----------+--------------+---------------+--------------------+\n",
       "|watch_id|watch_reference|       case_diameter|watch_movement|     watch_case|watch_dial|watch_strap| watch_markers|watch_recipient|     watch_guarantee|\n",
       "+--------+---------------+--------------------+--------------+---------------+----------+-----------+--------------+---------------+--------------------+\n",
       "|      W0|       WSSA0039|                   -|     Automatic|Stainless Steel|     Black|     Rubber|Roman Numerals|        For Him|2 years + 6 years...|\n",
       "|      W1|       WSSA0039|               40 mm|     Automatic|Stainless Steel|     Black|     Rubber|Roman Numerals|        For Him|2 years + 6 years...|\n",
       "|      W2|       WSSA0039|               39...|     Automatic|Stainless Steel|     Black|     Rubber|Roman Numerals|        For Him|2 years + 6 years...|\n",
       "|      W3|       WSSA0039|               39...|     Automatic|Stainless Steel|     Black|     Rubber|Roman Numerals|        For Him|2 years + 6 years...|\n",
       "|      W4|       WSSA0039|               39...|     Automatic|Stainless Steel|     Black|     Rubber|Roman Numerals|        For Him|2 years + 6 years...|\n",
       "|      W5|       WSSA0039|               39...|     Automatic|Stainless Steel|     Black|     Rubber|Roman Numerals|        For Him|2 years + 6 years...|\n",
       "|      W6|       WSSA0039|               39...|     Automatic|Stainless Steel|     Black|     Rubber|Roman Numerals|        For Him|2 years + 6 years...|\n",
       "|      W7|       WSSA0039|               40 mm|     Automatic|Stainless Steel|     Black|     Rubber|Roman Numerals|        For Him|2 years + 6 years...|\n",
       "|      W8|       WSSA0039|               39...|     Automatic|Stainless Steel|     Black|     Rubber|Roman Numerals|        For Him|2 years + 6 years...|\n",
       "|      W9|       WSSA0039|               39...|     Automatic|Stainless Steel|     Black|     Rubber|Roman Numerals|        For Him|2 years + 6 years...|\n",
       "|     W10|       WSSA0039|               39...|     Automatic|Stainless Steel|     Black|     Rubber|Roman Numerals|        For Him|2 years + 6 years...|\n",
       "|     W11|       WSSA0039|               39...|     Automatic|Stainless Steel|     Black|     Rubber|Roman Numerals|        For Him|2 years + 6 years...|\n",
       "|     W12|       WSSA0039|               39...|     Automatic|Stainless Steel|     Black|     Rubber|Roman Numerals|        For Him|2 years + 6 years...|\n",
       "|     W13|       WSSA0039|               39...|     Automatic|Stainless Steel|     Black|     Rubber|Roman Numerals|        For Him|2 years + 6 years...|\n",
       "|     W14|       WSSA0039|               39...|     Automatic|Stainless Steel|     Black|     Rubber|Roman Numerals|        For Him|2 years + 6 years...|\n",
       "|     W15|       WSSA0039|                   -|     Automatic|Stainless Steel|     Black|     Rubber|Roman Numerals|        For Him|2 years + 6 years...|\n",
       "|     W16|       WSSA0039|               39...|     Automatic|Stainless Steel|     Black|     Rubber|Roman Numerals|        For Him|2 years + 6 years...|\n",
       "|     W17|       WSSA0039|               39...|     Automatic|Stainless Steel|     Black|     Rubber|Roman Numerals|        For Him|2 years + 6 years...|\n",
       "|     W18|       WSSA0039|               39...|     Automatic|Stainless Steel|     Black|     Rubber|Roman Numerals|        For Him|2 years + 6 years...|\n",
       "|     W19|       WSSA0039|               39...|     Automatic|Stainless Steel|     Black|     Rubber|Roman Numerals|        For Him|2 years + 6 years...|\n",
       "+--------+---------------+--------------------+--------------+---------------+----------+-----------+--------------+---------------+--------------------+\n",
       "only showing top 20 rows"
      ]
     },
     "execution_count": 491,
     "metadata": {},
     "output_type": "execute_result"
    }
   ],
   "source": [
    "# check whether the queries work\n",
    "\n",
    "db_characteristics.select('*')"
   ]
  },
  {
   "cell_type": "markdown",
   "metadata": {},
   "source": [
    "# Queries with SQL"
   ]
  },
  {
   "cell_type": "code",
   "execution_count": 492,
   "metadata": {},
   "outputs": [],
   "source": [
    "# create TempViews for each single table\n",
    "\n",
    "db_characteristics.createOrReplaceTempView(\"Characteristics\")\n",
    "db_board.createOrReplaceTempView(\"Board\")\n",
    "db_brand.createOrReplaceTempView(\"Brand\")\n",
    "db_description.createOrReplaceTempView(\"Description\")\n",
    "db_financial.createOrReplaceTempView(\"Financial\")\n",
    "db_prices.createOrReplaceTempView(\"Prices\")\n",
    "db_seller.createOrReplaceTempView(\"Seller\")\n",
    "db_social.createOrReplaceTempView(\"Social\")\n",
    "db_watch.createOrReplaceTempView(\"Watch\")"
   ]
  },
  {
   "cell_type": "code",
   "execution_count": 493,
   "metadata": {},
   "outputs": [
    {
     "data": {
      "text/html": [
       "<table border='1'>\n",
       "<tr><th>watch_id</th><th>watch_reference</th><th>case_diameter</th><th>watch_movement</th><th>watch_case</th><th>watch_dial</th><th>watch_strap</th><th>watch_markers</th><th>watch_recipient</th><th>watch_guarantee</th></tr>\n",
       "<tr><td>W0</td><td>WSSA0039</td><td>               -</td><td>Automatic</td><td>Stainless Steel</td><td>Black</td><td>Rubber</td><td>Roman Numerals</td><td>For Him</td><td>2 years + 6 years...</td></tr>\n",
       "<tr><td>W1</td><td>WSSA0039</td><td>               40 mm</td><td>Automatic</td><td>Stainless Steel</td><td>Black</td><td>Rubber</td><td>Roman Numerals</td><td>For Him</td><td>2 years + 6 years...</td></tr>\n",
       "<tr><td>W2</td><td>WSSA0039</td><td>               39...</td><td>Automatic</td><td>Stainless Steel</td><td>Black</td><td>Rubber</td><td>Roman Numerals</td><td>For Him</td><td>2 years + 6 years...</td></tr>\n",
       "<tr><td>W3</td><td>WSSA0039</td><td>               39...</td><td>Automatic</td><td>Stainless Steel</td><td>Black</td><td>Rubber</td><td>Roman Numerals</td><td>For Him</td><td>2 years + 6 years...</td></tr>\n",
       "<tr><td>W4</td><td>WSSA0039</td><td>               39...</td><td>Automatic</td><td>Stainless Steel</td><td>Black</td><td>Rubber</td><td>Roman Numerals</td><td>For Him</td><td>2 years + 6 years...</td></tr>\n",
       "<tr><td>W5</td><td>WSSA0039</td><td>               39...</td><td>Automatic</td><td>Stainless Steel</td><td>Black</td><td>Rubber</td><td>Roman Numerals</td><td>For Him</td><td>2 years + 6 years...</td></tr>\n",
       "<tr><td>W6</td><td>WSSA0039</td><td>               39...</td><td>Automatic</td><td>Stainless Steel</td><td>Black</td><td>Rubber</td><td>Roman Numerals</td><td>For Him</td><td>2 years + 6 years...</td></tr>\n",
       "<tr><td>W7</td><td>WSSA0039</td><td>               40 mm</td><td>Automatic</td><td>Stainless Steel</td><td>Black</td><td>Rubber</td><td>Roman Numerals</td><td>For Him</td><td>2 years + 6 years...</td></tr>\n",
       "<tr><td>W8</td><td>WSSA0039</td><td>               39...</td><td>Automatic</td><td>Stainless Steel</td><td>Black</td><td>Rubber</td><td>Roman Numerals</td><td>For Him</td><td>2 years + 6 years...</td></tr>\n",
       "<tr><td>W9</td><td>WSSA0039</td><td>               39...</td><td>Automatic</td><td>Stainless Steel</td><td>Black</td><td>Rubber</td><td>Roman Numerals</td><td>For Him</td><td>2 years + 6 years...</td></tr>\n",
       "<tr><td>W10</td><td>WSSA0039</td><td>               39...</td><td>Automatic</td><td>Stainless Steel</td><td>Black</td><td>Rubber</td><td>Roman Numerals</td><td>For Him</td><td>2 years + 6 years...</td></tr>\n",
       "<tr><td>W11</td><td>WSSA0039</td><td>               39...</td><td>Automatic</td><td>Stainless Steel</td><td>Black</td><td>Rubber</td><td>Roman Numerals</td><td>For Him</td><td>2 years + 6 years...</td></tr>\n",
       "<tr><td>W12</td><td>WSSA0039</td><td>               39...</td><td>Automatic</td><td>Stainless Steel</td><td>Black</td><td>Rubber</td><td>Roman Numerals</td><td>For Him</td><td>2 years + 6 years...</td></tr>\n",
       "<tr><td>W13</td><td>WSSA0039</td><td>               39...</td><td>Automatic</td><td>Stainless Steel</td><td>Black</td><td>Rubber</td><td>Roman Numerals</td><td>For Him</td><td>2 years + 6 years...</td></tr>\n",
       "<tr><td>W14</td><td>WSSA0039</td><td>               39...</td><td>Automatic</td><td>Stainless Steel</td><td>Black</td><td>Rubber</td><td>Roman Numerals</td><td>For Him</td><td>2 years + 6 years...</td></tr>\n",
       "<tr><td>W15</td><td>WSSA0039</td><td>               -</td><td>Automatic</td><td>Stainless Steel</td><td>Black</td><td>Rubber</td><td>Roman Numerals</td><td>For Him</td><td>2 years + 6 years...</td></tr>\n",
       "<tr><td>W16</td><td>WSSA0039</td><td>               39...</td><td>Automatic</td><td>Stainless Steel</td><td>Black</td><td>Rubber</td><td>Roman Numerals</td><td>For Him</td><td>2 years + 6 years...</td></tr>\n",
       "<tr><td>W17</td><td>WSSA0039</td><td>               39...</td><td>Automatic</td><td>Stainless Steel</td><td>Black</td><td>Rubber</td><td>Roman Numerals</td><td>For Him</td><td>2 years + 6 years...</td></tr>\n",
       "<tr><td>W18</td><td>WSSA0039</td><td>               39...</td><td>Automatic</td><td>Stainless Steel</td><td>Black</td><td>Rubber</td><td>Roman Numerals</td><td>For Him</td><td>2 years + 6 years...</td></tr>\n",
       "<tr><td>W19</td><td>WSSA0039</td><td>               39...</td><td>Automatic</td><td>Stainless Steel</td><td>Black</td><td>Rubber</td><td>Roman Numerals</td><td>For Him</td><td>2 years + 6 years...</td></tr>\n",
       "</table>\n",
       "only showing top 20 rows\n"
      ],
      "text/plain": [
       "+--------+---------------+--------------------+--------------+---------------+----------+-----------+--------------+---------------+--------------------+\n",
       "|watch_id|watch_reference|       case_diameter|watch_movement|     watch_case|watch_dial|watch_strap| watch_markers|watch_recipient|     watch_guarantee|\n",
       "+--------+---------------+--------------------+--------------+---------------+----------+-----------+--------------+---------------+--------------------+\n",
       "|      W0|       WSSA0039|                   -|     Automatic|Stainless Steel|     Black|     Rubber|Roman Numerals|        For Him|2 years + 6 years...|\n",
       "|      W1|       WSSA0039|               40 mm|     Automatic|Stainless Steel|     Black|     Rubber|Roman Numerals|        For Him|2 years + 6 years...|\n",
       "|      W2|       WSSA0039|               39...|     Automatic|Stainless Steel|     Black|     Rubber|Roman Numerals|        For Him|2 years + 6 years...|\n",
       "|      W3|       WSSA0039|               39...|     Automatic|Stainless Steel|     Black|     Rubber|Roman Numerals|        For Him|2 years + 6 years...|\n",
       "|      W4|       WSSA0039|               39...|     Automatic|Stainless Steel|     Black|     Rubber|Roman Numerals|        For Him|2 years + 6 years...|\n",
       "|      W5|       WSSA0039|               39...|     Automatic|Stainless Steel|     Black|     Rubber|Roman Numerals|        For Him|2 years + 6 years...|\n",
       "|      W6|       WSSA0039|               39...|     Automatic|Stainless Steel|     Black|     Rubber|Roman Numerals|        For Him|2 years + 6 years...|\n",
       "|      W7|       WSSA0039|               40 mm|     Automatic|Stainless Steel|     Black|     Rubber|Roman Numerals|        For Him|2 years + 6 years...|\n",
       "|      W8|       WSSA0039|               39...|     Automatic|Stainless Steel|     Black|     Rubber|Roman Numerals|        For Him|2 years + 6 years...|\n",
       "|      W9|       WSSA0039|               39...|     Automatic|Stainless Steel|     Black|     Rubber|Roman Numerals|        For Him|2 years + 6 years...|\n",
       "|     W10|       WSSA0039|               39...|     Automatic|Stainless Steel|     Black|     Rubber|Roman Numerals|        For Him|2 years + 6 years...|\n",
       "|     W11|       WSSA0039|               39...|     Automatic|Stainless Steel|     Black|     Rubber|Roman Numerals|        For Him|2 years + 6 years...|\n",
       "|     W12|       WSSA0039|               39...|     Automatic|Stainless Steel|     Black|     Rubber|Roman Numerals|        For Him|2 years + 6 years...|\n",
       "|     W13|       WSSA0039|               39...|     Automatic|Stainless Steel|     Black|     Rubber|Roman Numerals|        For Him|2 years + 6 years...|\n",
       "|     W14|       WSSA0039|               39...|     Automatic|Stainless Steel|     Black|     Rubber|Roman Numerals|        For Him|2 years + 6 years...|\n",
       "|     W15|       WSSA0039|                   -|     Automatic|Stainless Steel|     Black|     Rubber|Roman Numerals|        For Him|2 years + 6 years...|\n",
       "|     W16|       WSSA0039|               39...|     Automatic|Stainless Steel|     Black|     Rubber|Roman Numerals|        For Him|2 years + 6 years...|\n",
       "|     W17|       WSSA0039|               39...|     Automatic|Stainless Steel|     Black|     Rubber|Roman Numerals|        For Him|2 years + 6 years...|\n",
       "|     W18|       WSSA0039|               39...|     Automatic|Stainless Steel|     Black|     Rubber|Roman Numerals|        For Him|2 years + 6 years...|\n",
       "|     W19|       WSSA0039|               39...|     Automatic|Stainless Steel|     Black|     Rubber|Roman Numerals|        For Him|2 years + 6 years...|\n",
       "+--------+---------------+--------------------+--------------+---------------+----------+-----------+--------------+---------------+--------------------+\n",
       "only showing top 20 rows"
      ]
     },
     "execution_count": 493,
     "metadata": {},
     "output_type": "execute_result"
    }
   ],
   "source": [
    "# try a basic query\n",
    "\n",
    "spark.sql('select * from Characteristics where watch_movement==\\\"Automatic\\\"')"
   ]
  },
  {
   "cell_type": "code",
   "execution_count": 494,
   "metadata": {},
   "outputs": [
    {
     "data": {
      "text/html": [
       "<table border='1'>\n",
       "<tr><th>watch_id</th><th>watch_reference</th><th>production_year</th><th>condition</th><th>price</th><th>aftermarket_price</th><th>box_and_papers</th><th>seller_id</th></tr>\n",
       "<tr><td>W0</td><td>WSSA0039</td><td>               2021</td><td>               New</td><td>£6,800.00</td><td>$7,900</td><td>               Or...</td><td>S0</td></tr>\n",
       "<tr><td>W1</td><td>WSSA0039</td><td>               -</td><td>               Un...</td><td>£6,800.00</td><td>$8,000</td><td>               Or...</td><td>S1</td></tr>\n",
       "<tr><td>W2</td><td>WSSA0039</td><td>               2022</td><td>               Un...</td><td>£6,800.00</td><td>$7,850</td><td>               Or...</td><td>S2</td></tr>\n",
       "<tr><td>W3</td><td>WSSA0039</td><td>               2022</td><td>               New</td><td>£6,800.00</td><td>$7,675</td><td>               Or...</td><td>S3</td></tr>\n",
       "<tr><td>W4</td><td>WSSA0039</td><td>               2021</td><td>               Good</td><td>£6,800.00</td><td>$7,300</td><td>               Or...</td><td>S4</td></tr>\n",
       "<tr><td>W5</td><td>WSSA0039</td><td>               2021</td><td>               New</td><td>£6,800.00</td><td>$8,377</td><td>               Or...</td><td>S5</td></tr>\n",
       "<tr><td>W6</td><td>WSSA0039</td><td>               2021</td><td>               New</td><td>£6,800.00</td><td>$7,995</td><td>               Or...</td><td>S6</td></tr>\n",
       "<tr><td>W7</td><td>WSSA0039</td><td>               2021</td><td>               Ve...</td><td>£6,800.00</td><td>$7,950</td><td>               Or...</td><td>S7</td></tr>\n",
       "<tr><td>W8</td><td>WSSA0039</td><td>               2022</td><td>               Un...</td><td>£6,800.00</td><td>$7,700</td><td>               Or...</td><td>S8</td></tr>\n",
       "<tr><td>W9</td><td>WSSA0039</td><td>               2021</td><td>               Ve...</td><td>£6,800.00</td><td>$7,875</td><td>               Or...</td><td>S9</td></tr>\n",
       "<tr><td>W10</td><td>WSSA0039</td><td>               2021</td><td>               Un...</td><td>£6,800.00</td><td>$7,499</td><td>               Or...</td><td>S10</td></tr>\n",
       "<tr><td>W11</td><td>WSSA0039</td><td>               2021</td><td>               Ve...</td><td>£6,800.00</td><td>         Price on...</td><td>               Or...</td><td>S11</td></tr>\n",
       "<tr><td>W12</td><td>WSSA0039</td><td>               -</td><td>               Good</td><td>£6,800.00</td><td>$8,000</td><td>               Or...</td><td>S12</td></tr>\n",
       "<tr><td>W13</td><td>WSSA0039</td><td>               2022</td><td>               New</td><td>£6,800.00</td><td>$8,054</td><td>               Or...</td><td>S13</td></tr>\n",
       "<tr><td>W14</td><td>WSSA0039</td><td>               2022</td><td>               New</td><td>£6,800.00</td><td>$7,900</td><td>               Or...</td><td>S14</td></tr>\n",
       "<tr><td>W15</td><td>WSSA0039</td><td>               -</td><td>               New</td><td>£6,800.00</td><td>$8,883</td><td>               Or...</td><td>S15</td></tr>\n",
       "<tr><td>W16</td><td>WSSA0039</td><td>               -</td><td>               Un...</td><td>£6,800.00</td><td>         Price on...</td><td>               Or...</td><td>S16</td></tr>\n",
       "<tr><td>W17</td><td>WSSA0039</td><td>               2021</td><td>               Ve...</td><td>£6,800.00</td><td>$8,473</td><td>               Or...</td><td>S17</td></tr>\n",
       "<tr><td>W18</td><td>WSSA0039</td><td>               2022</td><td>               New</td><td>£6,800.00</td><td>$8,641</td><td>               Or...</td><td>S18</td></tr>\n",
       "<tr><td>W19</td><td>WSSA0039</td><td>               2021</td><td>               Un...</td><td>£6,800.00</td><td>$8,675</td><td>               Or...</td><td>S19</td></tr>\n",
       "</table>\n",
       "only showing top 20 rows\n"
      ],
      "text/plain": [
       "+--------+---------------+-------------------+--------------------+---------+--------------------+--------------------+---------+\n",
       "|watch_id|watch_reference|    production_year|           condition|    price|   aftermarket_price|      box_and_papers|seller_id|\n",
       "+--------+---------------+-------------------+--------------------+---------+--------------------+--------------------+---------+\n",
       "|      W0|       WSSA0039|               2021|                 New|£6,800.00|              $7,900|               Or...|       S0|\n",
       "|      W1|       WSSA0039|                  -|               Un...|£6,800.00|              $8,000|               Or...|       S1|\n",
       "|      W2|       WSSA0039|               2022|               Un...|£6,800.00|              $7,850|               Or...|       S2|\n",
       "|      W3|       WSSA0039|               2022|                 New|£6,800.00|              $7,675|               Or...|       S3|\n",
       "|      W4|       WSSA0039|               2021|                Good|£6,800.00|              $7,300|               Or...|       S4|\n",
       "|      W5|       WSSA0039|               2021|                 New|£6,800.00|              $8,377|               Or...|       S5|\n",
       "|      W6|       WSSA0039|               2021|                 New|£6,800.00|              $7,995|               Or...|       S6|\n",
       "|      W7|       WSSA0039|               2021|               Ve...|£6,800.00|              $7,950|               Or...|       S7|\n",
       "|      W8|       WSSA0039|               2022|               Un...|£6,800.00|              $7,700|               Or...|       S8|\n",
       "|      W9|       WSSA0039|               2021|               Ve...|£6,800.00|              $7,875|               Or...|       S9|\n",
       "|     W10|       WSSA0039|               2021|               Un...|£6,800.00|              $7,499|               Or...|      S10|\n",
       "|     W11|       WSSA0039|               2021|               Ve...|£6,800.00|         Price on...|               Or...|      S11|\n",
       "|     W12|       WSSA0039|                  -|                Good|£6,800.00|              $8,000|               Or...|      S12|\n",
       "|     W13|       WSSA0039|               2022|                 New|£6,800.00|              $8,054|               Or...|      S13|\n",
       "|     W14|       WSSA0039|               2022|                 New|£6,800.00|              $7,900|               Or...|      S14|\n",
       "|     W15|       WSSA0039|                  -|                 New|£6,800.00|              $8,883|               Or...|      S15|\n",
       "|     W16|       WSSA0039|                  -|               Un...|£6,800.00|         Price on...|               Or...|      S16|\n",
       "|     W17|       WSSA0039|               2021|               Ve...|£6,800.00|              $8,473|               Or...|      S17|\n",
       "|     W18|       WSSA0039|               2022|                 New|£6,800.00|              $8,641|               Or...|      S18|\n",
       "|     W19|       WSSA0039|               2021|               Un...|£6,800.00|              $8,675|               Or...|      S19|\n",
       "+--------+---------------+-------------------+--------------------+---------+--------------------+--------------------+---------+\n",
       "only showing top 20 rows"
      ]
     },
     "execution_count": 494,
     "metadata": {},
     "output_type": "execute_result"
    }
   ],
   "source": [
    "# try a basic query\n",
    "\n",
    "spark.sql('select * from Prices')"
   ]
  },
  {
   "cell_type": "code",
   "execution_count": 495,
   "metadata": {},
   "outputs": [],
   "source": [
    "# create a table by selecting certain features \n",
    "\n",
    "first_table = spark.sql(\"SELECT c.watch_id, c.case_diameter, c.watch_movement, c.watch_case, c.watch_dial, c.watch_markers, c.watch_strap, p.condition, p.price, p.aftermarket_price, p.box_and_papers, p.seller_id FROM Characteristics c INNER JOIN Prices as p ON c.watch_id==p.watch_id\")"
   ]
  },
  {
   "cell_type": "code",
   "execution_count": 496,
   "metadata": {},
   "outputs": [
    {
     "data": {
      "text/html": [
       "<table border='1'>\n",
       "<tr><th>watch_id</th><th>case_diameter</th><th>watch_movement</th><th>watch_case</th><th>watch_dial</th><th>watch_markers</th><th>watch_strap</th><th>condition</th><th>price</th><th>aftermarket_price</th><th>box_and_papers</th><th>seller_id</th></tr>\n",
       "<tr><td>W344</td><td>               39...</td><td>Automatic</td><td>Stainless Steel</td><td>Grey</td><td>Roman Numerals</td><td>Stainless Steel</td><td>               Ve...</td><td>£6,600.00</td><td>$6,795</td><td>               Or...</td><td>S344</td></tr>\n",
       "<tr><td>W740</td><td>               34 mm</td><td>Automatic</td><td>Stainless Steel</td><td>Silver</td><td>null</td><td>Stainless Steel</td><td>               Un...</td><td>£22,600.00</td><td>         Price on...</td><td>               Or...</td><td>S740</td></tr>\n",
       "<tr><td>W841</td><td>               33 mm</td><td>Quartz</td><td>Stainless Steel</td><td>Silver</td><td>Arabic Numerals</td><td>Stainless Steel</td><td>               New</td><td>£21,000.00</td><td>£33,984</td><td>               Or...</td><td>S841</td></tr>\n",
       "<tr><td>W901</td><td>               37 mm</td><td>Automatic</td><td>18ct Rose Gold</td><td>Silver</td><td>Batons</td><td>Rubber</td><td>               New</td><td>£44,700.00</td><td>£68,747</td><td>               Or...</td><td>S901</td></tr>\n",
       "<tr><td>W287</td><td>               39...</td><td>Automatic</td><td>Stainless Steel</td><td>Silver</td><td>Roman Numerals</td><td>Stainless Steel</td><td>               Ve...</td><td>£9,450.00</td><td>$9,300</td><td>               Or...</td><td>S287</td></tr>\n",
       "<tr><td>W318</td><td>               20...</td><td>Quartz</td><td>Stainless Steel</td><td>Silver</td><td>Roman Numerals</td><td>Bicoloured</td><td>               Ve...</td><td>£5,100.00</td><td>$2,051</td><td>               No...</td><td>S318</td></tr>\n",
       "<tr><td>W391</td><td>               30...</td><td>Quartz</td><td>Stainless Steel</td><td>Silver</td><td>Roman Numerals</td><td>Stainless Steel</td><td>               New</td><td>£3,500.00</td><td>$4,226</td><td>               Or...</td><td>S391</td></tr>\n",
       "<tr><td>W532</td><td>               43 mm</td><td>Automatic</td><td>Ceramic &amp; Stainle...</td><td>Brown</td><td>Batons</td><td>Rubber</td><td>               Un...</td><td>£34,100.00</td><td>£51,177</td><td>               Or...</td><td>S532</td></tr>\n",
       "<tr><td>W756</td><td>               41 mm</td><td>Automatic</td><td>18ct Rose Gold</td><td>Black</td><td>Batons</td><td>18ct Rose Gold</td><td>               Ve...</td><td>£52,800.00</td><td>£129,682</td><td>               Or...</td><td>S756</td></tr>\n",
       "<tr><td>W827</td><td>               33 mm</td><td>Quartz</td><td>Stainless Steel</td><td>Silver</td><td>Arabic Numerals</td><td>Stainless Steel</td><td>               Un...</td><td>£21,000.00</td><td>£31,248</td><td>               Or...</td><td>S827</td></tr>\n",
       "<tr><td>W346</td><td>               39 mm</td><td>Automatic</td><td>Stainless Steel</td><td>Grey</td><td>Roman Numerals</td><td>Stainless Steel</td><td>               Ve...</td><td>£6,600.00</td><td>$7,950</td><td>               Or...</td><td>S346</td></tr>\n",
       "<tr><td>W493</td><td>               33 mm</td><td>Quartz</td><td>Stainless Steel</td><td>Black</td><td>Batons</td><td>Stainless Steel</td><td>               New</td><td>£13,800.00</td><td>£28,376</td><td>               Or...</td><td>S493</td></tr>\n",
       "<tr><td>W580</td><td>               43 mm</td><td>Automatic</td><td>Ceramic &amp; Stainle...</td><td>Black</td><td>Batons</td><td>Rubber</td><td>               New</td><td>£34,100.00</td><td>£41,404</td><td>               Or...</td><td>S580</td></tr>\n",
       "<tr><td>W194</td><td>               20...</td><td>Quartz</td><td>Stainless Steel</td><td>Silver</td><td>Roman Numerals</td><td>Stainless Steel</td><td>               Ve...</td><td>£2,970.00</td><td>$2,491</td><td>               No...</td><td>S194</td></tr>\n",
       "<tr><td>W319</td><td>               20...</td><td>Quartz</td><td>Stainless Steel</td><td>Silver</td><td>Roman Numerals</td><td>Bicoloured</td><td>               Ve...</td><td>£5,100.00</td><td>$2,267</td><td>               No...</td><td>S319</td></tr>\n",
       "<tr><td>W550</td><td>               34 mm</td><td>Automatic</td><td>Stainless Steel</td><td>Silver</td><td>null</td><td>Stainless Steel</td><td>               Ve...</td><td>£19,200.00</td><td>£30,099</td><td>               Or...</td><td>S550</td></tr>\n",
       "<tr><td>W274</td><td>               39...</td><td>Automatic</td><td>Stainless Steel</td><td>Silver</td><td>Roman Numerals</td><td>Stainless Steel</td><td>               Ve...</td><td>£9,450.00</td><td>$9,545</td><td>               No...</td><td>S274</td></tr>\n",
       "<tr><td>W368</td><td>               39...</td><td>Automatic</td><td>Stainless Steel</td><td>Grey</td><td>Roman Numerals</td><td>Stainless Steel</td><td>               Un...</td><td>£6,600.00</td><td>$9,552</td><td>               Or...</td><td>S368</td></tr>\n",
       "<tr><td>W520</td><td>               43 mm</td><td>Automatic</td><td>Ceramic &amp; Stainle...</td><td>Brown</td><td>Batons</td><td>Rubber</td><td>               Ve...</td><td>£34,100.00</td><td>£48,375</td><td>               Or...</td><td>S520</td></tr>\n",
       "<tr><td>W564</td><td>               34 mm</td><td>Automatic</td><td>Stainless Steel</td><td>Silver</td><td>null</td><td>Stainless Steel</td><td>               New</td><td>£19,200.00</td><td>£26,822</td><td>               Or...</td><td>S564</td></tr>\n",
       "</table>\n",
       "only showing top 20 rows\n"
      ],
      "text/plain": [
       "+--------+--------------------+--------------+--------------------+----------+---------------+---------------+--------------------+----------+--------------------+--------------------+---------+\n",
       "|watch_id|       case_diameter|watch_movement|          watch_case|watch_dial|  watch_markers|    watch_strap|           condition|     price|   aftermarket_price|      box_and_papers|seller_id|\n",
       "+--------+--------------------+--------------+--------------------+----------+---------------+---------------+--------------------+----------+--------------------+--------------------+---------+\n",
       "|    W344|               39...|     Automatic|     Stainless Steel|      Grey| Roman Numerals|Stainless Steel|               Ve...| £6,600.00|              $6,795|               Or...|     S344|\n",
       "|    W740|               34 mm|     Automatic|     Stainless Steel|    Silver|           null|Stainless Steel|               Un...|£22,600.00|         Price on...|               Or...|     S740|\n",
       "|    W841|               33 mm|        Quartz|     Stainless Steel|    Silver|Arabic Numerals|Stainless Steel|                 New|£21,000.00|             £33,984|               Or...|     S841|\n",
       "|    W901|               37 mm|     Automatic|      18ct Rose Gold|    Silver|         Batons|         Rubber|                 New|£44,700.00|             £68,747|               Or...|     S901|\n",
       "|    W287|               39...|     Automatic|     Stainless Steel|    Silver| Roman Numerals|Stainless Steel|               Ve...| £9,450.00|              $9,300|               Or...|     S287|\n",
       "|    W318|               20...|        Quartz|     Stainless Steel|    Silver| Roman Numerals|     Bicoloured|               Ve...| £5,100.00|              $2,051|               No...|     S318|\n",
       "|    W391|               30...|        Quartz|     Stainless Steel|    Silver| Roman Numerals|Stainless Steel|                 New| £3,500.00|              $4,226|               Or...|     S391|\n",
       "|    W532|               43 mm|     Automatic|Ceramic & Stainle...|     Brown|         Batons|         Rubber|               Un...|£34,100.00|             £51,177|               Or...|     S532|\n",
       "|    W756|               41 mm|     Automatic|      18ct Rose Gold|     Black|         Batons| 18ct Rose Gold|               Ve...|£52,800.00|            £129,682|               Or...|     S756|\n",
       "|    W827|               33 mm|        Quartz|     Stainless Steel|    Silver|Arabic Numerals|Stainless Steel|               Un...|£21,000.00|             £31,248|               Or...|     S827|\n",
       "|    W346|               39 mm|     Automatic|     Stainless Steel|      Grey| Roman Numerals|Stainless Steel|               Ve...| £6,600.00|              $7,950|               Or...|     S346|\n",
       "|    W493|               33 mm|        Quartz|     Stainless Steel|     Black|         Batons|Stainless Steel|                 New|£13,800.00|             £28,376|               Or...|     S493|\n",
       "|    W580|               43 mm|     Automatic|Ceramic & Stainle...|     Black|         Batons|         Rubber|                 New|£34,100.00|             £41,404|               Or...|     S580|\n",
       "|    W194|               20...|        Quartz|     Stainless Steel|    Silver| Roman Numerals|Stainless Steel|               Ve...| £2,970.00|              $2,491|               No...|     S194|\n",
       "|    W319|               20...|        Quartz|     Stainless Steel|    Silver| Roman Numerals|     Bicoloured|               Ve...| £5,100.00|              $2,267|               No...|     S319|\n",
       "|    W550|               34 mm|     Automatic|     Stainless Steel|    Silver|           null|Stainless Steel|               Ve...|£19,200.00|             £30,099|               Or...|     S550|\n",
       "|    W274|               39...|     Automatic|     Stainless Steel|    Silver| Roman Numerals|Stainless Steel|               Ve...| £9,450.00|              $9,545|               No...|     S274|\n",
       "|    W368|               39...|     Automatic|     Stainless Steel|      Grey| Roman Numerals|Stainless Steel|               Un...| £6,600.00|              $9,552|               Or...|     S368|\n",
       "|    W520|               43 mm|     Automatic|Ceramic & Stainle...|     Brown|         Batons|         Rubber|               Ve...|£34,100.00|             £48,375|               Or...|     S520|\n",
       "|    W564|               34 mm|     Automatic|     Stainless Steel|    Silver|           null|Stainless Steel|                 New|£19,200.00|             £26,822|               Or...|     S564|\n",
       "+--------+--------------------+--------------+--------------------+----------+---------------+---------------+--------------------+----------+--------------------+--------------------+---------+\n",
       "only showing top 20 rows"
      ]
     },
     "execution_count": 496,
     "metadata": {},
     "output_type": "execute_result"
    }
   ],
   "source": [
    "first_table"
   ]
  },
  {
   "cell_type": "code",
   "execution_count": 497,
   "metadata": {},
   "outputs": [],
   "source": [
    "# create a table by selecting certain features\n",
    "\n",
    "second_table = spark.sql('Select * from Seller s, Prices p where s.seller_id==p.seller_id')"
   ]
  },
  {
   "cell_type": "code",
   "execution_count": 498,
   "metadata": {},
   "outputs": [
    {
     "data": {
      "text/html": [
       "<table border='1'>\n",
       "<tr><th>seller_id</th><th>seller_location</th><th>seller_rating</th><th>watch_id</th><th>watch_reference</th><th>production_year</th><th>condition</th><th>price</th><th>aftermarket_price</th><th>box_and_papers</th><th>seller_id</th></tr>\n",
       "<tr><td>S68</td><td>               Un...</td><td>4.93</td><td>W68</td><td>WSSA0018</td><td>               2022</td><td>               New</td><td>£6,250.00</td><td>$7,699</td><td>               Or...</td><td>S68</td></tr>\n",
       "<tr><td>S501</td><td>               Un...</td><td>null</td><td>W501</td><td>26420SO.OO.A600CA.01</td><td>               2022</td><td>               New</td><td>£34,100.00</td><td>£45,154</td><td>               Or...</td><td>S501</td></tr>\n",
       "<tr><td>S599</td><td>               Ho...</td><td>4.95</td><td>W599</td><td>26420SO.OO.A002CA.01</td><td>               2022</td><td>               New</td><td>£34,100.00</td><td>£42,342</td><td>               Or...</td><td>S599</td></tr>\n",
       "<tr><td>S666</td><td>               Un...</td><td>4.93</td><td>W666</td><td>26420IO.OO.A009CA.01</td><td>               2021</td><td>               New</td><td>£34,100.00</td><td>£44,764</td><td>               Or...</td><td>S666</td></tr>\n",
       "<tr><td>S715</td><td>               Un...</td><td>4.91</td><td>W715</td><td>26420RO.OO.A002CA.01</td><td>               2021</td><td>               Un...</td><td>£51,100.00</td><td>£62,400</td><td>               Or...</td><td>S715</td></tr>\n",
       "<tr><td>S877</td><td>               Cz...</td><td>4.71</td><td>W877</td><td>26420TI.OO.A027CA.01</td><td>               2022</td><td>               Un...</td><td>£33,000.00</td><td>         Price on...</td><td>               Or...</td><td>S877</td></tr>\n",
       "<tr><td>S903</td><td>               Ch...</td><td>4.47</td><td>W903</td><td>26231OR.ZZ.D003CA.01</td><td>               2018</td><td>               Ve...</td><td>£44,700.00</td><td>£73,554</td><td>               Or...</td><td>S903</td></tr>\n",
       "<tr><td>S673</td><td>               It...</td><td>null</td><td>W673</td><td>26420IO.OO.A009CA.01</td><td>               2021</td><td>               Un...</td><td>£34,100.00</td><td>£48,864</td><td>               Or...</td><td>S673</td></tr>\n",
       "<tr><td>S759</td><td>               Un...</td><td>4.78</td><td>W759</td><td>15500OR.OO.1220OR.01</td><td>               -</td><td>               Un...</td><td>£52,800.00</td><td>£117,217</td><td>               Or...</td><td>S759</td></tr>\n",
       "<tr><td>S895</td><td>               Un...</td><td>4.96</td><td>W895</td><td>26231OR.ZZ.D003CA.01</td><td>               2022</td><td>               New</td><td>£44,700.00</td><td>£69,441</td><td>               Or...</td><td>S895</td></tr>\n",
       "<tr><td>S39</td><td>               Un...</td><td>4.86</td><td>W39</td><td>WSSA0018</td><td>               2021</td><td>               New</td><td>£6,250.00</td><td>$8,288</td><td>               Or...</td><td>S39</td></tr>\n",
       "<tr><td>S394</td><td>               Ja...</td><td>4.89</td><td>W394</td><td>WSTA0005</td><td>               -</td><td>               New</td><td>£3,500.00</td><td>$4,111</td><td>               Or...</td><td>S394</td></tr>\n",
       "<tr><td>S540</td><td>               Un...</td><td>4.89</td><td>W540</td><td>77351OR.ZZ.1261OR.01</td><td>               2022</td><td>               Ve...</td><td>£46,400.00</td><td>£59,995</td><td>               Or...</td><td>S540</td></tr>\n",
       "<tr><td>S60</td><td>               Ho...</td><td>4.96</td><td>W60</td><td>WSSA0018</td><td>               2021</td><td>               Un...</td><td>£6,250.00</td><td>$6,882</td><td>               Or...</td><td>S60</td></tr>\n",
       "<tr><td>S711</td><td>               Un...</td><td>4.92</td><td>W711</td><td>26420RO.OO.A002CA.01</td><td>               2021</td><td>               New</td><td>£51,100.00</td><td>£61,715</td><td>               Or...</td><td>S711</td></tr>\n",
       "<tr><td>S755</td><td>               Un...</td><td>4.97</td><td>W755</td><td>15500OR.OO.1220OR.01</td><td>               2022</td><td>               New</td><td>£52,800.00</td><td>         Price on...</td><td>               Or...</td><td>S755</td></tr>\n",
       "<tr><td>S871</td><td>               UA...</td><td>4.85</td><td>W871</td><td>26420TI.OO.A027CA.01</td><td>               2021</td><td>               New</td><td>£33,000.00</td><td>£44,529</td><td>               Or...</td><td>S871</td></tr>\n",
       "<tr><td>S892</td><td>               Ho...</td><td>4.77</td><td>W892</td><td>26231ST.ZZ.D002CA.01</td><td>               -</td><td>               New</td><td>£30,300.00</td><td>£43,836</td><td>               Or...</td><td>S892</td></tr>\n",
       "<tr><td>S320</td><td>               Ja...</td><td>4.88</td><td>W320</td><td>W51007Q4</td><td>               -</td><td>               New</td><td>£5,100.00</td><td>$5,938</td><td>               Or...</td><td>S320</td></tr>\n",
       "<tr><td>S626</td><td>               Un...</td><td>4.97</td><td>W626</td><td>15500OR.OO.D002CR.01</td><td>               2022</td><td>               New</td><td>£33,800.00</td><td>         Price on...</td><td>               Or...</td><td>S626</td></tr>\n",
       "</table>\n",
       "only showing top 20 rows\n"
      ],
      "text/plain": [
       "+---------+--------------------+-------------+--------+--------------------+-------------------+--------------------+----------+--------------------+--------------------+---------+\n",
       "|seller_id|     seller_location|seller_rating|watch_id|     watch_reference|    production_year|           condition|     price|   aftermarket_price|      box_and_papers|seller_id|\n",
       "+---------+--------------------+-------------+--------+--------------------+-------------------+--------------------+----------+--------------------+--------------------+---------+\n",
       "|      S68|               Un...|         4.93|     W68|            WSSA0018|               2022|                 New| £6,250.00|              $7,699|               Or...|      S68|\n",
       "|     S501|               Un...|         null|    W501|26420SO.OO.A600CA.01|               2022|                 New|£34,100.00|             £45,154|               Or...|     S501|\n",
       "|     S599|               Ho...|         4.95|    W599|26420SO.OO.A002CA.01|               2022|                 New|£34,100.00|             £42,342|               Or...|     S599|\n",
       "|     S666|               Un...|         4.93|    W666|26420IO.OO.A009CA.01|               2021|                 New|£34,100.00|             £44,764|               Or...|     S666|\n",
       "|     S715|               Un...|         4.91|    W715|26420RO.OO.A002CA.01|               2021|               Un...|£51,100.00|             £62,400|               Or...|     S715|\n",
       "|     S877|               Cz...|         4.71|    W877|26420TI.OO.A027CA.01|               2022|               Un...|£33,000.00|         Price on...|               Or...|     S877|\n",
       "|     S903|               Ch...|         4.47|    W903|26231OR.ZZ.D003CA.01|               2018|               Ve...|£44,700.00|             £73,554|               Or...|     S903|\n",
       "|     S673|               It...|         null|    W673|26420IO.OO.A009CA.01|               2021|               Un...|£34,100.00|             £48,864|               Or...|     S673|\n",
       "|     S759|               Un...|         4.78|    W759|15500OR.OO.1220OR.01|                  -|               Un...|£52,800.00|            £117,217|               Or...|     S759|\n",
       "|     S895|               Un...|         4.96|    W895|26231OR.ZZ.D003CA.01|               2022|                 New|£44,700.00|             £69,441|               Or...|     S895|\n",
       "|      S39|               Un...|         4.86|     W39|            WSSA0018|               2021|                 New| £6,250.00|              $8,288|               Or...|      S39|\n",
       "|     S394|               Ja...|         4.89|    W394|            WSTA0005|                  -|                 New| £3,500.00|              $4,111|               Or...|     S394|\n",
       "|     S540|               Un...|         4.89|    W540|77351OR.ZZ.1261OR.01|               2022|               Ve...|£46,400.00|             £59,995|               Or...|     S540|\n",
       "|      S60|               Ho...|         4.96|     W60|            WSSA0018|               2021|               Un...| £6,250.00|              $6,882|               Or...|      S60|\n",
       "|     S711|               Un...|         4.92|    W711|26420RO.OO.A002CA.01|               2021|                 New|£51,100.00|             £61,715|               Or...|     S711|\n",
       "|     S755|               Un...|         4.97|    W755|15500OR.OO.1220OR.01|               2022|                 New|£52,800.00|         Price on...|               Or...|     S755|\n",
       "|     S871|               UA...|         4.85|    W871|26420TI.OO.A027CA.01|               2021|                 New|£33,000.00|             £44,529|               Or...|     S871|\n",
       "|     S892|               Ho...|         4.77|    W892|26231ST.ZZ.D002CA.01|                  -|                 New|£30,300.00|             £43,836|               Or...|     S892|\n",
       "|     S320|               Ja...|         4.88|    W320|            W51007Q4|                  -|                 New| £5,100.00|              $5,938|               Or...|     S320|\n",
       "|     S626|               Un...|         4.97|    W626|15500OR.OO.D002CR.01|               2022|                 New|£33,800.00|         Price on...|               Or...|     S626|\n",
       "+---------+--------------------+-------------+--------+--------------------+-------------------+--------------------+----------+--------------------+--------------------+---------+\n",
       "only showing top 20 rows"
      ]
     },
     "execution_count": 498,
     "metadata": {},
     "output_type": "execute_result"
    }
   ],
   "source": [
    "second_table"
   ]
  },
  {
   "cell_type": "code",
   "execution_count": 499,
   "metadata": {},
   "outputs": [],
   "source": [
    "# create a TempView of the table created\n",
    "\n",
    "first_table.createOrReplaceTempView(\"Merged\")"
   ]
  },
  {
   "cell_type": "code",
   "execution_count": 500,
   "metadata": {},
   "outputs": [],
   "source": [
    "# merge tables to have a limited amount of characteristics with which to conduct future machine learning\n",
    "\n",
    "merged_table =  spark.sql('Select m.*, s.seller_rating from Merged m INNER JOIN Seller as s ON m.seller_id==s.seller_id')"
   ]
  },
  {
   "cell_type": "code",
   "execution_count": 501,
   "metadata": {},
   "outputs": [
    {
     "data": {
      "text/html": [
       "<table border='1'>\n",
       "<tr><th>watch_id</th><th>case_diameter</th><th>watch_movement</th><th>watch_case</th><th>watch_dial</th><th>watch_markers</th><th>watch_strap</th><th>condition</th><th>price</th><th>aftermarket_price</th><th>box_and_papers</th><th>seller_id</th><th>seller_rating</th></tr>\n",
       "<tr><td>W344</td><td>               39...</td><td>Automatic</td><td>Stainless Steel</td><td>Grey</td><td>Roman Numerals</td><td>Stainless Steel</td><td>               Ve...</td><td>£6,600.00</td><td>$6,795</td><td>               Or...</td><td>S344</td><td>null</td></tr>\n",
       "<tr><td>W740</td><td>               34 mm</td><td>Automatic</td><td>Stainless Steel</td><td>Silver</td><td>null</td><td>Stainless Steel</td><td>               Un...</td><td>£22,600.00</td><td>         Price on...</td><td>               Or...</td><td>S740</td><td>5</td></tr>\n",
       "<tr><td>W841</td><td>               33 mm</td><td>Quartz</td><td>Stainless Steel</td><td>Silver</td><td>Arabic Numerals</td><td>Stainless Steel</td><td>               New</td><td>£21,000.00</td><td>£33,984</td><td>               Or...</td><td>S841</td><td>4.6</td></tr>\n",
       "<tr><td>W901</td><td>               37 mm</td><td>Automatic</td><td>18ct Rose Gold</td><td>Silver</td><td>Batons</td><td>Rubber</td><td>               New</td><td>£44,700.00</td><td>£68,747</td><td>               Or...</td><td>S901</td><td>4.56</td></tr>\n",
       "<tr><td>W287</td><td>               39...</td><td>Automatic</td><td>Stainless Steel</td><td>Silver</td><td>Roman Numerals</td><td>Stainless Steel</td><td>               Ve...</td><td>£9,450.00</td><td>$9,300</td><td>               Or...</td><td>S287</td><td>4.95</td></tr>\n",
       "<tr><td>W318</td><td>               20...</td><td>Quartz</td><td>Stainless Steel</td><td>Silver</td><td>Roman Numerals</td><td>Bicoloured</td><td>               Ve...</td><td>£5,100.00</td><td>$2,051</td><td>               No...</td><td>S318</td><td>4.91</td></tr>\n",
       "<tr><td>W391</td><td>               30...</td><td>Quartz</td><td>Stainless Steel</td><td>Silver</td><td>Roman Numerals</td><td>Stainless Steel</td><td>               New</td><td>£3,500.00</td><td>$4,226</td><td>               Or...</td><td>S391</td><td>4.89</td></tr>\n",
       "<tr><td>W532</td><td>               43 mm</td><td>Automatic</td><td>Ceramic &amp; Stainle...</td><td>Brown</td><td>Batons</td><td>Rubber</td><td>               Un...</td><td>£34,100.00</td><td>£51,177</td><td>               Or...</td><td>S532</td><td>4.61</td></tr>\n",
       "<tr><td>W756</td><td>               41 mm</td><td>Automatic</td><td>18ct Rose Gold</td><td>Black</td><td>Batons</td><td>18ct Rose Gold</td><td>               Ve...</td><td>£52,800.00</td><td>£129,682</td><td>               Or...</td><td>S756</td><td>4.93</td></tr>\n",
       "<tr><td>W827</td><td>               33 mm</td><td>Quartz</td><td>Stainless Steel</td><td>Silver</td><td>Arabic Numerals</td><td>Stainless Steel</td><td>               Un...</td><td>£21,000.00</td><td>£31,248</td><td>               Or...</td><td>S827</td><td>4.92</td></tr>\n",
       "<tr><td>W346</td><td>               39 mm</td><td>Automatic</td><td>Stainless Steel</td><td>Grey</td><td>Roman Numerals</td><td>Stainless Steel</td><td>               Ve...</td><td>£6,600.00</td><td>$7,950</td><td>               Or...</td><td>S346</td><td>4.9</td></tr>\n",
       "<tr><td>W493</td><td>               33 mm</td><td>Quartz</td><td>Stainless Steel</td><td>Black</td><td>Batons</td><td>Stainless Steel</td><td>               New</td><td>£13,800.00</td><td>£28,376</td><td>               Or...</td><td>S493</td><td>4.85</td></tr>\n",
       "<tr><td>W580</td><td>               43 mm</td><td>Automatic</td><td>Ceramic &amp; Stainle...</td><td>Black</td><td>Batons</td><td>Rubber</td><td>               New</td><td>£34,100.00</td><td>£41,404</td><td>               Or...</td><td>S580</td><td>4.95</td></tr>\n",
       "<tr><td>W194</td><td>               20...</td><td>Quartz</td><td>Stainless Steel</td><td>Silver</td><td>Roman Numerals</td><td>Stainless Steel</td><td>               Ve...</td><td>£2,970.00</td><td>$2,491</td><td>               No...</td><td>S194</td><td>4.93</td></tr>\n",
       "<tr><td>W319</td><td>               20...</td><td>Quartz</td><td>Stainless Steel</td><td>Silver</td><td>Roman Numerals</td><td>Bicoloured</td><td>               Ve...</td><td>£5,100.00</td><td>$2,267</td><td>               No...</td><td>S319</td><td>4.79</td></tr>\n",
       "<tr><td>W550</td><td>               34 mm</td><td>Automatic</td><td>Stainless Steel</td><td>Silver</td><td>null</td><td>Stainless Steel</td><td>               Ve...</td><td>£19,200.00</td><td>£30,099</td><td>               Or...</td><td>S550</td><td>null</td></tr>\n",
       "<tr><td>W274</td><td>               39...</td><td>Automatic</td><td>Stainless Steel</td><td>Silver</td><td>Roman Numerals</td><td>Stainless Steel</td><td>               Ve...</td><td>£9,450.00</td><td>$9,545</td><td>               No...</td><td>S274</td><td>4.88</td></tr>\n",
       "<tr><td>W368</td><td>               39...</td><td>Automatic</td><td>Stainless Steel</td><td>Grey</td><td>Roman Numerals</td><td>Stainless Steel</td><td>               Un...</td><td>£6,600.00</td><td>$9,552</td><td>               Or...</td><td>S368</td><td>null</td></tr>\n",
       "<tr><td>W520</td><td>               43 mm</td><td>Automatic</td><td>Ceramic &amp; Stainle...</td><td>Brown</td><td>Batons</td><td>Rubber</td><td>               Ve...</td><td>£34,100.00</td><td>£48,375</td><td>               Or...</td><td>S520</td><td>4.73</td></tr>\n",
       "<tr><td>W564</td><td>               34 mm</td><td>Automatic</td><td>Stainless Steel</td><td>Silver</td><td>null</td><td>Stainless Steel</td><td>               New</td><td>£19,200.00</td><td>£26,822</td><td>               Or...</td><td>S564</td><td>null</td></tr>\n",
       "</table>\n",
       "only showing top 20 rows\n"
      ],
      "text/plain": [
       "+--------+--------------------+--------------+--------------------+----------+---------------+---------------+--------------------+----------+--------------------+--------------------+---------+-------------+\n",
       "|watch_id|       case_diameter|watch_movement|          watch_case|watch_dial|  watch_markers|    watch_strap|           condition|     price|   aftermarket_price|      box_and_papers|seller_id|seller_rating|\n",
       "+--------+--------------------+--------------+--------------------+----------+---------------+---------------+--------------------+----------+--------------------+--------------------+---------+-------------+\n",
       "|    W344|               39...|     Automatic|     Stainless Steel|      Grey| Roman Numerals|Stainless Steel|               Ve...| £6,600.00|              $6,795|               Or...|     S344|         null|\n",
       "|    W740|               34 mm|     Automatic|     Stainless Steel|    Silver|           null|Stainless Steel|               Un...|£22,600.00|         Price on...|               Or...|     S740|            5|\n",
       "|    W841|               33 mm|        Quartz|     Stainless Steel|    Silver|Arabic Numerals|Stainless Steel|                 New|£21,000.00|             £33,984|               Or...|     S841|          4.6|\n",
       "|    W901|               37 mm|     Automatic|      18ct Rose Gold|    Silver|         Batons|         Rubber|                 New|£44,700.00|             £68,747|               Or...|     S901|         4.56|\n",
       "|    W287|               39...|     Automatic|     Stainless Steel|    Silver| Roman Numerals|Stainless Steel|               Ve...| £9,450.00|              $9,300|               Or...|     S287|         4.95|\n",
       "|    W318|               20...|        Quartz|     Stainless Steel|    Silver| Roman Numerals|     Bicoloured|               Ve...| £5,100.00|              $2,051|               No...|     S318|         4.91|\n",
       "|    W391|               30...|        Quartz|     Stainless Steel|    Silver| Roman Numerals|Stainless Steel|                 New| £3,500.00|              $4,226|               Or...|     S391|         4.89|\n",
       "|    W532|               43 mm|     Automatic|Ceramic & Stainle...|     Brown|         Batons|         Rubber|               Un...|£34,100.00|             £51,177|               Or...|     S532|         4.61|\n",
       "|    W756|               41 mm|     Automatic|      18ct Rose Gold|     Black|         Batons| 18ct Rose Gold|               Ve...|£52,800.00|            £129,682|               Or...|     S756|         4.93|\n",
       "|    W827|               33 mm|        Quartz|     Stainless Steel|    Silver|Arabic Numerals|Stainless Steel|               Un...|£21,000.00|             £31,248|               Or...|     S827|         4.92|\n",
       "|    W346|               39 mm|     Automatic|     Stainless Steel|      Grey| Roman Numerals|Stainless Steel|               Ve...| £6,600.00|              $7,950|               Or...|     S346|          4.9|\n",
       "|    W493|               33 mm|        Quartz|     Stainless Steel|     Black|         Batons|Stainless Steel|                 New|£13,800.00|             £28,376|               Or...|     S493|         4.85|\n",
       "|    W580|               43 mm|     Automatic|Ceramic & Stainle...|     Black|         Batons|         Rubber|                 New|£34,100.00|             £41,404|               Or...|     S580|         4.95|\n",
       "|    W194|               20...|        Quartz|     Stainless Steel|    Silver| Roman Numerals|Stainless Steel|               Ve...| £2,970.00|              $2,491|               No...|     S194|         4.93|\n",
       "|    W319|               20...|        Quartz|     Stainless Steel|    Silver| Roman Numerals|     Bicoloured|               Ve...| £5,100.00|              $2,267|               No...|     S319|         4.79|\n",
       "|    W550|               34 mm|     Automatic|     Stainless Steel|    Silver|           null|Stainless Steel|               Ve...|£19,200.00|             £30,099|               Or...|     S550|         null|\n",
       "|    W274|               39...|     Automatic|     Stainless Steel|    Silver| Roman Numerals|Stainless Steel|               Ve...| £9,450.00|              $9,545|               No...|     S274|         4.88|\n",
       "|    W368|               39...|     Automatic|     Stainless Steel|      Grey| Roman Numerals|Stainless Steel|               Un...| £6,600.00|              $9,552|               Or...|     S368|         null|\n",
       "|    W520|               43 mm|     Automatic|Ceramic & Stainle...|     Brown|         Batons|         Rubber|               Ve...|£34,100.00|             £48,375|               Or...|     S520|         4.73|\n",
       "|    W564|               34 mm|     Automatic|     Stainless Steel|    Silver|           null|Stainless Steel|                 New|£19,200.00|             £26,822|               Or...|     S564|         null|\n",
       "+--------+--------------------+--------------+--------------------+----------+---------------+---------------+--------------------+----------+--------------------+--------------------+---------+-------------+\n",
       "only showing top 20 rows"
      ]
     },
     "execution_count": 501,
     "metadata": {},
     "output_type": "execute_result"
    }
   ],
   "source": [
    "merged_table"
   ]
  },
  {
   "cell_type": "code",
   "execution_count": 502,
   "metadata": {},
   "outputs": [],
   "source": [
    "# save the table as a csv for later use\n",
    "\n",
    "merged_table.toPandas().to_csv('merged_table.csv')"
   ]
  },
  {
   "cell_type": "code",
   "execution_count": null,
   "metadata": {},
   "outputs": [],
   "source": []
  }
 ],
 "metadata": {
  "kernelspec": {
   "display_name": "Python [conda env:Python3] *",
   "language": "python",
   "name": "conda-env-Python3-py"
  },
  "language_info": {
   "codemirror_mode": {
    "name": "ipython",
    "version": 3
   },
   "file_extension": ".py",
   "mimetype": "text/x-python",
   "name": "python",
   "nbconvert_exporter": "python",
   "pygments_lexer": "ipython3",
   "version": "3.8.2"
  }
 },
 "nbformat": 4,
 "nbformat_minor": 2
}
