{
 "cells": [
  {
   "cell_type": "code",
   "execution_count": 34,
   "metadata": {},
   "outputs": [],
   "source": [
    "import pandas as pd\n",
    "import numpy as np"
   ]
  },
  {
   "cell_type": "code",
   "execution_count": 35,
   "metadata": {},
   "outputs": [],
   "source": [
    "df = pd.read_csv(\"/project/information.csv\")"
   ]
  },
  {
   "cell_type": "code",
   "execution_count": 36,
   "metadata": {},
   "outputs": [
    {
     "data": {
      "text/html": [
       "<div>\n",
       "<style scoped>\n",
       "    .dataframe tbody tr th:only-of-type {\n",
       "        vertical-align: middle;\n",
       "    }\n",
       "\n",
       "    .dataframe tbody tr th {\n",
       "        vertical-align: top;\n",
       "    }\n",
       "\n",
       "    .dataframe thead th {\n",
       "        text-align: right;\n",
       "    }\n",
       "</style>\n",
       "<table border=\"1\" class=\"dataframe\">\n",
       "  <thead>\n",
       "    <tr style=\"text-align: right;\">\n",
       "      <th></th>\n",
       "      <th>Unnamed: 0</th>\n",
       "      <th>Brand</th>\n",
       "      <th>Type</th>\n",
       "      <th>Industry</th>\n",
       "      <th>Founded</th>\n",
       "      <th>Founder</th>\n",
       "      <th>Headquarters</th>\n",
       "      <th>Area served</th>\n",
       "      <th>Products</th>\n",
       "    </tr>\n",
       "  </thead>\n",
       "  <tbody>\n",
       "    <tr>\n",
       "      <th>0</th>\n",
       "      <td>1</td>\n",
       "      <td>Audemars Piguet</td>\n",
       "      <td>Private</td>\n",
       "      <td>Luxury watchmaking</td>\n",
       "      <td>1875; 147 years ago</td>\n",
       "      <td>Jules Louis Audemars &amp; Edward Auguste Piguet</td>\n",
       "      <td>Le Brassus, Switzerland</td>\n",
       "      <td>Worldwide</td>\n",
       "      <td>Mechanical watches, clocks, turbans</td>\n",
       "    </tr>\n",
       "    <tr>\n",
       "      <th>1</th>\n",
       "      <td>1</td>\n",
       "      <td>Cartier</td>\n",
       "      <td>Subsidiary</td>\n",
       "      <td>Jewellery manufacturing, Luxury watchmaking</td>\n",
       "      <td>1847; 175 years ago</td>\n",
       "      <td>Louis-François Cartier</td>\n",
       "      <td>Paris, France</td>\n",
       "      <td>Worldwide</td>\n",
       "      <td>Jewellery, watches</td>\n",
       "    </tr>\n",
       "  </tbody>\n",
       "</table>\n",
       "</div>"
      ],
      "text/plain": [
       "   Unnamed: 0            Brand        Type  \\\n",
       "0           1  Audemars Piguet     Private   \n",
       "1           1          Cartier  Subsidiary   \n",
       "\n",
       "                                      Industry              Founded  \\\n",
       "0                           Luxury watchmaking  1875; 147 years ago   \n",
       "1  Jewellery manufacturing, Luxury watchmaking  1847; 175 years ago   \n",
       "\n",
       "                                        Founder             Headquarters  \\\n",
       "0  Jules Louis Audemars & Edward Auguste Piguet  Le Brassus, Switzerland   \n",
       "1                        Louis-François Cartier            Paris, France   \n",
       "\n",
       "   Area served                             Products  \n",
       "0    Worldwide  Mechanical watches, clocks, turbans  \n",
       "1    Worldwide                   Jewellery, watches  "
      ]
     },
     "execution_count": 36,
     "metadata": {},
     "output_type": "execute_result"
    }
   ],
   "source": [
    "df"
   ]
  },
  {
   "cell_type": "code",
   "execution_count": 37,
   "metadata": {},
   "outputs": [],
   "source": [
    "df2 = pd.read_csv(\"/project/social_information.csv\")"
   ]
  },
  {
   "cell_type": "code",
   "execution_count": 38,
   "metadata": {},
   "outputs": [],
   "source": [
    "desc = df2[\"company_description\"]"
   ]
  },
  {
   "cell_type": "code",
   "execution_count": 39,
   "metadata": {},
   "outputs": [],
   "source": [
    "df = df.join(desc)"
   ]
  },
  {
   "cell_type": "code",
   "execution_count": 40,
   "metadata": {},
   "outputs": [],
   "source": [
    "df.drop(columns = [\"Unnamed: 0\"], inplace=True)"
   ]
  },
  {
   "cell_type": "code",
   "execution_count": 41,
   "metadata": {},
   "outputs": [],
   "source": [
    "df. columns = ['brand', 'company_type', 'industry', 'founded', 'founder', 'headquarters', 'area_served',\n",
    "              'products', 'company_description']"
   ]
  },
  {
   "cell_type": "code",
   "execution_count": 42,
   "metadata": {},
   "outputs": [
    {
     "data": {
      "text/html": [
       "<div>\n",
       "<style scoped>\n",
       "    .dataframe tbody tr th:only-of-type {\n",
       "        vertical-align: middle;\n",
       "    }\n",
       "\n",
       "    .dataframe tbody tr th {\n",
       "        vertical-align: top;\n",
       "    }\n",
       "\n",
       "    .dataframe thead th {\n",
       "        text-align: right;\n",
       "    }\n",
       "</style>\n",
       "<table border=\"1\" class=\"dataframe\">\n",
       "  <thead>\n",
       "    <tr style=\"text-align: right;\">\n",
       "      <th></th>\n",
       "      <th>brand</th>\n",
       "      <th>company_type</th>\n",
       "      <th>industry</th>\n",
       "      <th>founded</th>\n",
       "      <th>founder</th>\n",
       "      <th>headquarters</th>\n",
       "      <th>area_served</th>\n",
       "      <th>products</th>\n",
       "      <th>company_description</th>\n",
       "    </tr>\n",
       "  </thead>\n",
       "  <tbody>\n",
       "    <tr>\n",
       "      <th>0</th>\n",
       "      <td>Audemars Piguet</td>\n",
       "      <td>Private</td>\n",
       "      <td>Luxury watchmaking</td>\n",
       "      <td>1875; 147 years ago</td>\n",
       "      <td>Jules Louis Audemars &amp; Edward Auguste Piguet</td>\n",
       "      <td>Le Brassus, Switzerland</td>\n",
       "      <td>Worldwide</td>\n",
       "      <td>Mechanical watches, clocks, turbans</td>\n",
       "      <td>In 1875 Jules Louis Audemars, decided to join ...</td>\n",
       "    </tr>\n",
       "    <tr>\n",
       "      <th>1</th>\n",
       "      <td>Cartier</td>\n",
       "      <td>Subsidiary</td>\n",
       "      <td>Jewellery manufacturing, Luxury watchmaking</td>\n",
       "      <td>1847; 175 years ago</td>\n",
       "      <td>Louis-François Cartier</td>\n",
       "      <td>Paris, France</td>\n",
       "      <td>Worldwide</td>\n",
       "      <td>Jewellery, watches</td>\n",
       "      <td>Founded in 1847 in Paris, Cartier stands as on...</td>\n",
       "    </tr>\n",
       "  </tbody>\n",
       "</table>\n",
       "</div>"
      ],
      "text/plain": [
       "             brand company_type                                     industry  \\\n",
       "0  Audemars Piguet      Private                           Luxury watchmaking   \n",
       "1          Cartier   Subsidiary  Jewellery manufacturing, Luxury watchmaking   \n",
       "\n",
       "               founded                                       founder  \\\n",
       "0  1875; 147 years ago  Jules Louis Audemars & Edward Auguste Piguet   \n",
       "1  1847; 175 years ago                        Louis-François Cartier   \n",
       "\n",
       "              headquarters area_served                             products  \\\n",
       "0  Le Brassus, Switzerland   Worldwide  Mechanical watches, clocks, turbans   \n",
       "1            Paris, France   Worldwide                   Jewellery, watches   \n",
       "\n",
       "                                 company_description  \n",
       "0  In 1875 Jules Louis Audemars, decided to join ...  \n",
       "1  Founded in 1847 in Paris, Cartier stands as on...  "
      ]
     },
     "execution_count": 42,
     "metadata": {},
     "output_type": "execute_result"
    }
   ],
   "source": [
    "df"
   ]
  },
  {
   "cell_type": "code",
   "execution_count": 43,
   "metadata": {},
   "outputs": [],
   "source": [
    "df3 = pd.read_csv('/project/financial_information.csv')"
   ]
  },
  {
   "cell_type": "code",
   "execution_count": 44,
   "metadata": {},
   "outputs": [],
   "source": [
    "df3 = df3.reindex([1,0])"
   ]
  },
  {
   "cell_type": "code",
   "execution_count": 45,
   "metadata": {},
   "outputs": [],
   "source": [
    "df3.reset_index(inplace=True)"
   ]
  },
  {
   "cell_type": "code",
   "execution_count": 46,
   "metadata": {},
   "outputs": [
    {
     "data": {
      "text/html": [
       "<div>\n",
       "<style scoped>\n",
       "    .dataframe tbody tr th:only-of-type {\n",
       "        vertical-align: middle;\n",
       "    }\n",
       "\n",
       "    .dataframe tbody tr th {\n",
       "        vertical-align: top;\n",
       "    }\n",
       "\n",
       "    .dataframe thead th {\n",
       "        text-align: right;\n",
       "    }\n",
       "</style>\n",
       "<table border=\"1\" class=\"dataframe\">\n",
       "  <thead>\n",
       "    <tr style=\"text-align: right;\">\n",
       "      <th></th>\n",
       "      <th>index</th>\n",
       "      <th>Unnamed: 0</th>\n",
       "      <th>holding_company</th>\n",
       "      <th>employees</th>\n",
       "      <th>revenue</th>\n",
       "      <th>net_income_growth</th>\n",
       "      <th>enviornmental_social_governance_ranking</th>\n",
       "      <th>managing_director</th>\n",
       "      <th>board_chairman</th>\n",
       "      <th>director</th>\n",
       "      <th>subsidiaries</th>\n",
       "    </tr>\n",
       "  </thead>\n",
       "  <tbody>\n",
       "    <tr>\n",
       "      <th>0</th>\n",
       "      <td>1</td>\n",
       "      <td>1</td>\n",
       "      <td>Audemars Piguet Holding S.A.</td>\n",
       "      <td>900</td>\n",
       "      <td>$160.12 million</td>\n",
       "      <td>NaN</td>\n",
       "      <td>1.0</td>\n",
       "      <td>François-Henri Bennahmias</td>\n",
       "      <td>Jasmine Audemars</td>\n",
       "      <td>Nicolas Burgener</td>\n",
       "      <td>19 Subsidiaries</td>\n",
       "    </tr>\n",
       "    <tr>\n",
       "      <th>1</th>\n",
       "      <td>0</td>\n",
       "      <td>0</td>\n",
       "      <td>Compagnie Financiere Richemont Sa</td>\n",
       "      <td>34,760</td>\n",
       "      <td>$15.96 billion</td>\n",
       "      <td>39.44%</td>\n",
       "      <td>3.0</td>\n",
       "      <td>Jérôme Lambert</td>\n",
       "      <td>Johann Rupert</td>\n",
       "      <td>Cédric Bossert</td>\n",
       "      <td>145 Subsidiaries</td>\n",
       "    </tr>\n",
       "  </tbody>\n",
       "</table>\n",
       "</div>"
      ],
      "text/plain": [
       "   index  Unnamed: 0                    holding_company employees  \\\n",
       "0      1           1       Audemars Piguet Holding S.A.       900   \n",
       "1      0           0  Compagnie Financiere Richemont Sa    34,760   \n",
       "\n",
       "           revenue net_income_growth  enviornmental_social_governance_ranking  \\\n",
       "0  $160.12 million               NaN                                      1.0   \n",
       "1   $15.96 billion            39.44%                                      3.0   \n",
       "\n",
       "           managing_director    board_chairman          director  \\\n",
       "0  François-Henri Bennahmias  Jasmine Audemars  Nicolas Burgener   \n",
       "1             Jérôme Lambert     Johann Rupert    Cédric Bossert   \n",
       "\n",
       "       subsidiaries  \n",
       "0   19 Subsidiaries  \n",
       "1  145 Subsidiaries  "
      ]
     },
     "execution_count": 46,
     "metadata": {},
     "output_type": "execute_result"
    }
   ],
   "source": [
    "df3"
   ]
  },
  {
   "cell_type": "code",
   "execution_count": 47,
   "metadata": {},
   "outputs": [],
   "source": [
    "hc = df3['holding_company']"
   ]
  },
  {
   "cell_type": "code",
   "execution_count": 48,
   "metadata": {},
   "outputs": [],
   "source": [
    "df = df.join(hc)"
   ]
  },
  {
   "cell_type": "code",
   "execution_count": 49,
   "metadata": {},
   "outputs": [
    {
     "data": {
      "text/html": [
       "<div>\n",
       "<style scoped>\n",
       "    .dataframe tbody tr th:only-of-type {\n",
       "        vertical-align: middle;\n",
       "    }\n",
       "\n",
       "    .dataframe tbody tr th {\n",
       "        vertical-align: top;\n",
       "    }\n",
       "\n",
       "    .dataframe thead th {\n",
       "        text-align: right;\n",
       "    }\n",
       "</style>\n",
       "<table border=\"1\" class=\"dataframe\">\n",
       "  <thead>\n",
       "    <tr style=\"text-align: right;\">\n",
       "      <th></th>\n",
       "      <th>brand</th>\n",
       "      <th>company_type</th>\n",
       "      <th>industry</th>\n",
       "      <th>founded</th>\n",
       "      <th>founder</th>\n",
       "      <th>headquarters</th>\n",
       "      <th>area_served</th>\n",
       "      <th>products</th>\n",
       "      <th>company_description</th>\n",
       "      <th>holding_company</th>\n",
       "    </tr>\n",
       "  </thead>\n",
       "  <tbody>\n",
       "    <tr>\n",
       "      <th>0</th>\n",
       "      <td>Audemars Piguet</td>\n",
       "      <td>Private</td>\n",
       "      <td>Luxury watchmaking</td>\n",
       "      <td>1875; 147 years ago</td>\n",
       "      <td>Jules Louis Audemars &amp; Edward Auguste Piguet</td>\n",
       "      <td>Le Brassus, Switzerland</td>\n",
       "      <td>Worldwide</td>\n",
       "      <td>Mechanical watches, clocks, turbans</td>\n",
       "      <td>In 1875 Jules Louis Audemars, decided to join ...</td>\n",
       "      <td>Audemars Piguet Holding S.A.</td>\n",
       "    </tr>\n",
       "    <tr>\n",
       "      <th>1</th>\n",
       "      <td>Cartier</td>\n",
       "      <td>Subsidiary</td>\n",
       "      <td>Jewellery manufacturing, Luxury watchmaking</td>\n",
       "      <td>1847; 175 years ago</td>\n",
       "      <td>Louis-François Cartier</td>\n",
       "      <td>Paris, France</td>\n",
       "      <td>Worldwide</td>\n",
       "      <td>Jewellery, watches</td>\n",
       "      <td>Founded in 1847 in Paris, Cartier stands as on...</td>\n",
       "      <td>Compagnie Financiere Richemont Sa</td>\n",
       "    </tr>\n",
       "  </tbody>\n",
       "</table>\n",
       "</div>"
      ],
      "text/plain": [
       "             brand company_type                                     industry  \\\n",
       "0  Audemars Piguet      Private                           Luxury watchmaking   \n",
       "1          Cartier   Subsidiary  Jewellery manufacturing, Luxury watchmaking   \n",
       "\n",
       "               founded                                       founder  \\\n",
       "0  1875; 147 years ago  Jules Louis Audemars & Edward Auguste Piguet   \n",
       "1  1847; 175 years ago                        Louis-François Cartier   \n",
       "\n",
       "              headquarters area_served                             products  \\\n",
       "0  Le Brassus, Switzerland   Worldwide  Mechanical watches, clocks, turbans   \n",
       "1            Paris, France   Worldwide                   Jewellery, watches   \n",
       "\n",
       "                                 company_description  \\\n",
       "0  In 1875 Jules Louis Audemars, decided to join ...   \n",
       "1  Founded in 1847 in Paris, Cartier stands as on...   \n",
       "\n",
       "                     holding_company  \n",
       "0       Audemars Piguet Holding S.A.  \n",
       "1  Compagnie Financiere Richemont Sa  "
      ]
     },
     "execution_count": 49,
     "metadata": {},
     "output_type": "execute_result"
    }
   ],
   "source": [
    "df"
   ]
  },
  {
   "cell_type": "code",
   "execution_count": 50,
   "metadata": {},
   "outputs": [],
   "source": [
    "df.to_parquet('more_information.parquet')"
   ]
  },
  {
   "cell_type": "code",
   "execution_count": null,
   "metadata": {},
   "outputs": [],
   "source": []
  }
 ],
 "metadata": {
  "kernelspec": {
   "display_name": "Python [conda env:Python3] *",
   "language": "python",
   "name": "conda-env-Python3-py"
  },
  "language_info": {
   "codemirror_mode": {
    "name": "ipython",
    "version": 3
   },
   "file_extension": ".py",
   "mimetype": "text/x-python",
   "name": "python",
   "nbconvert_exporter": "python",
   "pygments_lexer": "ipython3",
   "version": "3.8.2"
  }
 },
 "nbformat": 4,
 "nbformat_minor": 2
}
