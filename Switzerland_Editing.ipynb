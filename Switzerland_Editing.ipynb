{
 "cells": [
  {
   "cell_type": "code",
   "execution_count": 1,
   "id": "6adb5ffa",
   "metadata": {},
   "outputs": [],
   "source": [
    "import pandas as pd\n",
    "import numpy as np"
   ]
  },
  {
   "cell_type": "code",
   "execution_count": 2,
   "id": "0b853d46",
   "metadata": {},
   "outputs": [],
   "source": [
    "df = pd.read_csv('watches.csv')"
   ]
  },
  {
   "cell_type": "code",
   "execution_count": 4,
   "id": "b0f1c1f7",
   "metadata": {},
   "outputs": [],
   "source": [
    "df.drop(columns = ['Unnamed: 0'], inplace=True)"
   ]
  },
  {
   "cell_type": "code",
   "execution_count": 6,
   "id": "023f3f8f",
   "metadata": {},
   "outputs": [],
   "source": [
    "df['watch_reference'] = df['watch_reference'].str.split('/').str[0]"
   ]
  },
  {
   "cell_type": "code",
   "execution_count": 8,
   "id": "aea4081c",
   "metadata": {},
   "outputs": [],
   "source": [
    "df.to_parquet('watches.parquet')"
   ]
  },
  {
   "cell_type": "code",
   "execution_count": 9,
   "id": "aa3bd732",
   "metadata": {},
   "outputs": [],
   "source": [
    "df.to_csv('watches.csv')"
   ]
  },
  {
   "cell_type": "code",
   "execution_count": null,
   "id": "9382069a",
   "metadata": {},
   "outputs": [],
   "source": []
  }
 ],
 "metadata": {
  "kernelspec": {
   "display_name": "Python 3 (ipykernel)",
   "language": "python",
   "name": "python3"
  },
  "language_info": {
   "codemirror_mode": {
    "name": "ipython",
    "version": 3
   },
   "file_extension": ".py",
   "mimetype": "text/x-python",
   "name": "python",
   "nbconvert_exporter": "python",
   "pygments_lexer": "ipython3",
   "version": "3.9.7"
  }
 },
 "nbformat": 4,
 "nbformat_minor": 5
}
