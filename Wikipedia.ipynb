{
 "cells": [
  {
   "cell_type": "code",
   "execution_count": 1,
   "id": "58dfd6a8",
   "metadata": {},
   "outputs": [],
   "source": [
    "#!pip install config\n",
    "#!pip install beautifulsoup4\n",
    "\n",
    "import pandas as pd\n",
    "import numpy as np\n",
    "import requests\n",
    "import bs4\n",
    "import urllib3\n",
    "import config\n",
    "import time\n",
    "from bs4 import BeautifulSoup as soup\n",
    "from urllib.request import urlopen as uReq\n",
    "\n",
    "# Remove request warnings\n",
    "urllib3.disable_warnings()\n",
    "\n",
    "agent = {\"User-Agent\":\"Mozilla/5.0\"}"
   ]
  },
  {
   "cell_type": "code",
   "execution_count": 2,
   "id": "b2754216",
   "metadata": {},
   "outputs": [
    {
     "data": {
      "text/html": [
       "<div>\n",
       "<style scoped>\n",
       "    .dataframe tbody tr th:only-of-type {\n",
       "        vertical-align: middle;\n",
       "    }\n",
       "\n",
       "    .dataframe tbody tr th {\n",
       "        vertical-align: top;\n",
       "    }\n",
       "\n",
       "    .dataframe thead th {\n",
       "        text-align: right;\n",
       "    }\n",
       "</style>\n",
       "<table border=\"1\" class=\"dataframe\">\n",
       "  <thead>\n",
       "    <tr style=\"text-align: right;\">\n",
       "      <th></th>\n",
       "      <th>0</th>\n",
       "      <th>1</th>\n",
       "      <th>2</th>\n",
       "      <th>3</th>\n",
       "      <th>4</th>\n",
       "      <th>5</th>\n",
       "      <th>6</th>\n",
       "      <th>7</th>\n",
       "      <th>8</th>\n",
       "      <th>9</th>\n",
       "      <th>10</th>\n",
       "      <th>11</th>\n",
       "      <th>12</th>\n",
       "      <th>13</th>\n",
       "    </tr>\n",
       "  </thead>\n",
       "  <tbody>\n",
       "    <tr>\n",
       "      <th>0</th>\n",
       "      <td>NaN</td>\n",
       "      <td>Type</td>\n",
       "      <td>Industry</td>\n",
       "      <td>Founded</td>\n",
       "      <td>Founders</td>\n",
       "      <td>Headquarters</td>\n",
       "      <td>Area served</td>\n",
       "      <td>Key people</td>\n",
       "      <td>Products</td>\n",
       "      <td>Production output</td>\n",
       "      <td>Revenue</td>\n",
       "      <td>Number of employees</td>\n",
       "      <td>Subsidiaries</td>\n",
       "      <td>Website</td>\n",
       "    </tr>\n",
       "    <tr>\n",
       "      <th>1</th>\n",
       "      <td>NaN</td>\n",
       "      <td>Private</td>\n",
       "      <td>Luxury watchmaking</td>\n",
       "      <td>1875; 147 years ago</td>\n",
       "      <td>Jules Louis AudemarsEdward Auguste Piguet</td>\n",
       "      <td>Le Brassus, Switzerland</td>\n",
       "      <td>Worldwide</td>\n",
       "      <td>Jasmine Audemars-Dhaliwal (Chair) Olivier Aude...</td>\n",
       "      <td>Mechanical watches, clocks, turbans</td>\n",
       "      <td>40,000 (2018)</td>\n",
       "      <td>1.1 billion CHF (2018)</td>\n",
       "      <td>1450[1]</td>\n",
       "      <td>Renaud &amp; Papi SACentror SA</td>\n",
       "      <td>www.audemarspiguet.com</td>\n",
       "    </tr>\n",
       "  </tbody>\n",
       "</table>\n",
       "</div>"
      ],
      "text/plain": [
       "    0        1                   2                    3   \\\n",
       "0  NaN     Type            Industry              Founded   \n",
       "1  NaN  Private  Luxury watchmaking  1875; 147 years ago   \n",
       "\n",
       "                                          4                        5   \\\n",
       "0                                   Founders             Headquarters   \n",
       "1  Jules Louis AudemarsEdward Auguste Piguet  Le Brassus, Switzerland   \n",
       "\n",
       "            6                                                  7   \\\n",
       "0  Area served                                         Key people   \n",
       "1    Worldwide  Jasmine Audemars-Dhaliwal (Chair) Olivier Aude...   \n",
       "\n",
       "                                    8                  9   \\\n",
       "0                             Products  Production output   \n",
       "1  Mechanical watches, clocks, turbans      40,000 (2018)   \n",
       "\n",
       "                       10                   11                          12  \\\n",
       "0                 Revenue  Number of employees                Subsidiaries   \n",
       "1  1.1 billion CHF (2018)              1450[1]  Renaud & Papi SACentror SA   \n",
       "\n",
       "                       13  \n",
       "0                 Website  \n",
       "1  www.audemarspiguet.com  "
      ]
     },
     "execution_count": 2,
     "metadata": {},
     "output_type": "execute_result"
    }
   ],
   "source": [
    "APlink = \"https://en.wikipedia.org/wiki/Audemars_Piguet\"\n",
    "APaccess = requests.get(APlink, verify=False, headers=agent)\n",
    "time.sleep(1)\n",
    "APpage_soup = soup(APaccess.text, 'html.parser')   \n",
    "# find the table of information for each watch\n",
    "time.sleep(1)\n",
    "APtable = APpage_soup.find_all('table')\n",
    "APdf = pd.read_html(str(APtable))[0]\n",
    "# transpose the table\n",
    "APdf = APdf.T\n",
    "# only get the second row\n",
    "\n",
    "APdf        "
   ]
  },
  {
   "cell_type": "code",
   "execution_count": 17,
   "id": "53348d18",
   "metadata": {},
   "outputs": [
    {
     "data": {
      "text/html": [
       "<div>\n",
       "<style scoped>\n",
       "    .dataframe tbody tr th:only-of-type {\n",
       "        vertical-align: middle;\n",
       "    }\n",
       "\n",
       "    .dataframe tbody tr th {\n",
       "        vertical-align: top;\n",
       "    }\n",
       "\n",
       "    .dataframe thead th {\n",
       "        text-align: right;\n",
       "    }\n",
       "</style>\n",
       "<table border=\"1\" class=\"dataframe\">\n",
       "  <thead>\n",
       "    <tr style=\"text-align: right;\">\n",
       "      <th></th>\n",
       "      <th>0</th>\n",
       "      <th>1</th>\n",
       "      <th>2</th>\n",
       "      <th>3</th>\n",
       "      <th>4</th>\n",
       "      <th>5</th>\n",
       "      <th>6</th>\n",
       "      <th>7</th>\n",
       "      <th>8</th>\n",
       "      <th>9</th>\n",
       "      <th>10</th>\n",
       "      <th>11</th>\n",
       "    </tr>\n",
       "  </thead>\n",
       "  <tbody>\n",
       "    <tr>\n",
       "      <th>0</th>\n",
       "      <td>NaN</td>\n",
       "      <td>Type</td>\n",
       "      <td>Industry</td>\n",
       "      <td>Founded</td>\n",
       "      <td>Founder</td>\n",
       "      <td>Headquarters</td>\n",
       "      <td>Area served</td>\n",
       "      <td>Key people</td>\n",
       "      <td>Products</td>\n",
       "      <td>Revenue</td>\n",
       "      <td>Parent</td>\n",
       "      <td>Website</td>\n",
       "    </tr>\n",
       "    <tr>\n",
       "      <th>1</th>\n",
       "      <td>NaN</td>\n",
       "      <td>Subsidiary</td>\n",
       "      <td>Jewellery manufacturing,watchmaking</td>\n",
       "      <td>1847; 175 years ago</td>\n",
       "      <td>Louis-François Cartier</td>\n",
       "      <td>Paris, France</td>\n",
       "      <td>Worldwide</td>\n",
       "      <td>Cyrille Vigneron (CEO)</td>\n",
       "      <td>Jewellery, watches</td>\n",
       "      <td>$6.1 billion (2016)[1]</td>\n",
       "      <td>Richemont</td>\n",
       "      <td>cartier.com</td>\n",
       "    </tr>\n",
       "  </tbody>\n",
       "</table>\n",
       "</div>"
      ],
      "text/plain": [
       "    0           1                                    2                    3   \\\n",
       "0  NaN        Type                             Industry              Founded   \n",
       "1  NaN  Subsidiary  Jewellery manufacturing,watchmaking  1847; 175 years ago   \n",
       "\n",
       "                       4              5            6                       7   \\\n",
       "0                 Founder   Headquarters  Area served              Key people   \n",
       "1  Louis-François Cartier  Paris, France    Worldwide  Cyrille Vigneron (CEO)   \n",
       "\n",
       "                   8                       9          10           11  \n",
       "0            Products                 Revenue     Parent      Website  \n",
       "1  Jewellery, watches  $6.1 billion (2016)[1]  Richemont  cartier.com  "
      ]
     },
     "execution_count": 17,
     "metadata": {},
     "output_type": "execute_result"
    }
   ],
   "source": [
    "Clink = \"https://en.wikipedia.org/wiki/Cartier_(jeweler)\"\n",
    "Caccess = requests.get(Clink, verify=False, headers=agent)\n",
    "time.sleep(1)\n",
    "Cpage_soup = soup(Caccess.text, 'html.parser')   \n",
    "# find the table of information for each watch\n",
    "time.sleep(1)\n",
    "Ctable = Cpage_soup.find_all('table')\n",
    "Cdf = pd.read_html(str(Ctable))[0]\n",
    "# transpose the table\n",
    "Cdf = Cdf.T\n",
    "# only get the second row\n",
    "\n",
    "Cdf        "
   ]
  },
  {
   "cell_type": "code",
   "execution_count": 18,
   "id": "577bcb26",
   "metadata": {},
   "outputs": [],
   "source": [
    "new_header = [['Brand','Type', 'Industry', 'Founded', 'Founder', 'Headquarters', \n",
    "              ' Area served', 'Key people', 'Products', 'Revenue', 'Parent', 'Website' ]] \n",
    "Cdf = Cdf[1:] #take the data less the header row\n",
    "Cdf.columns = new_header"
   ]
  },
  {
   "cell_type": "code",
   "execution_count": 19,
   "id": "3046b473",
   "metadata": {},
   "outputs": [
    {
     "data": {
      "text/html": [
       "<div>\n",
       "<style scoped>\n",
       "    .dataframe tbody tr th:only-of-type {\n",
       "        vertical-align: middle;\n",
       "    }\n",
       "\n",
       "    .dataframe tbody tr th {\n",
       "        vertical-align: top;\n",
       "    }\n",
       "\n",
       "    .dataframe thead tr th {\n",
       "        text-align: left;\n",
       "    }\n",
       "</style>\n",
       "<table border=\"1\" class=\"dataframe\">\n",
       "  <thead>\n",
       "    <tr>\n",
       "      <th></th>\n",
       "      <th>Brand</th>\n",
       "      <th>Type</th>\n",
       "      <th>Industry</th>\n",
       "      <th>Founded</th>\n",
       "      <th>Founder</th>\n",
       "      <th>Headquarters</th>\n",
       "      <th>Area served</th>\n",
       "      <th>Key people</th>\n",
       "      <th>Products</th>\n",
       "      <th>Revenue</th>\n",
       "      <th>Parent</th>\n",
       "      <th>Website</th>\n",
       "    </tr>\n",
       "  </thead>\n",
       "  <tbody>\n",
       "    <tr>\n",
       "      <th>1</th>\n",
       "      <td>NaN</td>\n",
       "      <td>Subsidiary</td>\n",
       "      <td>Jewellery manufacturing,watchmaking</td>\n",
       "      <td>1847; 175 years ago</td>\n",
       "      <td>Louis-François Cartier</td>\n",
       "      <td>Paris, France</td>\n",
       "      <td>Worldwide</td>\n",
       "      <td>Cyrille Vigneron (CEO)</td>\n",
       "      <td>Jewellery, watches</td>\n",
       "      <td>$6.1 billion (2016)[1]</td>\n",
       "      <td>Richemont</td>\n",
       "      <td>cartier.com</td>\n",
       "    </tr>\n",
       "  </tbody>\n",
       "</table>\n",
       "</div>"
      ],
      "text/plain": [
       "  Brand        Type                             Industry              Founded  \\\n",
       "1   NaN  Subsidiary  Jewellery manufacturing,watchmaking  1847; 175 years ago   \n",
       "\n",
       "                  Founder   Headquarters  Area served              Key people  \\\n",
       "1  Louis-François Cartier  Paris, France    Worldwide  Cyrille Vigneron (CEO)   \n",
       "\n",
       "             Products                 Revenue     Parent      Website  \n",
       "1  Jewellery, watches  $6.1 billion (2016)[1]  Richemont  cartier.com  "
      ]
     },
     "execution_count": 19,
     "metadata": {},
     "output_type": "execute_result"
    }
   ],
   "source": [
    "Cdf"
   ]
  },
  {
   "cell_type": "code",
   "execution_count": 20,
   "id": "f0080ef1",
   "metadata": {},
   "outputs": [
    {
     "name": "stderr",
     "output_type": "stream",
     "text": [
      "/Users/cirillogirardi/opt/anaconda3/lib/python3.9/site-packages/pandas/core/generic.py:4150: PerformanceWarning: dropping on a non-lexsorted multi-index without a level parameter may impact performance.\n",
      "  obj = obj._drop_axis(labels, axis, level=level, errors=errors)\n",
      "/Users/cirillogirardi/opt/anaconda3/lib/python3.9/site-packages/pandas/core/frame.py:4906: SettingWithCopyWarning: \n",
      "A value is trying to be set on a copy of a slice from a DataFrame\n",
      "\n",
      "See the caveats in the documentation: https://pandas.pydata.org/pandas-docs/stable/user_guide/indexing.html#returning-a-view-versus-a-copy\n",
      "  return super().drop(\n"
     ]
    }
   ],
   "source": [
    "Cdf.drop(['Key people', 'Revenue', 'Parent', 'Website'], axis=1, inplace=True)"
   ]
  },
  {
   "cell_type": "code",
   "execution_count": 21,
   "id": "7e2b9a49",
   "metadata": {},
   "outputs": [
    {
     "data": {
      "text/html": [
       "<div>\n",
       "<style scoped>\n",
       "    .dataframe tbody tr th:only-of-type {\n",
       "        vertical-align: middle;\n",
       "    }\n",
       "\n",
       "    .dataframe tbody tr th {\n",
       "        vertical-align: top;\n",
       "    }\n",
       "\n",
       "    .dataframe thead tr th {\n",
       "        text-align: left;\n",
       "    }\n",
       "</style>\n",
       "<table border=\"1\" class=\"dataframe\">\n",
       "  <thead>\n",
       "    <tr>\n",
       "      <th></th>\n",
       "      <th>Brand</th>\n",
       "      <th>Type</th>\n",
       "      <th>Industry</th>\n",
       "      <th>Founded</th>\n",
       "      <th>Founder</th>\n",
       "      <th>Headquarters</th>\n",
       "      <th>Area served</th>\n",
       "      <th>Products</th>\n",
       "    </tr>\n",
       "  </thead>\n",
       "  <tbody>\n",
       "    <tr>\n",
       "      <th>1</th>\n",
       "      <td>NaN</td>\n",
       "      <td>Subsidiary</td>\n",
       "      <td>Jewellery manufacturing,watchmaking</td>\n",
       "      <td>1847; 175 years ago</td>\n",
       "      <td>Louis-François Cartier</td>\n",
       "      <td>Paris, France</td>\n",
       "      <td>Worldwide</td>\n",
       "      <td>Jewellery, watches</td>\n",
       "    </tr>\n",
       "  </tbody>\n",
       "</table>\n",
       "</div>"
      ],
      "text/plain": [
       "  Brand        Type                             Industry              Founded  \\\n",
       "1   NaN  Subsidiary  Jewellery manufacturing,watchmaking  1847; 175 years ago   \n",
       "\n",
       "                  Founder   Headquarters  Area served            Products  \n",
       "1  Louis-François Cartier  Paris, France    Worldwide  Jewellery, watches  "
      ]
     },
     "execution_count": 21,
     "metadata": {},
     "output_type": "execute_result"
    }
   ],
   "source": [
    "Cdf"
   ]
  },
  {
   "cell_type": "code",
   "execution_count": 25,
   "id": "5e1f2508",
   "metadata": {},
   "outputs": [
    {
     "name": "stderr",
     "output_type": "stream",
     "text": [
      "/var/folders/t8/_1lw_ywx6bzftgb05dh9ty280000gn/T/ipykernel_26281/3538608980.py:1: SettingWithCopyWarning: \n",
      "A value is trying to be set on a copy of a slice from a DataFrame.\n",
      "Try using .loc[row_indexer,col_indexer] = value instead\n",
      "\n",
      "See the caveats in the documentation: https://pandas.pydata.org/pandas-docs/stable/user_guide/indexing.html#returning-a-view-versus-a-copy\n",
      "  Cdf['Brand'] = Cdf['Brand'].replace(np.nan, 'Cartier')\n"
     ]
    }
   ],
   "source": [
    "Cdf['Brand'] = Cdf['Brand'].replace(np.nan, 'Cartier')"
   ]
  },
  {
   "cell_type": "code",
   "execution_count": 26,
   "id": "71e58f10",
   "metadata": {},
   "outputs": [
    {
     "data": {
      "text/html": [
       "<div>\n",
       "<style scoped>\n",
       "    .dataframe tbody tr th:only-of-type {\n",
       "        vertical-align: middle;\n",
       "    }\n",
       "\n",
       "    .dataframe tbody tr th {\n",
       "        vertical-align: top;\n",
       "    }\n",
       "\n",
       "    .dataframe thead tr th {\n",
       "        text-align: left;\n",
       "    }\n",
       "</style>\n",
       "<table border=\"1\" class=\"dataframe\">\n",
       "  <thead>\n",
       "    <tr>\n",
       "      <th></th>\n",
       "      <th>Brand</th>\n",
       "      <th>Type</th>\n",
       "      <th>Industry</th>\n",
       "      <th>Founded</th>\n",
       "      <th>Founder</th>\n",
       "      <th>Headquarters</th>\n",
       "      <th>Area served</th>\n",
       "      <th>Products</th>\n",
       "    </tr>\n",
       "  </thead>\n",
       "  <tbody>\n",
       "    <tr>\n",
       "      <th>1</th>\n",
       "      <td>Cartier</td>\n",
       "      <td>Subsidiary</td>\n",
       "      <td>Jewellery manufacturing,watchmaking</td>\n",
       "      <td>1847; 175 years ago</td>\n",
       "      <td>Louis-François Cartier</td>\n",
       "      <td>Paris, France</td>\n",
       "      <td>Worldwide</td>\n",
       "      <td>Jewellery, watches</td>\n",
       "    </tr>\n",
       "  </tbody>\n",
       "</table>\n",
       "</div>"
      ],
      "text/plain": [
       "     Brand        Type                             Industry  \\\n",
       "1  Cartier  Subsidiary  Jewellery manufacturing,watchmaking   \n",
       "\n",
       "               Founded                 Founder   Headquarters  Area served  \\\n",
       "1  1847; 175 years ago  Louis-François Cartier  Paris, France    Worldwide   \n",
       "\n",
       "             Products  \n",
       "1  Jewellery, watches  "
      ]
     },
     "execution_count": 26,
     "metadata": {},
     "output_type": "execute_result"
    }
   ],
   "source": [
    "Cdf"
   ]
  },
  {
   "cell_type": "code",
   "execution_count": 28,
   "id": "46e52bf0",
   "metadata": {},
   "outputs": [
    {
     "data": {
      "text/html": [
       "<div>\n",
       "<style scoped>\n",
       "    .dataframe tbody tr th:only-of-type {\n",
       "        vertical-align: middle;\n",
       "    }\n",
       "\n",
       "    .dataframe tbody tr th {\n",
       "        vertical-align: top;\n",
       "    }\n",
       "\n",
       "    .dataframe thead tr th {\n",
       "        text-align: left;\n",
       "    }\n",
       "</style>\n",
       "<table border=\"1\" class=\"dataframe\">\n",
       "  <thead>\n",
       "    <tr>\n",
       "      <th></th>\n",
       "      <th>Brand</th>\n",
       "      <th>Type</th>\n",
       "      <th>Industry</th>\n",
       "      <th>Founded</th>\n",
       "      <th>Founder</th>\n",
       "      <th>Headquarters</th>\n",
       "      <th>Area served</th>\n",
       "      <th>Key people</th>\n",
       "      <th>Products</th>\n",
       "      <th>Production output</th>\n",
       "      <th>Revenue</th>\n",
       "      <th>Number of employees</th>\n",
       "      <th>Subsidiaries</th>\n",
       "      <th>Website</th>\n",
       "    </tr>\n",
       "  </thead>\n",
       "  <tbody>\n",
       "    <tr>\n",
       "      <th>1</th>\n",
       "      <td>NaN</td>\n",
       "      <td>Private</td>\n",
       "      <td>Luxury watchmaking</td>\n",
       "      <td>1875; 147 years ago</td>\n",
       "      <td>Jules Louis AudemarsEdward Auguste Piguet</td>\n",
       "      <td>Le Brassus, Switzerland</td>\n",
       "      <td>Worldwide</td>\n",
       "      <td>Jasmine Audemars-Dhaliwal (Chair) Olivier Aude...</td>\n",
       "      <td>Mechanical watches, clocks, turbans</td>\n",
       "      <td>40,000 (2018)</td>\n",
       "      <td>1.1 billion CHF (2018)</td>\n",
       "      <td>1450[1]</td>\n",
       "      <td>Renaud &amp; Papi SACentror SA</td>\n",
       "      <td>www.audemarspiguet.com</td>\n",
       "    </tr>\n",
       "  </tbody>\n",
       "</table>\n",
       "</div>"
      ],
      "text/plain": [
       "  Brand     Type            Industry              Founded  \\\n",
       "1   NaN  Private  Luxury watchmaking  1875; 147 years ago   \n",
       "\n",
       "                                     Founder             Headquarters  \\\n",
       "1  Jules Louis AudemarsEdward Auguste Piguet  Le Brassus, Switzerland   \n",
       "\n",
       "   Area served                                         Key people  \\\n",
       "1    Worldwide  Jasmine Audemars-Dhaliwal (Chair) Olivier Aude...   \n",
       "\n",
       "                              Products Production output  \\\n",
       "1  Mechanical watches, clocks, turbans     40,000 (2018)   \n",
       "\n",
       "                  Revenue Number of employees                Subsidiaries  \\\n",
       "1  1.1 billion CHF (2018)             1450[1]  Renaud & Papi SACentror SA   \n",
       "\n",
       "                  Website  \n",
       "1  www.audemarspiguet.com  "
      ]
     },
     "execution_count": 28,
     "metadata": {},
     "output_type": "execute_result"
    }
   ],
   "source": [
    "new_header = [['Brand','Type', 'Industry', 'Founded', 'Founder', 'Headquarters', \n",
    "              ' Area served', 'Key people', 'Products', 'Production output', 'Revenue', 'Number of employees', \n",
    "               'Subsidiaries', 'Website' ]]\n",
    "\n",
    "APdf = APdf[1:] #take the data less the header row\n",
    "APdf.columns = new_header   \n",
    "APdf"
   ]
  },
  {
   "cell_type": "code",
   "execution_count": 29,
   "id": "73b5e2d1",
   "metadata": {},
   "outputs": [
    {
     "name": "stderr",
     "output_type": "stream",
     "text": [
      "/var/folders/t8/_1lw_ywx6bzftgb05dh9ty280000gn/T/ipykernel_26281/161173199.py:1: SettingWithCopyWarning: \n",
      "A value is trying to be set on a copy of a slice from a DataFrame.\n",
      "Try using .loc[row_indexer,col_indexer] = value instead\n",
      "\n",
      "See the caveats in the documentation: https://pandas.pydata.org/pandas-docs/stable/user_guide/indexing.html#returning-a-view-versus-a-copy\n",
      "  APdf['Brand'] = APdf['Brand'].replace(np.nan, 'Audemars Piguet')\n"
     ]
    }
   ],
   "source": [
    "APdf['Brand'] = APdf['Brand'].replace(np.nan, 'Audemars Piguet')"
   ]
  },
  {
   "cell_type": "code",
   "execution_count": 31,
   "id": "c3f6804b",
   "metadata": {},
   "outputs": [
    {
     "name": "stderr",
     "output_type": "stream",
     "text": [
      "/Users/cirillogirardi/opt/anaconda3/lib/python3.9/site-packages/pandas/core/generic.py:4150: PerformanceWarning: dropping on a non-lexsorted multi-index without a level parameter may impact performance.\n",
      "  obj = obj._drop_axis(labels, axis, level=level, errors=errors)\n",
      "/Users/cirillogirardi/opt/anaconda3/lib/python3.9/site-packages/pandas/core/frame.py:4906: SettingWithCopyWarning: \n",
      "A value is trying to be set on a copy of a slice from a DataFrame\n",
      "\n",
      "See the caveats in the documentation: https://pandas.pydata.org/pandas-docs/stable/user_guide/indexing.html#returning-a-view-versus-a-copy\n",
      "  return super().drop(\n"
     ]
    }
   ],
   "source": [
    "APdf.drop(['Key people', 'Production output', 'Revenue', 'Number of employees', 'Subsidiaries', 'Website'], axis=1, inplace=True)"
   ]
  },
  {
   "cell_type": "code",
   "execution_count": 35,
   "id": "022dee02",
   "metadata": {},
   "outputs": [
    {
     "name": "stderr",
     "output_type": "stream",
     "text": [
      "/var/folders/t8/_1lw_ywx6bzftgb05dh9ty280000gn/T/ipykernel_26281/3728094666.py:1: SettingWithCopyWarning: \n",
      "A value is trying to be set on a copy of a slice from a DataFrame.\n",
      "Try using .loc[row_indexer,col_indexer] = value instead\n",
      "\n",
      "See the caveats in the documentation: https://pandas.pydata.org/pandas-docs/stable/user_guide/indexing.html#returning-a-view-versus-a-copy\n",
      "  APdf['Founder'] = APdf['Founder'].replace('Jules Louis AudemarsEdward Auguste Piguet', 'Jules Louis Audemars & Edward Auguste Piguet')\n"
     ]
    }
   ],
   "source": [
    "APdf['Founder'] = APdf['Founder'].replace('Jules Louis AudemarsEdward Auguste Piguet', 'Jules Louis Audemars & Edward Auguste Piguet')"
   ]
  },
  {
   "cell_type": "code",
   "execution_count": 57,
   "id": "c0930a42",
   "metadata": {},
   "outputs": [
    {
     "name": "stderr",
     "output_type": "stream",
     "text": [
      "/var/folders/t8/_1lw_ywx6bzftgb05dh9ty280000gn/T/ipykernel_26281/2227706561.py:1: SettingWithCopyWarning: \n",
      "A value is trying to be set on a copy of a slice from a DataFrame.\n",
      "Try using .loc[row_indexer,col_indexer] = value instead\n",
      "\n",
      "See the caveats in the documentation: https://pandas.pydata.org/pandas-docs/stable/user_guide/indexing.html#returning-a-view-versus-a-copy\n",
      "  Cdf['Industry'] = Cdf['Industry'].replace('Jewellery manufacturing,watchmaking', 'Jewellery manufacturing, Luxury watchmaking')\n"
     ]
    }
   ],
   "source": [
    "Cdf['Industry'] = Cdf['Industry'].replace('Jewellery manufacturing,watchmaking', 'Jewellery manufacturing, Luxury watchmaking')\n",
    "\n"
   ]
  },
  {
   "cell_type": "code",
   "execution_count": 58,
   "id": "99a61a1e",
   "metadata": {},
   "outputs": [
    {
     "data": {
      "text/html": [
       "<div>\n",
       "<style scoped>\n",
       "    .dataframe tbody tr th:only-of-type {\n",
       "        vertical-align: middle;\n",
       "    }\n",
       "\n",
       "    .dataframe tbody tr th {\n",
       "        vertical-align: top;\n",
       "    }\n",
       "\n",
       "    .dataframe thead tr th {\n",
       "        text-align: left;\n",
       "    }\n",
       "</style>\n",
       "<table border=\"1\" class=\"dataframe\">\n",
       "  <thead>\n",
       "    <tr>\n",
       "      <th></th>\n",
       "      <th>Brand</th>\n",
       "      <th>Type</th>\n",
       "      <th>Industry</th>\n",
       "      <th>Founded</th>\n",
       "      <th>Founder</th>\n",
       "      <th>Headquarters</th>\n",
       "      <th>Area served</th>\n",
       "      <th>Products</th>\n",
       "    </tr>\n",
       "  </thead>\n",
       "  <tbody>\n",
       "    <tr>\n",
       "      <th>1</th>\n",
       "      <td>Cartier</td>\n",
       "      <td>Subsidiary</td>\n",
       "      <td>Jewellery manufacturing, Luxury watchmaking</td>\n",
       "      <td>1847; 175 years ago</td>\n",
       "      <td>Louis-François Cartier</td>\n",
       "      <td>Paris, France</td>\n",
       "      <td>Worldwide</td>\n",
       "      <td>Jewellery, watches</td>\n",
       "    </tr>\n",
       "  </tbody>\n",
       "</table>\n",
       "</div>"
      ],
      "text/plain": [
       "     Brand        Type                                     Industry  \\\n",
       "1  Cartier  Subsidiary  Jewellery manufacturing, Luxury watchmaking   \n",
       "\n",
       "               Founded                 Founder   Headquarters  Area served  \\\n",
       "1  1847; 175 years ago  Louis-François Cartier  Paris, France    Worldwide   \n",
       "\n",
       "             Products  \n",
       "1  Jewellery, watches  "
      ]
     },
     "execution_count": 58,
     "metadata": {},
     "output_type": "execute_result"
    }
   ],
   "source": [
    "Cdf"
   ]
  },
  {
   "cell_type": "code",
   "execution_count": 59,
   "id": "a1cc161f",
   "metadata": {},
   "outputs": [],
   "source": [
    "information = APdf.append(Cdf)"
   ]
  },
  {
   "cell_type": "code",
   "execution_count": 61,
   "id": "1cf3a807",
   "metadata": {},
   "outputs": [],
   "source": [
    "information.to_csv('information.csv')"
   ]
  },
  {
   "cell_type": "code",
   "execution_count": 62,
   "id": "bc8e9d8c",
   "metadata": {},
   "outputs": [],
   "source": [
    "information.to_parquet('information.parquet')"
   ]
  },
  {
   "cell_type": "code",
   "execution_count": null,
   "id": "1b94ac84",
   "metadata": {},
   "outputs": [],
   "source": []
  }
 ],
 "metadata": {
  "kernelspec": {
   "display_name": "Python 3 (ipykernel)",
   "language": "python",
   "name": "python3"
  },
  "language_info": {
   "codemirror_mode": {
    "name": "ipython",
    "version": 3
   },
   "file_extension": ".py",
   "mimetype": "text/x-python",
   "name": "python",
   "nbconvert_exporter": "python",
   "pygments_lexer": "ipython3",
   "version": "3.9.7"
  }
 },
 "nbformat": 4,
 "nbformat_minor": 5
}
